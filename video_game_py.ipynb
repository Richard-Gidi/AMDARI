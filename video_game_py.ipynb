{
  "nbformat": 4,
  "nbformat_minor": 0,
  "metadata": {
    "colab": {
      "provenance": [],
      "authorship_tag": "ABX9TyMxVdb/pKcPCPw1k6T7/5eP",
      "include_colab_link": true
    },
    "kernelspec": {
      "name": "python3",
      "display_name": "Python 3"
    },
    "language_info": {
      "name": "python"
    }
  },
  "cells": [
    {
      "cell_type": "markdown",
      "metadata": {
        "id": "view-in-github",
        "colab_type": "text"
      },
      "source": [
        "<a href=\"https://colab.research.google.com/github/Richard-Gidi/AMDARI/blob/main/video_game_py.ipynb\" target=\"_parent\"><img src=\"https://colab.research.google.com/assets/colab-badge.svg\" alt=\"Open In Colab\"/></a>"
      ]
    },
    {
      "cell_type": "code",
      "source": [
        "#!pip install streamlit"
      ],
      "metadata": {
        "id": "i81886yQRjfO"
      },
      "execution_count": 3,
      "outputs": []
    },
    {
      "cell_type": "code",
      "source": [
        "from google.colab import drive\n",
        "\n",
        "\n",
        "# Mount our drive to the working space\n",
        "drive.mount('/content/gdrive')"
      ],
      "metadata": {
        "colab": {
          "base_uri": "https://localhost:8080/"
        },
        "id": "kVlplcOZnPS8",
        "outputId": "2fe9d137-c7b2-44ab-f889-f6af33e2f636"
      },
      "execution_count": 1,
      "outputs": [
        {
          "output_type": "stream",
          "name": "stdout",
          "text": [
            "Mounted at /content/gdrive\n"
          ]
        }
      ]
    },
    {
      "cell_type": "code",
      "source": [
        "import streamlit as st\n",
        "import joblib\n",
        "import pandas as pd\n",
        "import pickle"
      ],
      "metadata": {
        "id": "h64L1xd_MND1"
      },
      "execution_count": 4,
      "outputs": []
    },
    {
      "cell_type": "code",
      "source": [],
      "metadata": {
        "id": "QhsJ9CMxnLYr"
      },
      "execution_count": null,
      "outputs": []
    },
    {
      "cell_type": "code",
      "source": [
        "# Load the trained model\n",
        "model = joblib.load('/content/gdrive/MyDrive/AMDARI/Forecasting Video Games Inventory Sales/arima_model.pkl')"
      ],
      "metadata": {
        "id": "oXkrSoM3MQeY"
      },
      "execution_count": 5,
      "outputs": []
    },
    {
      "cell_type": "code",
      "execution_count": 6,
      "metadata": {
        "id": "IvSCRHTlMIVG",
        "colab": {
          "base_uri": "https://localhost:8080/",
          "height": 332
        },
        "outputId": "3aca6022-c652-4dba-927e-c9b48dfc6c5f"
      },
      "outputs": [
        {
          "output_type": "error",
          "ename": "FileNotFoundError",
          "evalue": "[Errno 2] No such file or directory: 'Video/models/arima_model.pkl'",
          "traceback": [
            "\u001b[0;31m---------------------------------------------------------------------------\u001b[0m",
            "\u001b[0;31mFileNotFoundError\u001b[0m                         Traceback (most recent call last)",
            "\u001b[0;32m<ipython-input-6-3a1bb5ee505d>\u001b[0m in \u001b[0;36m<cell line: 0>\u001b[0;34m()\u001b[0m\n\u001b[1;32m      5\u001b[0m \u001b[0;32mfrom\u001b[0m \u001b[0mdatetime\u001b[0m \u001b[0;32mimport\u001b[0m \u001b[0mdatetime\u001b[0m\u001b[0;34m,\u001b[0m \u001b[0mtimedelta\u001b[0m\u001b[0;34m\u001b[0m\u001b[0;34m\u001b[0m\u001b[0m\n\u001b[1;32m      6\u001b[0m \u001b[0;31m# Load the trained model\u001b[0m\u001b[0;34m\u001b[0m\u001b[0;34m\u001b[0m\u001b[0m\n\u001b[0;32m----> 7\u001b[0;31m \u001b[0mmodel\u001b[0m \u001b[0;34m=\u001b[0m \u001b[0mjoblib\u001b[0m\u001b[0;34m.\u001b[0m\u001b[0mload\u001b[0m\u001b[0;34m(\u001b[0m\u001b[0;34m'Video/models/arima_model.pkl'\u001b[0m\u001b[0;34m)\u001b[0m\u001b[0;34m\u001b[0m\u001b[0;34m\u001b[0m\u001b[0m\n\u001b[0m\u001b[1;32m      8\u001b[0m \u001b[0;34m\u001b[0m\u001b[0m\n\u001b[1;32m      9\u001b[0m \u001b[0;31m# Set page configuration\u001b[0m\u001b[0;34m\u001b[0m\u001b[0;34m\u001b[0m\u001b[0m\n",
            "\u001b[0;32m/usr/local/lib/python3.11/dist-packages/joblib/numpy_pickle.py\u001b[0m in \u001b[0;36mload\u001b[0;34m(filename, mmap_mode)\u001b[0m\n\u001b[1;32m    648\u001b[0m             \u001b[0mobj\u001b[0m \u001b[0;34m=\u001b[0m \u001b[0m_unpickle\u001b[0m\u001b[0;34m(\u001b[0m\u001b[0mfobj\u001b[0m\u001b[0;34m)\u001b[0m\u001b[0;34m\u001b[0m\u001b[0;34m\u001b[0m\u001b[0m\n\u001b[1;32m    649\u001b[0m     \u001b[0;32melse\u001b[0m\u001b[0;34m:\u001b[0m\u001b[0;34m\u001b[0m\u001b[0;34m\u001b[0m\u001b[0m\n\u001b[0;32m--> 650\u001b[0;31m         \u001b[0;32mwith\u001b[0m \u001b[0mopen\u001b[0m\u001b[0;34m(\u001b[0m\u001b[0mfilename\u001b[0m\u001b[0;34m,\u001b[0m \u001b[0;34m'rb'\u001b[0m\u001b[0;34m)\u001b[0m \u001b[0;32mas\u001b[0m \u001b[0mf\u001b[0m\u001b[0;34m:\u001b[0m\u001b[0;34m\u001b[0m\u001b[0;34m\u001b[0m\u001b[0m\n\u001b[0m\u001b[1;32m    651\u001b[0m             \u001b[0;32mwith\u001b[0m \u001b[0m_read_fileobject\u001b[0m\u001b[0;34m(\u001b[0m\u001b[0mf\u001b[0m\u001b[0;34m,\u001b[0m \u001b[0mfilename\u001b[0m\u001b[0;34m,\u001b[0m \u001b[0mmmap_mode\u001b[0m\u001b[0;34m)\u001b[0m \u001b[0;32mas\u001b[0m \u001b[0mfobj\u001b[0m\u001b[0;34m:\u001b[0m\u001b[0;34m\u001b[0m\u001b[0;34m\u001b[0m\u001b[0m\n\u001b[1;32m    652\u001b[0m                 \u001b[0;32mif\u001b[0m \u001b[0misinstance\u001b[0m\u001b[0;34m(\u001b[0m\u001b[0mfobj\u001b[0m\u001b[0;34m,\u001b[0m \u001b[0mstr\u001b[0m\u001b[0;34m)\u001b[0m\u001b[0;34m:\u001b[0m\u001b[0;34m\u001b[0m\u001b[0;34m\u001b[0m\u001b[0m\n",
            "\u001b[0;31mFileNotFoundError\u001b[0m: [Errno 2] No such file or directory: 'Video/models/arima_model.pkl'"
          ]
        }
      ],
      "source": [
        "import streamlit as st\n",
        "import pickle\n",
        "import pandas as pd\n",
        "import plotly.graph_objects as go\n",
        "from datetime import datetime, timedelta\n",
        "# Load the trained model\n",
        "model = joblib.load('Video/models/arima_model.pkl')\n",
        "\n",
        "# Set page configuration\n",
        "st.set_page_config(\n",
        "    page_title=\"Video Game Sales Forecast\",\n",
        "    layout=\"wide\"\n",
        ")\n",
        "\n",
        "# Add title and description\n",
        "st.title(\"📊 Video Game Sales Forecast\")\n",
        "st.markdown(\"### ARIMA Model Predictions\")\n",
        "\n",
        "\n",
        "\n",
        "\n",
        "def create_forecast_plot(predictions, start_date):\n",
        "    # Create dates for x-axis\n",
        "    dates = [start_date + timedelta(days=30*i) for i in range(len(predictions))]\n",
        "\n",
        "    # Create the plot\n",
        "    fig = go.Figure()\n",
        "\n",
        "    fig.add_trace(go.Scatter(\n",
        "        x=dates,\n",
        "        y=predictions,\n",
        "        mode='lines+markers',\n",
        "        name='Forecast',\n",
        "        line=dict(color='#1f77b4', width=2),\n",
        "        marker=dict(size=8)\n",
        "    ))\n",
        "\n",
        "    fig.update_layout(\n",
        "        title='Sales Forecast',\n",
        "        xaxis_title='Date',\n",
        "        yaxis_title='Predicted Sales ($)',\n",
        "        template='plotly_white',\n",
        "        hovermode='x unified'\n",
        "    )\n",
        "\n",
        "    return fig\n",
        "\n",
        "# Main app\n",
        "def main():\n",
        "\n",
        "    if model:\n",
        "        # Create two columns\n",
        "        col1, col2 = st.columns([1, 2])\n",
        "\n",
        "        with col1:\n",
        "            # Add input for number of months\n",
        "            months = st.slider(\n",
        "                \"Number of months to forecast\",\n",
        "                min_value=1,\n",
        "                max_value=12,\n",
        "                value=3,\n",
        "                help=\"Select the number of months you want to forecast\"\n",
        "            )\n",
        "\n",
        "            if st.button(\"Generate Forecast\"):\n",
        "                try:\n",
        "                    # Make predictions\n",
        "                    forecast = model.forecast(steps=months)\n",
        "                    predictions = [round(float(x), 2) for x in forecast]\n",
        "\n",
        "                    # Display predictions in a table\n",
        "                    df_predictions = pd.DataFrame({\n",
        "                        'Month': range(1, months + 1),\n",
        "                        'Predicted Sales ($)': predictions\n",
        "                    })\n",
        "                    st.dataframe(df_predictions, use_container_width=True)\n",
        "\n",
        "                    # Create and display plot in the second column\n",
        "                    with col2:\n",
        "                        start_date = datetime.now()\n",
        "                        fig = create_forecast_plot(predictions, start_date)\n",
        "                        st.plotly_chart(fig, use_container_width=True)\n",
        "\n",
        "                except Exception as e:\n",
        "                    st.error(f\"Error generating forecast: {str(e)}\")\n",
        "\n",
        "        # Add information about the model\n",
        "        with st.expander(\"ℹ️ Model Information\"):\n",
        "            st.write(\"This application uses an ARIMA model trained on historical video game sales data.\")\n",
        "            st.write(\"The model was trained using historical sales data and can forecast future sales trends.\")\n",
        "            # Get model specification if available\n",
        "            try:\n",
        "                spec = model.specification\n",
        "                st.write(\"Model specification:\", spec)\n",
        "            except:\n",
        "                st.write(\"Model specification not available.\")\n",
        "\n",
        "    else:\n",
        "        st.warning(\"Please make sure the ARIMA model file (arima_model.pkl) is in the same directory as this script.\")\n",
        "\n",
        "if __name__ == \"__main__\":\n",
        "    main()"
      ]
    },
    {
      "cell_type": "code",
      "source": [],
      "metadata": {
        "id": "imU_76bDnhbk"
      },
      "execution_count": null,
      "outputs": []
    }
  ]
}