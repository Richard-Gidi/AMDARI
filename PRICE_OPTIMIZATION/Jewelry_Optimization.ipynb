{
  "nbformat": 4,
  "nbformat_minor": 0,
  "metadata": {
    "colab": {
      "provenance": [],
      "authorship_tag": "ABX9TyOM+Yb6oiyGQ+O0k+JpXHmj",
      "include_colab_link": true
    },
    "kernelspec": {
      "name": "python3",
      "display_name": "Python 3"
    },
    "language_info": {
      "name": "python"
    }
  },
  "cells": [
    {
      "cell_type": "markdown",
      "metadata": {
        "id": "view-in-github",
        "colab_type": "text"
      },
      "source": [
        "<a href=\"https://colab.research.google.com/github/Richard-Gidi/AMDARI/blob/main/PRICE_OPTIMIZATION/Jewelry_Optimization.ipynb\" target=\"_parent\"><img src=\"https://colab.research.google.com/assets/colab-badge.svg\" alt=\"Open In Colab\"/></a>"
      ]
    },
    {
      "cell_type": "markdown",
      "source": [
        "# Problem Definition\n",
        "\n",
        "## Business Context\n",
        "- **Company**: Gemineye, a luxury jewelry retailer.\n",
        "- **Industry**: Luxury goods and jewelry.\n",
        "- **Challenge**: Inefficient pricing strategies leading to overpricing, underpricing, and inability to dynamically adjust prices based on market trends and customer preferences.\n",
        "\n",
        "## Goals\n",
        "- Develop a data-driven pricing model to predict optimal jewelry prices.\n",
        "- Implement dynamic pricing strategies to maximize revenue and profit margins.\n",
        "- Improve customer satisfaction by offering competitive and fair prices.\n",
        "\n",
        "---\n",
        "\n",
        "\n",
        "## Dataset Overview\n",
        "The dataset includes the following columns:\n",
        "\n",
        "- **Order_datetime**: Timestamp of the order.\n",
        "- **Order_ID**: Unique identifier for each order.\n",
        "- **Product_ID**: Unique identifier for each product.\n",
        "- **Quantity_of_SKU**: Quantity of the product sold.\n",
        "- **Category_ID**: Identifier for the product category.\n",
        "- **Category**: Name of the product category.\n",
        "- **Brand_ID**: Identifier for the brand.\n",
        "- **Price_USD**: Price of the product in USD (target variable).\n",
        "- **User_ID**: Unique identifier for the customer.\n",
        "- **Gender**: Gender of the customer.\n",
        "- **Main_color**: Primary color of the jewelry.\n",
        "- **Main_metal**: Primary metal used in the jewelry.\n",
        "- **Main_gem**: Primary gemstone used in the jewelry.\n"
      ],
      "metadata": {
        "id": "pXnFf9xkMVBS"
      }
    },
    {
      "cell_type": "code",
      "execution_count": null,
      "metadata": {
        "id": "6qOavXrRLvkT",
        "collapsed": true
      },
      "outputs": [],
      "source": [
        "#!pip install mlflow\n",
        "#!pip install pyngrok"
      ]
    },
    {
      "cell_type": "code",
      "source": [
        "from google.colab import drive\n",
        "\n",
        "\n",
        "# Mount our drive to the working space\n",
        "drive.mount('/content/gdrive')"
      ],
      "metadata": {
        "colab": {
          "base_uri": "https://localhost:8080/"
        },
        "id": "dDZLA1hFLwCl",
        "outputId": "ae3360cc-5650-4ceb-ccee-e6aa15492b88"
      },
      "execution_count": 1,
      "outputs": [
        {
          "output_type": "stream",
          "name": "stdout",
          "text": [
            "Mounted at /content/gdrive\n"
          ]
        }
      ]
    },
    {
      "cell_type": "markdown",
      "source": [
        "# Importing Relevant Libraries"
      ],
      "metadata": {
        "id": "gAkwdX4TPdk6"
      }
    },
    {
      "cell_type": "markdown",
      "source": [
        "Data Analysis"
      ],
      "metadata": {
        "id": "eUJ2XW1iT9eG"
      }
    },
    {
      "cell_type": "code",
      "source": [
        "#Importing Relevant Libraries\n",
        "import pandas as pd\n",
        "import numpy as np\n",
        "import matplotlib.pyplot as plt\n",
        "import seaborn as sns\n",
        "import warnings\n",
        "warnings.filterwarnings('ignore')\n",
        "from scipy.stats import spearmanr\n",
        "import joblib #save our model\n"
      ],
      "metadata": {
        "id": "WuUOM6A4MOuR"
      },
      "execution_count": 2,
      "outputs": []
    },
    {
      "cell_type": "markdown",
      "source": [
        "ML tracking"
      ],
      "metadata": {
        "id": "sS3cKMAZUA-c"
      }
    },
    {
      "cell_type": "code",
      "source": [
        "import mlflow\n",
        "import mlflow.sklearn\n",
        "import subprocess\n",
        "from pyngrok import ngrok, conf\n",
        "import getpass"
      ],
      "metadata": {
        "id": "nhlu5IoKPIEB"
      },
      "execution_count": null,
      "outputs": []
    },
    {
      "cell_type": "markdown",
      "source": [
        "Machine learning"
      ],
      "metadata": {
        "id": "KAeq3EvjUEY9"
      }
    },
    {
      "cell_type": "code",
      "source": [
        "from sklearn.model_selection import train_test_split\n",
        "from sklearn.linear_model import LinearRegression\n",
        "from sklearn.metrics import mean_squared_error, r2_score\n",
        "from sklearn.ensemble import RandomForestRegressor\n",
        "import tensorflow as tf\n",
        "from tensorflow.keras.models import Sequential\n",
        "from tensorflow.keras.layers import Dense"
      ],
      "metadata": {
        "id": "ZnZlmcPpPMzU"
      },
      "execution_count": 3,
      "outputs": []
    },
    {
      "cell_type": "markdown",
      "source": [
        "### Loading and Displaying of Data"
      ],
      "metadata": {
        "id": "Bf1PlzI7Ph9V"
      }
    },
    {
      "cell_type": "code",
      "source": [
        "#Load the data\n",
        "original_data = pd.read_csv(\"/content/gdrive/MyDrive/AMDARI/Jewelry Price Optimization/Jewelry_Dataset.csv\")"
      ],
      "metadata": {
        "id": "8Trgjdb7L9xR"
      },
      "execution_count": 89,
      "outputs": []
    },
    {
      "cell_type": "code",
      "source": [
        "#View the data\n",
        "original_data.head(5)"
      ],
      "metadata": {
        "colab": {
          "base_uri": "https://localhost:8080/",
          "height": 539
        },
        "id": "rr2PAKQGMvd5",
        "outputId": "36bd898f-aa88-4a1d-853f-719e32ba0aa7"
      },
      "execution_count": 90,
      "outputs": [
        {
          "output_type": "execute_result",
          "data": {
            "text/plain": [
              "   2018-12-01 11:40:29 UTC  1924719191579951782  1842195256808833386  1  \\\n",
              "0  2018-12-01 17:38:31 UTC  1924899396621697920  1806829193678291446  1   \n",
              "1  2018-12-02 13:53:42 UTC  1925511016616034733  1842214461889315556  1   \n",
              "2  2018-12-02 17:44:02 UTC  1925626951238681511  1835566849434059453  1   \n",
              "3  2018-12-02 21:30:19 UTC  1925740842841014667  1873936840742928865  1   \n",
              "4  2018-12-02 22:09:34 UTC  1925760595336888995  1835566854827934449  1   \n",
              "\n",
              "   1806829201890738522   jewelry.earring    0  561.51  1515915625207851155  \\\n",
              "0         1.806829e+18               NaN  NaN  212.14         1.515916e+18   \n",
              "1         1.806829e+18   jewelry.pendant  1.0   54.66         1.515916e+18   \n",
              "2         1.806829e+18   jewelry.pendant  0.0   88.90         1.515916e+18   \n",
              "3         1.806829e+18  jewelry.necklace  0.0  417.67         1.515916e+18   \n",
              "4         1.806829e+18   jewelry.earring  1.0  102.27         1.515916e+18   \n",
              "\n",
              "  Unnamed: 9     red  gold   diamond  \n",
              "0        NaN  yellow  gold       NaN  \n",
              "1          f   white  gold  sapphire  \n",
              "2          f     red  gold   diamond  \n",
              "3        NaN     red  gold  amethyst  \n",
              "4        NaN     red  gold       NaN  "
            ],
            "text/html": [
              "\n",
              "  <div id=\"df-0bd963df-969e-4bc8-9667-35eb162f04b9\" class=\"colab-df-container\">\n",
              "    <div>\n",
              "<style scoped>\n",
              "    .dataframe tbody tr th:only-of-type {\n",
              "        vertical-align: middle;\n",
              "    }\n",
              "\n",
              "    .dataframe tbody tr th {\n",
              "        vertical-align: top;\n",
              "    }\n",
              "\n",
              "    .dataframe thead th {\n",
              "        text-align: right;\n",
              "    }\n",
              "</style>\n",
              "<table border=\"1\" class=\"dataframe\">\n",
              "  <thead>\n",
              "    <tr style=\"text-align: right;\">\n",
              "      <th></th>\n",
              "      <th>2018-12-01 11:40:29 UTC</th>\n",
              "      <th>1924719191579951782</th>\n",
              "      <th>1842195256808833386</th>\n",
              "      <th>1</th>\n",
              "      <th>1806829201890738522</th>\n",
              "      <th>jewelry.earring</th>\n",
              "      <th>0</th>\n",
              "      <th>561.51</th>\n",
              "      <th>1515915625207851155</th>\n",
              "      <th>Unnamed: 9</th>\n",
              "      <th>red</th>\n",
              "      <th>gold</th>\n",
              "      <th>diamond</th>\n",
              "    </tr>\n",
              "  </thead>\n",
              "  <tbody>\n",
              "    <tr>\n",
              "      <th>0</th>\n",
              "      <td>2018-12-01 17:38:31 UTC</td>\n",
              "      <td>1924899396621697920</td>\n",
              "      <td>1806829193678291446</td>\n",
              "      <td>1</td>\n",
              "      <td>1.806829e+18</td>\n",
              "      <td>NaN</td>\n",
              "      <td>NaN</td>\n",
              "      <td>212.14</td>\n",
              "      <td>1.515916e+18</td>\n",
              "      <td>NaN</td>\n",
              "      <td>yellow</td>\n",
              "      <td>gold</td>\n",
              "      <td>NaN</td>\n",
              "    </tr>\n",
              "    <tr>\n",
              "      <th>1</th>\n",
              "      <td>2018-12-02 13:53:42 UTC</td>\n",
              "      <td>1925511016616034733</td>\n",
              "      <td>1842214461889315556</td>\n",
              "      <td>1</td>\n",
              "      <td>1.806829e+18</td>\n",
              "      <td>jewelry.pendant</td>\n",
              "      <td>1.0</td>\n",
              "      <td>54.66</td>\n",
              "      <td>1.515916e+18</td>\n",
              "      <td>f</td>\n",
              "      <td>white</td>\n",
              "      <td>gold</td>\n",
              "      <td>sapphire</td>\n",
              "    </tr>\n",
              "    <tr>\n",
              "      <th>2</th>\n",
              "      <td>2018-12-02 17:44:02 UTC</td>\n",
              "      <td>1925626951238681511</td>\n",
              "      <td>1835566849434059453</td>\n",
              "      <td>1</td>\n",
              "      <td>1.806829e+18</td>\n",
              "      <td>jewelry.pendant</td>\n",
              "      <td>0.0</td>\n",
              "      <td>88.90</td>\n",
              "      <td>1.515916e+18</td>\n",
              "      <td>f</td>\n",
              "      <td>red</td>\n",
              "      <td>gold</td>\n",
              "      <td>diamond</td>\n",
              "    </tr>\n",
              "    <tr>\n",
              "      <th>3</th>\n",
              "      <td>2018-12-02 21:30:19 UTC</td>\n",
              "      <td>1925740842841014667</td>\n",
              "      <td>1873936840742928865</td>\n",
              "      <td>1</td>\n",
              "      <td>1.806829e+18</td>\n",
              "      <td>jewelry.necklace</td>\n",
              "      <td>0.0</td>\n",
              "      <td>417.67</td>\n",
              "      <td>1.515916e+18</td>\n",
              "      <td>NaN</td>\n",
              "      <td>red</td>\n",
              "      <td>gold</td>\n",
              "      <td>amethyst</td>\n",
              "    </tr>\n",
              "    <tr>\n",
              "      <th>4</th>\n",
              "      <td>2018-12-02 22:09:34 UTC</td>\n",
              "      <td>1925760595336888995</td>\n",
              "      <td>1835566854827934449</td>\n",
              "      <td>1</td>\n",
              "      <td>1.806829e+18</td>\n",
              "      <td>jewelry.earring</td>\n",
              "      <td>1.0</td>\n",
              "      <td>102.27</td>\n",
              "      <td>1.515916e+18</td>\n",
              "      <td>NaN</td>\n",
              "      <td>red</td>\n",
              "      <td>gold</td>\n",
              "      <td>NaN</td>\n",
              "    </tr>\n",
              "  </tbody>\n",
              "</table>\n",
              "</div>\n",
              "    <div class=\"colab-df-buttons\">\n",
              "\n",
              "  <div class=\"colab-df-container\">\n",
              "    <button class=\"colab-df-convert\" onclick=\"convertToInteractive('df-0bd963df-969e-4bc8-9667-35eb162f04b9')\"\n",
              "            title=\"Convert this dataframe to an interactive table.\"\n",
              "            style=\"display:none;\">\n",
              "\n",
              "  <svg xmlns=\"http://www.w3.org/2000/svg\" height=\"24px\" viewBox=\"0 -960 960 960\">\n",
              "    <path d=\"M120-120v-720h720v720H120Zm60-500h600v-160H180v160Zm220 220h160v-160H400v160Zm0 220h160v-160H400v160ZM180-400h160v-160H180v160Zm440 0h160v-160H620v160ZM180-180h160v-160H180v160Zm440 0h160v-160H620v160Z\"/>\n",
              "  </svg>\n",
              "    </button>\n",
              "\n",
              "  <style>\n",
              "    .colab-df-container {\n",
              "      display:flex;\n",
              "      gap: 12px;\n",
              "    }\n",
              "\n",
              "    .colab-df-convert {\n",
              "      background-color: #E8F0FE;\n",
              "      border: none;\n",
              "      border-radius: 50%;\n",
              "      cursor: pointer;\n",
              "      display: none;\n",
              "      fill: #1967D2;\n",
              "      height: 32px;\n",
              "      padding: 0 0 0 0;\n",
              "      width: 32px;\n",
              "    }\n",
              "\n",
              "    .colab-df-convert:hover {\n",
              "      background-color: #E2EBFA;\n",
              "      box-shadow: 0px 1px 2px rgba(60, 64, 67, 0.3), 0px 1px 3px 1px rgba(60, 64, 67, 0.15);\n",
              "      fill: #174EA6;\n",
              "    }\n",
              "\n",
              "    .colab-df-buttons div {\n",
              "      margin-bottom: 4px;\n",
              "    }\n",
              "\n",
              "    [theme=dark] .colab-df-convert {\n",
              "      background-color: #3B4455;\n",
              "      fill: #D2E3FC;\n",
              "    }\n",
              "\n",
              "    [theme=dark] .colab-df-convert:hover {\n",
              "      background-color: #434B5C;\n",
              "      box-shadow: 0px 1px 3px 1px rgba(0, 0, 0, 0.15);\n",
              "      filter: drop-shadow(0px 1px 2px rgba(0, 0, 0, 0.3));\n",
              "      fill: #FFFFFF;\n",
              "    }\n",
              "  </style>\n",
              "\n",
              "    <script>\n",
              "      const buttonEl =\n",
              "        document.querySelector('#df-0bd963df-969e-4bc8-9667-35eb162f04b9 button.colab-df-convert');\n",
              "      buttonEl.style.display =\n",
              "        google.colab.kernel.accessAllowed ? 'block' : 'none';\n",
              "\n",
              "      async function convertToInteractive(key) {\n",
              "        const element = document.querySelector('#df-0bd963df-969e-4bc8-9667-35eb162f04b9');\n",
              "        const dataTable =\n",
              "          await google.colab.kernel.invokeFunction('convertToInteractive',\n",
              "                                                    [key], {});\n",
              "        if (!dataTable) return;\n",
              "\n",
              "        const docLinkHtml = 'Like what you see? Visit the ' +\n",
              "          '<a target=\"_blank\" href=https://colab.research.google.com/notebooks/data_table.ipynb>data table notebook</a>'\n",
              "          + ' to learn more about interactive tables.';\n",
              "        element.innerHTML = '';\n",
              "        dataTable['output_type'] = 'display_data';\n",
              "        await google.colab.output.renderOutput(dataTable, element);\n",
              "        const docLink = document.createElement('div');\n",
              "        docLink.innerHTML = docLinkHtml;\n",
              "        element.appendChild(docLink);\n",
              "      }\n",
              "    </script>\n",
              "  </div>\n",
              "\n",
              "\n",
              "<div id=\"df-adf61007-2e07-4d82-ab81-44d472831b36\">\n",
              "  <button class=\"colab-df-quickchart\" onclick=\"quickchart('df-adf61007-2e07-4d82-ab81-44d472831b36')\"\n",
              "            title=\"Suggest charts\"\n",
              "            style=\"display:none;\">\n",
              "\n",
              "<svg xmlns=\"http://www.w3.org/2000/svg\" height=\"24px\"viewBox=\"0 0 24 24\"\n",
              "     width=\"24px\">\n",
              "    <g>\n",
              "        <path d=\"M19 3H5c-1.1 0-2 .9-2 2v14c0 1.1.9 2 2 2h14c1.1 0 2-.9 2-2V5c0-1.1-.9-2-2-2zM9 17H7v-7h2v7zm4 0h-2V7h2v10zm4 0h-2v-4h2v4z\"/>\n",
              "    </g>\n",
              "</svg>\n",
              "  </button>\n",
              "\n",
              "<style>\n",
              "  .colab-df-quickchart {\n",
              "      --bg-color: #E8F0FE;\n",
              "      --fill-color: #1967D2;\n",
              "      --hover-bg-color: #E2EBFA;\n",
              "      --hover-fill-color: #174EA6;\n",
              "      --disabled-fill-color: #AAA;\n",
              "      --disabled-bg-color: #DDD;\n",
              "  }\n",
              "\n",
              "  [theme=dark] .colab-df-quickchart {\n",
              "      --bg-color: #3B4455;\n",
              "      --fill-color: #D2E3FC;\n",
              "      --hover-bg-color: #434B5C;\n",
              "      --hover-fill-color: #FFFFFF;\n",
              "      --disabled-bg-color: #3B4455;\n",
              "      --disabled-fill-color: #666;\n",
              "  }\n",
              "\n",
              "  .colab-df-quickchart {\n",
              "    background-color: var(--bg-color);\n",
              "    border: none;\n",
              "    border-radius: 50%;\n",
              "    cursor: pointer;\n",
              "    display: none;\n",
              "    fill: var(--fill-color);\n",
              "    height: 32px;\n",
              "    padding: 0;\n",
              "    width: 32px;\n",
              "  }\n",
              "\n",
              "  .colab-df-quickchart:hover {\n",
              "    background-color: var(--hover-bg-color);\n",
              "    box-shadow: 0 1px 2px rgba(60, 64, 67, 0.3), 0 1px 3px 1px rgba(60, 64, 67, 0.15);\n",
              "    fill: var(--button-hover-fill-color);\n",
              "  }\n",
              "\n",
              "  .colab-df-quickchart-complete:disabled,\n",
              "  .colab-df-quickchart-complete:disabled:hover {\n",
              "    background-color: var(--disabled-bg-color);\n",
              "    fill: var(--disabled-fill-color);\n",
              "    box-shadow: none;\n",
              "  }\n",
              "\n",
              "  .colab-df-spinner {\n",
              "    border: 2px solid var(--fill-color);\n",
              "    border-color: transparent;\n",
              "    border-bottom-color: var(--fill-color);\n",
              "    animation:\n",
              "      spin 1s steps(1) infinite;\n",
              "  }\n",
              "\n",
              "  @keyframes spin {\n",
              "    0% {\n",
              "      border-color: transparent;\n",
              "      border-bottom-color: var(--fill-color);\n",
              "      border-left-color: var(--fill-color);\n",
              "    }\n",
              "    20% {\n",
              "      border-color: transparent;\n",
              "      border-left-color: var(--fill-color);\n",
              "      border-top-color: var(--fill-color);\n",
              "    }\n",
              "    30% {\n",
              "      border-color: transparent;\n",
              "      border-left-color: var(--fill-color);\n",
              "      border-top-color: var(--fill-color);\n",
              "      border-right-color: var(--fill-color);\n",
              "    }\n",
              "    40% {\n",
              "      border-color: transparent;\n",
              "      border-right-color: var(--fill-color);\n",
              "      border-top-color: var(--fill-color);\n",
              "    }\n",
              "    60% {\n",
              "      border-color: transparent;\n",
              "      border-right-color: var(--fill-color);\n",
              "    }\n",
              "    80% {\n",
              "      border-color: transparent;\n",
              "      border-right-color: var(--fill-color);\n",
              "      border-bottom-color: var(--fill-color);\n",
              "    }\n",
              "    90% {\n",
              "      border-color: transparent;\n",
              "      border-bottom-color: var(--fill-color);\n",
              "    }\n",
              "  }\n",
              "</style>\n",
              "\n",
              "  <script>\n",
              "    async function quickchart(key) {\n",
              "      const quickchartButtonEl =\n",
              "        document.querySelector('#' + key + ' button');\n",
              "      quickchartButtonEl.disabled = true;  // To prevent multiple clicks.\n",
              "      quickchartButtonEl.classList.add('colab-df-spinner');\n",
              "      try {\n",
              "        const charts = await google.colab.kernel.invokeFunction(\n",
              "            'suggestCharts', [key], {});\n",
              "      } catch (error) {\n",
              "        console.error('Error during call to suggestCharts:', error);\n",
              "      }\n",
              "      quickchartButtonEl.classList.remove('colab-df-spinner');\n",
              "      quickchartButtonEl.classList.add('colab-df-quickchart-complete');\n",
              "    }\n",
              "    (() => {\n",
              "      let quickchartButtonEl =\n",
              "        document.querySelector('#df-adf61007-2e07-4d82-ab81-44d472831b36 button');\n",
              "      quickchartButtonEl.style.display =\n",
              "        google.colab.kernel.accessAllowed ? 'block' : 'none';\n",
              "    })();\n",
              "  </script>\n",
              "</div>\n",
              "\n",
              "    </div>\n",
              "  </div>\n"
            ],
            "application/vnd.google.colaboratory.intrinsic+json": {
              "type": "dataframe",
              "variable_name": "original_data",
              "summary": "{\n  \"name\": \"original_data\",\n  \"rows\": 95910,\n  \"fields\": [\n    {\n      \"column\": \"2018-12-01 11:40:29 UTC\",\n      \"properties\": {\n        \"dtype\": \"object\",\n        \"num_unique_values\": 74504,\n        \"samples\": [\n          \"2020-10-20 06:17:34 UTC\",\n          \"2019-12-04 22:20:21 UTC\",\n          \"2021-09-03 05:31:31 UTC\"\n        ],\n        \"semantic_type\": \"\",\n        \"description\": \"\"\n      }\n    },\n    {\n      \"column\": \"1924719191579951782\",\n      \"properties\": {\n        \"dtype\": \"number\",\n        \"std\": 193475019082812960,\n        \"min\": 1924899396621697920,\n        \"max\": 2719022379232658075,\n        \"num_unique_values\": 74759,\n        \"samples\": [\n          2602555238665683473,\n          2124742295499571208,\n          2088327149973930692\n        ],\n        \"semantic_type\": \"\",\n        \"description\": \"\"\n      }\n    },\n    {\n      \"column\": \"1842195256808833386\",\n      \"properties\": {\n        \"dtype\": \"number\",\n        \"std\": 213681403003420288,\n        \"min\": 1313550904313512734,\n        \"max\": 2541962442884252323,\n        \"num_unique_values\": 9613,\n        \"samples\": [\n          1515966223678130035,\n          1515966222926000562,\n          1937825427510789079\n        ],\n        \"semantic_type\": \"\",\n        \"description\": \"\"\n      }\n    },\n    {\n      \"column\": \"1\",\n      \"properties\": {\n        \"dtype\": \"number\",\n        \"std\": 0,\n        \"min\": 1,\n        \"max\": 1,\n        \"num_unique_values\": 1,\n        \"samples\": [\n          1\n        ],\n        \"semantic_type\": \"\",\n        \"description\": \"\"\n      }\n    },\n    {\n      \"column\": \"1806829201890738522\",\n      \"properties\": {\n        \"dtype\": \"number\",\n        \"std\": 2.083953909019707e+16,\n        \"min\": 1.313677631836652e+18,\n        \"max\": 1.8068292021172308e+18,\n        \"num_unique_values\": 25,\n        \"samples\": [\n          1.806829202092065e+18\n        ],\n        \"semantic_type\": \"\",\n        \"description\": \"\"\n      }\n    },\n    {\n      \"column\": \"jewelry.earring\",\n      \"properties\": {\n        \"dtype\": \"category\",\n        \"num_unique_values\": 218,\n        \"samples\": [\n          \"7.40\"\n        ],\n        \"semantic_type\": \"\",\n        \"description\": \"\"\n      }\n    },\n    {\n      \"column\": \"0\",\n      \"properties\": {\n        \"dtype\": \"number\",\n        \"std\": 3.55965110069249e+17,\n        \"min\": 0.0,\n        \"max\": 1.5506129490794255e+18,\n        \"num_unique_values\": 2537,\n        \"samples\": [\n          1.5159156256898063e+18\n        ],\n        \"semantic_type\": \"\",\n        \"description\": \"\"\n      }\n    },\n    {\n      \"column\": \"561.51\",\n      \"properties\": {\n        \"dtype\": \"number\",\n        \"std\": 444.15766450105696,\n        \"min\": 0.99,\n        \"max\": 34448.6,\n        \"num_unique_values\": 3166,\n        \"samples\": [\n          114.93\n        ],\n        \"semantic_type\": \"\",\n        \"description\": \"\"\n      }\n    },\n    {\n      \"column\": \"1515915625207851155\",\n      \"properties\": {\n        \"dtype\": \"number\",\n        \"std\": 2.3747763355753304e+16,\n        \"min\": 1.3135543336100173e+18,\n        \"max\": 1.5542968554314793e+18,\n        \"num_unique_values\": 31079,\n        \"samples\": [\n          1.5159156255549888e+18\n        ],\n        \"semantic_type\": \"\",\n        \"description\": \"\"\n      }\n    },\n    {\n      \"column\": \"Unnamed: 9\",\n      \"properties\": {\n        \"dtype\": \"category\",\n        \"num_unique_values\": 2,\n        \"samples\": [\n          \"m\"\n        ],\n        \"semantic_type\": \"\",\n        \"description\": \"\"\n      }\n    },\n    {\n      \"column\": \"red\",\n      \"properties\": {\n        \"dtype\": \"category\",\n        \"num_unique_values\": 5,\n        \"samples\": [\n          \"white\"\n        ],\n        \"semantic_type\": \"\",\n        \"description\": \"\"\n      }\n    },\n    {\n      \"column\": \"gold\",\n      \"properties\": {\n        \"dtype\": \"category\",\n        \"num_unique_values\": 3,\n        \"samples\": [\n          \"gold\"\n        ],\n        \"semantic_type\": \"\",\n        \"description\": \"\"\n      }\n    },\n    {\n      \"column\": \"diamond\",\n      \"properties\": {\n        \"dtype\": \"category\",\n        \"num_unique_values\": 30,\n        \"samples\": [\n          \"garnet_synthetic\"\n        ],\n        \"semantic_type\": \"\",\n        \"description\": \"\"\n      }\n    }\n  ]\n}"
            }
          },
          "metadata": {},
          "execution_count": 90
        }
      ]
    },
    {
      "cell_type": "code",
      "source": [
        "#Giving column names\n",
        "original_data.columns= [\n",
        "    \"Order_datetime\",\n",
        "    \"Order_ID\",\n",
        "    \"Product_ID\",\n",
        "    \"Quantity_of_SKU\",\n",
        "    \"Category_ID\",\n",
        "    \"Category\",\n",
        "    \"Brand_ID\",\n",
        "    \"Price_USD\",\n",
        "    \"User_ID\",\n",
        "    \"Gender\",\n",
        "    \"Main_color\",\n",
        "    \"Main_metal\",\n",
        "    \"Main_gem\"\n",
        "]"
      ],
      "metadata": {
        "id": "1VmOQ0h2M0Kb"
      },
      "execution_count": 91,
      "outputs": []
    },
    {
      "cell_type": "code",
      "source": [
        "original_data.head(5)"
      ],
      "metadata": {
        "colab": {
          "base_uri": "https://localhost:8080/",
          "height": 313
        },
        "id": "oF2TOtWUN4sP",
        "outputId": "f63437c6-1487-4859-dc6d-7ee28bcbb7c6"
      },
      "execution_count": 92,
      "outputs": [
        {
          "output_type": "execute_result",
          "data": {
            "text/plain": [
              "            Order_datetime             Order_ID           Product_ID  \\\n",
              "0  2018-12-01 17:38:31 UTC  1924899396621697920  1806829193678291446   \n",
              "1  2018-12-02 13:53:42 UTC  1925511016616034733  1842214461889315556   \n",
              "2  2018-12-02 17:44:02 UTC  1925626951238681511  1835566849434059453   \n",
              "3  2018-12-02 21:30:19 UTC  1925740842841014667  1873936840742928865   \n",
              "4  2018-12-02 22:09:34 UTC  1925760595336888995  1835566854827934449   \n",
              "\n",
              "   Quantity_of_SKU   Category_ID          Category  Brand_ID  Price_USD  \\\n",
              "0                1  1.806829e+18               NaN       NaN     212.14   \n",
              "1                1  1.806829e+18   jewelry.pendant       1.0      54.66   \n",
              "2                1  1.806829e+18   jewelry.pendant       0.0      88.90   \n",
              "3                1  1.806829e+18  jewelry.necklace       0.0     417.67   \n",
              "4                1  1.806829e+18   jewelry.earring       1.0     102.27   \n",
              "\n",
              "        User_ID Gender Main_color Main_metal  Main_gem  \n",
              "0  1.515916e+18    NaN     yellow       gold       NaN  \n",
              "1  1.515916e+18      f      white       gold  sapphire  \n",
              "2  1.515916e+18      f        red       gold   diamond  \n",
              "3  1.515916e+18    NaN        red       gold  amethyst  \n",
              "4  1.515916e+18    NaN        red       gold       NaN  "
            ],
            "text/html": [
              "\n",
              "  <div id=\"df-de4d8936-113d-485d-a227-9f6c9a7d78af\" class=\"colab-df-container\">\n",
              "    <div>\n",
              "<style scoped>\n",
              "    .dataframe tbody tr th:only-of-type {\n",
              "        vertical-align: middle;\n",
              "    }\n",
              "\n",
              "    .dataframe tbody tr th {\n",
              "        vertical-align: top;\n",
              "    }\n",
              "\n",
              "    .dataframe thead th {\n",
              "        text-align: right;\n",
              "    }\n",
              "</style>\n",
              "<table border=\"1\" class=\"dataframe\">\n",
              "  <thead>\n",
              "    <tr style=\"text-align: right;\">\n",
              "      <th></th>\n",
              "      <th>Order_datetime</th>\n",
              "      <th>Order_ID</th>\n",
              "      <th>Product_ID</th>\n",
              "      <th>Quantity_of_SKU</th>\n",
              "      <th>Category_ID</th>\n",
              "      <th>Category</th>\n",
              "      <th>Brand_ID</th>\n",
              "      <th>Price_USD</th>\n",
              "      <th>User_ID</th>\n",
              "      <th>Gender</th>\n",
              "      <th>Main_color</th>\n",
              "      <th>Main_metal</th>\n",
              "      <th>Main_gem</th>\n",
              "    </tr>\n",
              "  </thead>\n",
              "  <tbody>\n",
              "    <tr>\n",
              "      <th>0</th>\n",
              "      <td>2018-12-01 17:38:31 UTC</td>\n",
              "      <td>1924899396621697920</td>\n",
              "      <td>1806829193678291446</td>\n",
              "      <td>1</td>\n",
              "      <td>1.806829e+18</td>\n",
              "      <td>NaN</td>\n",
              "      <td>NaN</td>\n",
              "      <td>212.14</td>\n",
              "      <td>1.515916e+18</td>\n",
              "      <td>NaN</td>\n",
              "      <td>yellow</td>\n",
              "      <td>gold</td>\n",
              "      <td>NaN</td>\n",
              "    </tr>\n",
              "    <tr>\n",
              "      <th>1</th>\n",
              "      <td>2018-12-02 13:53:42 UTC</td>\n",
              "      <td>1925511016616034733</td>\n",
              "      <td>1842214461889315556</td>\n",
              "      <td>1</td>\n",
              "      <td>1.806829e+18</td>\n",
              "      <td>jewelry.pendant</td>\n",
              "      <td>1.0</td>\n",
              "      <td>54.66</td>\n",
              "      <td>1.515916e+18</td>\n",
              "      <td>f</td>\n",
              "      <td>white</td>\n",
              "      <td>gold</td>\n",
              "      <td>sapphire</td>\n",
              "    </tr>\n",
              "    <tr>\n",
              "      <th>2</th>\n",
              "      <td>2018-12-02 17:44:02 UTC</td>\n",
              "      <td>1925626951238681511</td>\n",
              "      <td>1835566849434059453</td>\n",
              "      <td>1</td>\n",
              "      <td>1.806829e+18</td>\n",
              "      <td>jewelry.pendant</td>\n",
              "      <td>0.0</td>\n",
              "      <td>88.90</td>\n",
              "      <td>1.515916e+18</td>\n",
              "      <td>f</td>\n",
              "      <td>red</td>\n",
              "      <td>gold</td>\n",
              "      <td>diamond</td>\n",
              "    </tr>\n",
              "    <tr>\n",
              "      <th>3</th>\n",
              "      <td>2018-12-02 21:30:19 UTC</td>\n",
              "      <td>1925740842841014667</td>\n",
              "      <td>1873936840742928865</td>\n",
              "      <td>1</td>\n",
              "      <td>1.806829e+18</td>\n",
              "      <td>jewelry.necklace</td>\n",
              "      <td>0.0</td>\n",
              "      <td>417.67</td>\n",
              "      <td>1.515916e+18</td>\n",
              "      <td>NaN</td>\n",
              "      <td>red</td>\n",
              "      <td>gold</td>\n",
              "      <td>amethyst</td>\n",
              "    </tr>\n",
              "    <tr>\n",
              "      <th>4</th>\n",
              "      <td>2018-12-02 22:09:34 UTC</td>\n",
              "      <td>1925760595336888995</td>\n",
              "      <td>1835566854827934449</td>\n",
              "      <td>1</td>\n",
              "      <td>1.806829e+18</td>\n",
              "      <td>jewelry.earring</td>\n",
              "      <td>1.0</td>\n",
              "      <td>102.27</td>\n",
              "      <td>1.515916e+18</td>\n",
              "      <td>NaN</td>\n",
              "      <td>red</td>\n",
              "      <td>gold</td>\n",
              "      <td>NaN</td>\n",
              "    </tr>\n",
              "  </tbody>\n",
              "</table>\n",
              "</div>\n",
              "    <div class=\"colab-df-buttons\">\n",
              "\n",
              "  <div class=\"colab-df-container\">\n",
              "    <button class=\"colab-df-convert\" onclick=\"convertToInteractive('df-de4d8936-113d-485d-a227-9f6c9a7d78af')\"\n",
              "            title=\"Convert this dataframe to an interactive table.\"\n",
              "            style=\"display:none;\">\n",
              "\n",
              "  <svg xmlns=\"http://www.w3.org/2000/svg\" height=\"24px\" viewBox=\"0 -960 960 960\">\n",
              "    <path d=\"M120-120v-720h720v720H120Zm60-500h600v-160H180v160Zm220 220h160v-160H400v160Zm0 220h160v-160H400v160ZM180-400h160v-160H180v160Zm440 0h160v-160H620v160ZM180-180h160v-160H180v160Zm440 0h160v-160H620v160Z\"/>\n",
              "  </svg>\n",
              "    </button>\n",
              "\n",
              "  <style>\n",
              "    .colab-df-container {\n",
              "      display:flex;\n",
              "      gap: 12px;\n",
              "    }\n",
              "\n",
              "    .colab-df-convert {\n",
              "      background-color: #E8F0FE;\n",
              "      border: none;\n",
              "      border-radius: 50%;\n",
              "      cursor: pointer;\n",
              "      display: none;\n",
              "      fill: #1967D2;\n",
              "      height: 32px;\n",
              "      padding: 0 0 0 0;\n",
              "      width: 32px;\n",
              "    }\n",
              "\n",
              "    .colab-df-convert:hover {\n",
              "      background-color: #E2EBFA;\n",
              "      box-shadow: 0px 1px 2px rgba(60, 64, 67, 0.3), 0px 1px 3px 1px rgba(60, 64, 67, 0.15);\n",
              "      fill: #174EA6;\n",
              "    }\n",
              "\n",
              "    .colab-df-buttons div {\n",
              "      margin-bottom: 4px;\n",
              "    }\n",
              "\n",
              "    [theme=dark] .colab-df-convert {\n",
              "      background-color: #3B4455;\n",
              "      fill: #D2E3FC;\n",
              "    }\n",
              "\n",
              "    [theme=dark] .colab-df-convert:hover {\n",
              "      background-color: #434B5C;\n",
              "      box-shadow: 0px 1px 3px 1px rgba(0, 0, 0, 0.15);\n",
              "      filter: drop-shadow(0px 1px 2px rgba(0, 0, 0, 0.3));\n",
              "      fill: #FFFFFF;\n",
              "    }\n",
              "  </style>\n",
              "\n",
              "    <script>\n",
              "      const buttonEl =\n",
              "        document.querySelector('#df-de4d8936-113d-485d-a227-9f6c9a7d78af button.colab-df-convert');\n",
              "      buttonEl.style.display =\n",
              "        google.colab.kernel.accessAllowed ? 'block' : 'none';\n",
              "\n",
              "      async function convertToInteractive(key) {\n",
              "        const element = document.querySelector('#df-de4d8936-113d-485d-a227-9f6c9a7d78af');\n",
              "        const dataTable =\n",
              "          await google.colab.kernel.invokeFunction('convertToInteractive',\n",
              "                                                    [key], {});\n",
              "        if (!dataTable) return;\n",
              "\n",
              "        const docLinkHtml = 'Like what you see? Visit the ' +\n",
              "          '<a target=\"_blank\" href=https://colab.research.google.com/notebooks/data_table.ipynb>data table notebook</a>'\n",
              "          + ' to learn more about interactive tables.';\n",
              "        element.innerHTML = '';\n",
              "        dataTable['output_type'] = 'display_data';\n",
              "        await google.colab.output.renderOutput(dataTable, element);\n",
              "        const docLink = document.createElement('div');\n",
              "        docLink.innerHTML = docLinkHtml;\n",
              "        element.appendChild(docLink);\n",
              "      }\n",
              "    </script>\n",
              "  </div>\n",
              "\n",
              "\n",
              "<div id=\"df-29493089-2df4-455a-b5ae-d534ba4a7b89\">\n",
              "  <button class=\"colab-df-quickchart\" onclick=\"quickchart('df-29493089-2df4-455a-b5ae-d534ba4a7b89')\"\n",
              "            title=\"Suggest charts\"\n",
              "            style=\"display:none;\">\n",
              "\n",
              "<svg xmlns=\"http://www.w3.org/2000/svg\" height=\"24px\"viewBox=\"0 0 24 24\"\n",
              "     width=\"24px\">\n",
              "    <g>\n",
              "        <path d=\"M19 3H5c-1.1 0-2 .9-2 2v14c0 1.1.9 2 2 2h14c1.1 0 2-.9 2-2V5c0-1.1-.9-2-2-2zM9 17H7v-7h2v7zm4 0h-2V7h2v10zm4 0h-2v-4h2v4z\"/>\n",
              "    </g>\n",
              "</svg>\n",
              "  </button>\n",
              "\n",
              "<style>\n",
              "  .colab-df-quickchart {\n",
              "      --bg-color: #E8F0FE;\n",
              "      --fill-color: #1967D2;\n",
              "      --hover-bg-color: #E2EBFA;\n",
              "      --hover-fill-color: #174EA6;\n",
              "      --disabled-fill-color: #AAA;\n",
              "      --disabled-bg-color: #DDD;\n",
              "  }\n",
              "\n",
              "  [theme=dark] .colab-df-quickchart {\n",
              "      --bg-color: #3B4455;\n",
              "      --fill-color: #D2E3FC;\n",
              "      --hover-bg-color: #434B5C;\n",
              "      --hover-fill-color: #FFFFFF;\n",
              "      --disabled-bg-color: #3B4455;\n",
              "      --disabled-fill-color: #666;\n",
              "  }\n",
              "\n",
              "  .colab-df-quickchart {\n",
              "    background-color: var(--bg-color);\n",
              "    border: none;\n",
              "    border-radius: 50%;\n",
              "    cursor: pointer;\n",
              "    display: none;\n",
              "    fill: var(--fill-color);\n",
              "    height: 32px;\n",
              "    padding: 0;\n",
              "    width: 32px;\n",
              "  }\n",
              "\n",
              "  .colab-df-quickchart:hover {\n",
              "    background-color: var(--hover-bg-color);\n",
              "    box-shadow: 0 1px 2px rgba(60, 64, 67, 0.3), 0 1px 3px 1px rgba(60, 64, 67, 0.15);\n",
              "    fill: var(--button-hover-fill-color);\n",
              "  }\n",
              "\n",
              "  .colab-df-quickchart-complete:disabled,\n",
              "  .colab-df-quickchart-complete:disabled:hover {\n",
              "    background-color: var(--disabled-bg-color);\n",
              "    fill: var(--disabled-fill-color);\n",
              "    box-shadow: none;\n",
              "  }\n",
              "\n",
              "  .colab-df-spinner {\n",
              "    border: 2px solid var(--fill-color);\n",
              "    border-color: transparent;\n",
              "    border-bottom-color: var(--fill-color);\n",
              "    animation:\n",
              "      spin 1s steps(1) infinite;\n",
              "  }\n",
              "\n",
              "  @keyframes spin {\n",
              "    0% {\n",
              "      border-color: transparent;\n",
              "      border-bottom-color: var(--fill-color);\n",
              "      border-left-color: var(--fill-color);\n",
              "    }\n",
              "    20% {\n",
              "      border-color: transparent;\n",
              "      border-left-color: var(--fill-color);\n",
              "      border-top-color: var(--fill-color);\n",
              "    }\n",
              "    30% {\n",
              "      border-color: transparent;\n",
              "      border-left-color: var(--fill-color);\n",
              "      border-top-color: var(--fill-color);\n",
              "      border-right-color: var(--fill-color);\n",
              "    }\n",
              "    40% {\n",
              "      border-color: transparent;\n",
              "      border-right-color: var(--fill-color);\n",
              "      border-top-color: var(--fill-color);\n",
              "    }\n",
              "    60% {\n",
              "      border-color: transparent;\n",
              "      border-right-color: var(--fill-color);\n",
              "    }\n",
              "    80% {\n",
              "      border-color: transparent;\n",
              "      border-right-color: var(--fill-color);\n",
              "      border-bottom-color: var(--fill-color);\n",
              "    }\n",
              "    90% {\n",
              "      border-color: transparent;\n",
              "      border-bottom-color: var(--fill-color);\n",
              "    }\n",
              "  }\n",
              "</style>\n",
              "\n",
              "  <script>\n",
              "    async function quickchart(key) {\n",
              "      const quickchartButtonEl =\n",
              "        document.querySelector('#' + key + ' button');\n",
              "      quickchartButtonEl.disabled = true;  // To prevent multiple clicks.\n",
              "      quickchartButtonEl.classList.add('colab-df-spinner');\n",
              "      try {\n",
              "        const charts = await google.colab.kernel.invokeFunction(\n",
              "            'suggestCharts', [key], {});\n",
              "      } catch (error) {\n",
              "        console.error('Error during call to suggestCharts:', error);\n",
              "      }\n",
              "      quickchartButtonEl.classList.remove('colab-df-spinner');\n",
              "      quickchartButtonEl.classList.add('colab-df-quickchart-complete');\n",
              "    }\n",
              "    (() => {\n",
              "      let quickchartButtonEl =\n",
              "        document.querySelector('#df-29493089-2df4-455a-b5ae-d534ba4a7b89 button');\n",
              "      quickchartButtonEl.style.display =\n",
              "        google.colab.kernel.accessAllowed ? 'block' : 'none';\n",
              "    })();\n",
              "  </script>\n",
              "</div>\n",
              "\n",
              "    </div>\n",
              "  </div>\n"
            ],
            "application/vnd.google.colaboratory.intrinsic+json": {
              "type": "dataframe",
              "variable_name": "original_data",
              "summary": "{\n  \"name\": \"original_data\",\n  \"rows\": 95910,\n  \"fields\": [\n    {\n      \"column\": \"Order_datetime\",\n      \"properties\": {\n        \"dtype\": \"object\",\n        \"num_unique_values\": 74504,\n        \"samples\": [\n          \"2020-10-20 06:17:34 UTC\",\n          \"2019-12-04 22:20:21 UTC\",\n          \"2021-09-03 05:31:31 UTC\"\n        ],\n        \"semantic_type\": \"\",\n        \"description\": \"\"\n      }\n    },\n    {\n      \"column\": \"Order_ID\",\n      \"properties\": {\n        \"dtype\": \"number\",\n        \"std\": 193475019082812960,\n        \"min\": 1924899396621697920,\n        \"max\": 2719022379232658075,\n        \"num_unique_values\": 74759,\n        \"samples\": [\n          2602555238665683473,\n          2124742295499571208,\n          2088327149973930692\n        ],\n        \"semantic_type\": \"\",\n        \"description\": \"\"\n      }\n    },\n    {\n      \"column\": \"Product_ID\",\n      \"properties\": {\n        \"dtype\": \"number\",\n        \"std\": 213681403003420288,\n        \"min\": 1313550904313512734,\n        \"max\": 2541962442884252323,\n        \"num_unique_values\": 9613,\n        \"samples\": [\n          1515966223678130035,\n          1515966222926000562,\n          1937825427510789079\n        ],\n        \"semantic_type\": \"\",\n        \"description\": \"\"\n      }\n    },\n    {\n      \"column\": \"Quantity_of_SKU\",\n      \"properties\": {\n        \"dtype\": \"number\",\n        \"std\": 0,\n        \"min\": 1,\n        \"max\": 1,\n        \"num_unique_values\": 1,\n        \"samples\": [\n          1\n        ],\n        \"semantic_type\": \"\",\n        \"description\": \"\"\n      }\n    },\n    {\n      \"column\": \"Category_ID\",\n      \"properties\": {\n        \"dtype\": \"number\",\n        \"std\": 2.083953909019707e+16,\n        \"min\": 1.313677631836652e+18,\n        \"max\": 1.8068292021172308e+18,\n        \"num_unique_values\": 25,\n        \"samples\": [\n          1.806829202092065e+18\n        ],\n        \"semantic_type\": \"\",\n        \"description\": \"\"\n      }\n    },\n    {\n      \"column\": \"Category\",\n      \"properties\": {\n        \"dtype\": \"category\",\n        \"num_unique_values\": 218,\n        \"samples\": [\n          \"7.40\"\n        ],\n        \"semantic_type\": \"\",\n        \"description\": \"\"\n      }\n    },\n    {\n      \"column\": \"Brand_ID\",\n      \"properties\": {\n        \"dtype\": \"number\",\n        \"std\": 3.55965110069249e+17,\n        \"min\": 0.0,\n        \"max\": 1.5506129490794255e+18,\n        \"num_unique_values\": 2537,\n        \"samples\": [\n          1.5159156256898063e+18\n        ],\n        \"semantic_type\": \"\",\n        \"description\": \"\"\n      }\n    },\n    {\n      \"column\": \"Price_USD\",\n      \"properties\": {\n        \"dtype\": \"number\",\n        \"std\": 444.15766450105696,\n        \"min\": 0.99,\n        \"max\": 34448.6,\n        \"num_unique_values\": 3166,\n        \"samples\": [\n          114.93\n        ],\n        \"semantic_type\": \"\",\n        \"description\": \"\"\n      }\n    },\n    {\n      \"column\": \"User_ID\",\n      \"properties\": {\n        \"dtype\": \"number\",\n        \"std\": 2.3747763355753304e+16,\n        \"min\": 1.3135543336100173e+18,\n        \"max\": 1.5542968554314793e+18,\n        \"num_unique_values\": 31079,\n        \"samples\": [\n          1.5159156255549888e+18\n        ],\n        \"semantic_type\": \"\",\n        \"description\": \"\"\n      }\n    },\n    {\n      \"column\": \"Gender\",\n      \"properties\": {\n        \"dtype\": \"category\",\n        \"num_unique_values\": 2,\n        \"samples\": [\n          \"m\"\n        ],\n        \"semantic_type\": \"\",\n        \"description\": \"\"\n      }\n    },\n    {\n      \"column\": \"Main_color\",\n      \"properties\": {\n        \"dtype\": \"category\",\n        \"num_unique_values\": 5,\n        \"samples\": [\n          \"white\"\n        ],\n        \"semantic_type\": \"\",\n        \"description\": \"\"\n      }\n    },\n    {\n      \"column\": \"Main_metal\",\n      \"properties\": {\n        \"dtype\": \"category\",\n        \"num_unique_values\": 3,\n        \"samples\": [\n          \"gold\"\n        ],\n        \"semantic_type\": \"\",\n        \"description\": \"\"\n      }\n    },\n    {\n      \"column\": \"Main_gem\",\n      \"properties\": {\n        \"dtype\": \"category\",\n        \"num_unique_values\": 30,\n        \"samples\": [\n          \"garnet_synthetic\"\n        ],\n        \"semantic_type\": \"\",\n        \"description\": \"\"\n      }\n    }\n  ]\n}"
            }
          },
          "metadata": {},
          "execution_count": 92
        }
      ]
    },
    {
      "cell_type": "code",
      "source": [
        "# Make a copy of each dataset to keep the original safe\n",
        "data = original_data.copy()"
      ],
      "metadata": {
        "id": "p4GTh4lCN6t6"
      },
      "execution_count": 93,
      "outputs": []
    },
    {
      "cell_type": "markdown",
      "source": [
        "# Data Inspection\n",
        "\n",
        "1. Check the shape of the dataset\n",
        "2. Check the information regarding the data types and non-null rows\n",
        "3. Check the percentage of missing values in each column\n",
        "4. Check the unique elements in each column\n",
        "5. Check the basic descriptive statistics of our dataset\n",
        "6. Check for duplicates\n",
        "7. Check the columns we have in our dataset\n",
        "8. Visualize the distribution of our dataset and check for outliers\n"
      ],
      "metadata": {
        "id": "LC7-98P_P7o9"
      }
    },
    {
      "cell_type": "code",
      "source": [
        "# Shape of the dataset to know the number of rows and columns\n",
        "print(f\"Rows: {data.shape[0]} \\nColumns: {data.shape[1]}\")"
      ],
      "metadata": {
        "colab": {
          "base_uri": "https://localhost:8080/"
        },
        "id": "bgXZkURfPzsN",
        "outputId": "2613f087-0218-4643-df58-7232760990f3"
      },
      "execution_count": 94,
      "outputs": [
        {
          "output_type": "stream",
          "name": "stdout",
          "text": [
            "Rows: 95910 \n",
            "Columns: 13\n"
          ]
        }
      ]
    },
    {
      "cell_type": "code",
      "source": [
        "# Basic information regarding the dataset\n",
        "data.info()"
      ],
      "metadata": {
        "colab": {
          "base_uri": "https://localhost:8080/"
        },
        "id": "IE56jKfUQFs1",
        "outputId": "92e813c0-3e0f-446b-f2e5-d632867cf919"
      },
      "execution_count": 95,
      "outputs": [
        {
          "output_type": "stream",
          "name": "stdout",
          "text": [
            "<class 'pandas.core.frame.DataFrame'>\n",
            "RangeIndex: 95910 entries, 0 to 95909\n",
            "Data columns (total 13 columns):\n",
            " #   Column           Non-Null Count  Dtype  \n",
            "---  ------           --------------  -----  \n",
            " 0   Order_datetime   95910 non-null  object \n",
            " 1   Order_ID         95910 non-null  int64  \n",
            " 2   Product_ID       95910 non-null  int64  \n",
            " 3   Quantity_of_SKU  95910 non-null  int64  \n",
            " 4   Category_ID      90558 non-null  float64\n",
            " 5   Category         85977 non-null  object \n",
            " 6   Brand_ID         91125 non-null  float64\n",
            " 7   Price_USD        90558 non-null  float64\n",
            " 8   User_ID          90558 non-null  float64\n",
            " 9   Gender           47743 non-null  object \n",
            " 10  Main_color       88250 non-null  object \n",
            " 11  Main_metal       90448 non-null  object \n",
            " 12  Main_gem         61852 non-null  object \n",
            "dtypes: float64(4), int64(3), object(6)\n",
            "memory usage: 9.5+ MB\n"
          ]
        }
      ]
    },
    {
      "cell_type": "markdown",
      "source": [
        "We can see that a number of our features have missing values and incorrect data types"
      ],
      "metadata": {
        "id": "ruG_jok6QMR6"
      }
    },
    {
      "cell_type": "code",
      "source": [
        "# Let us investigate these missing values\n",
        "missing_values = round(data.isnull().sum() / data.shape[0] * 100,2)\n",
        "\n",
        "# Filter to only include columns with missing values and print\n",
        "missing_columns = missing_values[missing_values > 0]\n",
        "missing_columns"
      ],
      "metadata": {
        "colab": {
          "base_uri": "https://localhost:8080/",
          "height": 366
        },
        "id": "jS8FWuZAQJkE",
        "outputId": "5bc7dec5-c9b9-40fc-f8ae-2573436f5f1a"
      },
      "execution_count": 96,
      "outputs": [
        {
          "output_type": "execute_result",
          "data": {
            "text/plain": [
              "Category_ID     5.58\n",
              "Category       10.36\n",
              "Brand_ID        4.99\n",
              "Price_USD       5.58\n",
              "User_ID         5.58\n",
              "Gender         50.22\n",
              "Main_color      7.99\n",
              "Main_metal      5.69\n",
              "Main_gem       35.51\n",
              "dtype: float64"
            ],
            "text/html": [
              "<div>\n",
              "<style scoped>\n",
              "    .dataframe tbody tr th:only-of-type {\n",
              "        vertical-align: middle;\n",
              "    }\n",
              "\n",
              "    .dataframe tbody tr th {\n",
              "        vertical-align: top;\n",
              "    }\n",
              "\n",
              "    .dataframe thead th {\n",
              "        text-align: right;\n",
              "    }\n",
              "</style>\n",
              "<table border=\"1\" class=\"dataframe\">\n",
              "  <thead>\n",
              "    <tr style=\"text-align: right;\">\n",
              "      <th></th>\n",
              "      <th>0</th>\n",
              "    </tr>\n",
              "  </thead>\n",
              "  <tbody>\n",
              "    <tr>\n",
              "      <th>Category_ID</th>\n",
              "      <td>5.58</td>\n",
              "    </tr>\n",
              "    <tr>\n",
              "      <th>Category</th>\n",
              "      <td>10.36</td>\n",
              "    </tr>\n",
              "    <tr>\n",
              "      <th>Brand_ID</th>\n",
              "      <td>4.99</td>\n",
              "    </tr>\n",
              "    <tr>\n",
              "      <th>Price_USD</th>\n",
              "      <td>5.58</td>\n",
              "    </tr>\n",
              "    <tr>\n",
              "      <th>User_ID</th>\n",
              "      <td>5.58</td>\n",
              "    </tr>\n",
              "    <tr>\n",
              "      <th>Gender</th>\n",
              "      <td>50.22</td>\n",
              "    </tr>\n",
              "    <tr>\n",
              "      <th>Main_color</th>\n",
              "      <td>7.99</td>\n",
              "    </tr>\n",
              "    <tr>\n",
              "      <th>Main_metal</th>\n",
              "      <td>5.69</td>\n",
              "    </tr>\n",
              "    <tr>\n",
              "      <th>Main_gem</th>\n",
              "      <td>35.51</td>\n",
              "    </tr>\n",
              "  </tbody>\n",
              "</table>\n",
              "</div><br><label><b>dtype:</b> float64</label>"
            ]
          },
          "metadata": {},
          "execution_count": 96
        }
      ]
    },
    {
      "cell_type": "markdown",
      "source": [
        "These are the features with missing values and their respective percentages"
      ],
      "metadata": {
        "id": "As618v-yQh4n"
      }
    },
    {
      "cell_type": "code",
      "source": [
        "# Check number of unique items and the unique items in each column\n",
        "for column in data.columns:\n",
        "    unique_values = data[column].unique()\n",
        "    num_unique = len(unique_values)\n",
        "    print(f\"Feature: '{column}'\")\n",
        "    print(f\"Number of unique values: {num_unique}\")\n",
        "    print(f\"Unique values: {unique_values}\\n\")\n"
      ],
      "metadata": {
        "colab": {
          "base_uri": "https://localhost:8080/"
        },
        "id": "fqHOh_GXQXvw",
        "outputId": "e021444f-97e0-4847-8d63-f95ecc5e47e4"
      },
      "execution_count": 97,
      "outputs": [
        {
          "output_type": "stream",
          "name": "stdout",
          "text": [
            "Feature: 'Order_datetime'\n",
            "Number of unique values: 74504\n",
            "Unique values: ['2018-12-01 17:38:31 UTC' '2018-12-02 13:53:42 UTC'\n",
            " '2018-12-02 17:44:02 UTC' ... '2021-12-01 09:52:06 UTC'\n",
            " '2021-12-01 09:55:35 UTC' '2021-12-01 09:59:07 UTC']\n",
            "\n",
            "Feature: 'Order_ID'\n",
            "Number of unique values: 74759\n",
            "Unique values: [1924899396621697920 1925511016616034733 1925626951238681511 ...\n",
            " 2719018846999544322 2719020596963836492 2719022379232658075]\n",
            "\n",
            "Feature: 'Product_ID'\n",
            "Number of unique values: 9613\n",
            "Unique values: [1806829193678291446 1842214461889315556 1835566849434059453 ...\n",
            " 1515966223714641199 1515966223714641225 1536902230743974482]\n",
            "\n",
            "Feature: 'Quantity_of_SKU'\n",
            "Number of unique values: 1\n",
            "Unique values: [1]\n",
            "\n",
            "Feature: 'Category_ID'\n",
            "Number of unique values: 26\n",
            "Unique values: [1.80682920e+18 1.80682920e+18 1.80682920e+18 1.80682920e+18\n",
            " 1.80682920e+18 1.80682920e+18 1.80682920e+18 1.80682920e+18\n",
            " 1.80682920e+18            nan 1.80682920e+18 1.31367763e+18\n",
            " 1.31367763e+18 1.31367763e+18 1.80682920e+18 1.80682920e+18\n",
            " 1.80682920e+18 1.31367763e+18 1.31367763e+18 1.31367763e+18\n",
            " 1.31367763e+18 1.31367763e+18 1.31367763e+18 1.31367763e+18\n",
            " 1.31367763e+18 1.31367763e+18]\n",
            "\n",
            "Feature: 'Category'\n",
            "Number of unique values: 219\n",
            "Unique values: [nan 'jewelry.pendant' 'jewelry.necklace' 'jewelry.earring' 'jewelry.ring'\n",
            " 'jewelry.brooch' 'jewelry.bracelet' 'electronics.clocks'\n",
            " 'jewelry.souvenir' '230.12' '202.36' '1098.03' '321.78' '1128.62' '81.27'\n",
            " '34.25' '582.16' '227.37' '234.22' '150.55' '131.82' '2123.15' '109.45'\n",
            " '49.22' '472.47' '205.38' '2746.44' '51.08' '231.12' '76.97' '3054.73'\n",
            " '184.90' '380.10' '357.49' '15.47' '135.33' '719.75' '93.01' '177.95'\n",
            " 'jewelry.stud' '102.10' '595.75' '469.56' '427.07' '53.62' '77.53'\n",
            " '1469.18' '355.27' '184.89' '154.66' '300.58' '83.73' '271.19' '3294.21'\n",
            " '278.04' '3626.26' '126.03' '283.52' '114.38' '89.04' '8.22' '124.88'\n",
            " '89.73' '171.23' '136.93' '19.04' '158.77' '187.10' '151.92' '1845.89'\n",
            " '87.23' '248.58' '596.48' '208.88' '193.11' '169.84' '1447.68' '45.07'\n",
            " '136.85' '282.05' '61.51' '210.21' '137.12' '147.81' '419.45' '825.27'\n",
            " '300.16' '541.78' '308.74' '766.85' '410.82' '101.23' '2.88' '1356.16'\n",
            " '13.42' '35.21' '134.79' '626.58' '13.70' '108.53' '119.01' '7.40' '4.79'\n",
            " '153.97' '482.47' '427.36' '289.18' '25.48' '1858.49' '21.70' '11.77'\n",
            " '198.89' '17.51' '574.66' '1319.93' '393.05' '358.22' '2282.19' '114.93'\n",
            " '371.23' '63.56' '88.77' '133.70' '117.81' '166.03' '130.41' '195.75'\n",
            " '104.79' '228.59' '1686.93' '65.89' '242.19' '252.47' '210.41' '363.42'\n",
            " '149.04' '157.95' '176.30' '160.96' '316.30' '258.77' '268.36' '838.90'\n",
            " '250.96' '832.01' '312.33' '318.71' '323.60' '205.34' '608.22' '343.84'\n",
            " '598.22' '508.08' '245.67' '338.36' '75.21' '573.81' '691.51' '476.68'\n",
            " '247.68' '286.71' '863.67' '236.58' '644.66' '40.82' '1376.99' '1.23'\n",
            " '621.23' '3454.79' '65.62' '59.73' '571.30' '70.96' '271.26' '958.84'\n",
            " '527.26' '271.16' '284.66' '261.64' '493.01' '35.48' '446.16' '526.41'\n",
            " '2517.08' '331.51' '312.88' '148.63' '451.21' '369.82' '537.40' '231.51'\n",
            " '316.34' '451.10' '283.49' '787.67' '131.92' '495.48' '5.48' '186.03'\n",
            " '484.49' '331.23' '133.85' '323.70' '2635.07' '297.22' '0.00' '259.58'\n",
            " '108.33' '4876.49' '308.08' '190.27' '916.44' '132.53' '1829.37'\n",
            " '2208.90' '75.76' '278.01' '662.30' '253.77']\n",
            "\n",
            "Feature: 'Brand_ID'\n",
            "Number of unique values: 2538\n",
            "Unique values: [           nan 1.00000000e+00 0.00000000e+00 ... 1.51591563e+18\n",
            " 1.51591563e+18 1.51591563e+18]\n",
            "\n",
            "Feature: 'Price_USD'\n",
            "Number of unique values: 3167\n",
            "Unique values: [ 212.14   54.66   88.9  ... 1629.86  251.68 2263.73]\n",
            "\n",
            "Feature: 'User_ID'\n",
            "Number of unique values: 31080\n",
            "Unique values: [1.51591563e+18 1.51591563e+18 1.51591563e+18 ... 1.51591563e+18\n",
            " 1.51591563e+18 1.51591563e+18]\n",
            "\n",
            "Feature: 'Gender'\n",
            "Number of unique values: 3\n",
            "Unique values: [nan 'f' 'm']\n",
            "\n",
            "Feature: 'Main_color'\n",
            "Number of unique values: 6\n",
            "Unique values: ['yellow' 'white' 'red' nan 'unknown-color' 'black']\n",
            "\n",
            "Feature: 'Main_metal'\n",
            "Number of unique values: 4\n",
            "Unique values: ['gold' 'silver' nan 'platinum']\n",
            "\n",
            "Feature: 'Main_gem'\n",
            "Number of unique values: 31\n",
            "Unique values: [nan 'sapphire' 'diamond' 'amethyst' 'fianit' 'pearl' 'quartz' 'topaz'\n",
            " 'garnet' 'quartz_smoky' 'ruby' 'agate' 'mix' 'citrine' 'emerald' 'amber'\n",
            " 'chrysolite' 'chrysoprase' 'nanocrystal' 'turquoise' 'sitall'\n",
            " 'corundum_synthetic' 'coral' 'onyx' 'nacre' 'spinel' 'tourmaline'\n",
            " 'emerald_geothermal' 'garnet_synthetic' 'rhodolite' 'sapphire_geothermal']\n",
            "\n"
          ]
        }
      ]
    },
    {
      "cell_type": "code",
      "source": [
        "# Descriptive statistics of the quantitative columns\n",
        "data.describe()"
      ],
      "metadata": {
        "colab": {
          "base_uri": "https://localhost:8080/",
          "height": 300
        },
        "id": "lJyDR-25V4nF",
        "outputId": "0e95761a-0e26-4783-fffb-6d2207b8e610"
      },
      "execution_count": 98,
      "outputs": [
        {
          "output_type": "execute_result",
          "data": {
            "text/plain": [
              "           Order_ID    Product_ID  Quantity_of_SKU   Category_ID  \\\n",
              "count  9.591000e+04  9.591000e+04          95910.0  9.055800e+04   \n",
              "mean   2.485191e+18  1.815970e+18              1.0  1.805947e+18   \n",
              "std    1.934750e+17  2.136814e+17              0.0  2.083954e+16   \n",
              "min    1.924899e+18  1.313551e+18              1.0  1.313678e+18   \n",
              "25%    2.379732e+18  1.515966e+18              1.0  1.806829e+18   \n",
              "50%    2.524282e+18  1.956664e+18              1.0  1.806829e+18   \n",
              "75%    2.644347e+18  1.956664e+18              1.0  1.806829e+18   \n",
              "max    2.719022e+18  2.541962e+18              1.0  1.806829e+18   \n",
              "\n",
              "           Brand_ID     Price_USD       User_ID  \n",
              "count  9.112500e+04  90558.000000  9.055800e+04  \n",
              "mean   8.891036e+16    362.213017  1.512644e+18  \n",
              "std    3.559651e+17    444.157665  2.374776e+16  \n",
              "min    0.000000e+00      0.990000  1.313554e+18  \n",
              "25%    0.000000e+00    145.620000  1.515916e+18  \n",
              "50%    1.000000e+00    258.770000  1.515916e+18  \n",
              "75%    1.000000e+00    431.370000  1.515916e+18  \n",
              "max    1.550613e+18  34448.600000  1.554297e+18  "
            ],
            "text/html": [
              "\n",
              "  <div id=\"df-ed1692a3-727e-4705-9763-c044af489c43\" class=\"colab-df-container\">\n",
              "    <div>\n",
              "<style scoped>\n",
              "    .dataframe tbody tr th:only-of-type {\n",
              "        vertical-align: middle;\n",
              "    }\n",
              "\n",
              "    .dataframe tbody tr th {\n",
              "        vertical-align: top;\n",
              "    }\n",
              "\n",
              "    .dataframe thead th {\n",
              "        text-align: right;\n",
              "    }\n",
              "</style>\n",
              "<table border=\"1\" class=\"dataframe\">\n",
              "  <thead>\n",
              "    <tr style=\"text-align: right;\">\n",
              "      <th></th>\n",
              "      <th>Order_ID</th>\n",
              "      <th>Product_ID</th>\n",
              "      <th>Quantity_of_SKU</th>\n",
              "      <th>Category_ID</th>\n",
              "      <th>Brand_ID</th>\n",
              "      <th>Price_USD</th>\n",
              "      <th>User_ID</th>\n",
              "    </tr>\n",
              "  </thead>\n",
              "  <tbody>\n",
              "    <tr>\n",
              "      <th>count</th>\n",
              "      <td>9.591000e+04</td>\n",
              "      <td>9.591000e+04</td>\n",
              "      <td>95910.0</td>\n",
              "      <td>9.055800e+04</td>\n",
              "      <td>9.112500e+04</td>\n",
              "      <td>90558.000000</td>\n",
              "      <td>9.055800e+04</td>\n",
              "    </tr>\n",
              "    <tr>\n",
              "      <th>mean</th>\n",
              "      <td>2.485191e+18</td>\n",
              "      <td>1.815970e+18</td>\n",
              "      <td>1.0</td>\n",
              "      <td>1.805947e+18</td>\n",
              "      <td>8.891036e+16</td>\n",
              "      <td>362.213017</td>\n",
              "      <td>1.512644e+18</td>\n",
              "    </tr>\n",
              "    <tr>\n",
              "      <th>std</th>\n",
              "      <td>1.934750e+17</td>\n",
              "      <td>2.136814e+17</td>\n",
              "      <td>0.0</td>\n",
              "      <td>2.083954e+16</td>\n",
              "      <td>3.559651e+17</td>\n",
              "      <td>444.157665</td>\n",
              "      <td>2.374776e+16</td>\n",
              "    </tr>\n",
              "    <tr>\n",
              "      <th>min</th>\n",
              "      <td>1.924899e+18</td>\n",
              "      <td>1.313551e+18</td>\n",
              "      <td>1.0</td>\n",
              "      <td>1.313678e+18</td>\n",
              "      <td>0.000000e+00</td>\n",
              "      <td>0.990000</td>\n",
              "      <td>1.313554e+18</td>\n",
              "    </tr>\n",
              "    <tr>\n",
              "      <th>25%</th>\n",
              "      <td>2.379732e+18</td>\n",
              "      <td>1.515966e+18</td>\n",
              "      <td>1.0</td>\n",
              "      <td>1.806829e+18</td>\n",
              "      <td>0.000000e+00</td>\n",
              "      <td>145.620000</td>\n",
              "      <td>1.515916e+18</td>\n",
              "    </tr>\n",
              "    <tr>\n",
              "      <th>50%</th>\n",
              "      <td>2.524282e+18</td>\n",
              "      <td>1.956664e+18</td>\n",
              "      <td>1.0</td>\n",
              "      <td>1.806829e+18</td>\n",
              "      <td>1.000000e+00</td>\n",
              "      <td>258.770000</td>\n",
              "      <td>1.515916e+18</td>\n",
              "    </tr>\n",
              "    <tr>\n",
              "      <th>75%</th>\n",
              "      <td>2.644347e+18</td>\n",
              "      <td>1.956664e+18</td>\n",
              "      <td>1.0</td>\n",
              "      <td>1.806829e+18</td>\n",
              "      <td>1.000000e+00</td>\n",
              "      <td>431.370000</td>\n",
              "      <td>1.515916e+18</td>\n",
              "    </tr>\n",
              "    <tr>\n",
              "      <th>max</th>\n",
              "      <td>2.719022e+18</td>\n",
              "      <td>2.541962e+18</td>\n",
              "      <td>1.0</td>\n",
              "      <td>1.806829e+18</td>\n",
              "      <td>1.550613e+18</td>\n",
              "      <td>34448.600000</td>\n",
              "      <td>1.554297e+18</td>\n",
              "    </tr>\n",
              "  </tbody>\n",
              "</table>\n",
              "</div>\n",
              "    <div class=\"colab-df-buttons\">\n",
              "\n",
              "  <div class=\"colab-df-container\">\n",
              "    <button class=\"colab-df-convert\" onclick=\"convertToInteractive('df-ed1692a3-727e-4705-9763-c044af489c43')\"\n",
              "            title=\"Convert this dataframe to an interactive table.\"\n",
              "            style=\"display:none;\">\n",
              "\n",
              "  <svg xmlns=\"http://www.w3.org/2000/svg\" height=\"24px\" viewBox=\"0 -960 960 960\">\n",
              "    <path d=\"M120-120v-720h720v720H120Zm60-500h600v-160H180v160Zm220 220h160v-160H400v160Zm0 220h160v-160H400v160ZM180-400h160v-160H180v160Zm440 0h160v-160H620v160ZM180-180h160v-160H180v160Zm440 0h160v-160H620v160Z\"/>\n",
              "  </svg>\n",
              "    </button>\n",
              "\n",
              "  <style>\n",
              "    .colab-df-container {\n",
              "      display:flex;\n",
              "      gap: 12px;\n",
              "    }\n",
              "\n",
              "    .colab-df-convert {\n",
              "      background-color: #E8F0FE;\n",
              "      border: none;\n",
              "      border-radius: 50%;\n",
              "      cursor: pointer;\n",
              "      display: none;\n",
              "      fill: #1967D2;\n",
              "      height: 32px;\n",
              "      padding: 0 0 0 0;\n",
              "      width: 32px;\n",
              "    }\n",
              "\n",
              "    .colab-df-convert:hover {\n",
              "      background-color: #E2EBFA;\n",
              "      box-shadow: 0px 1px 2px rgba(60, 64, 67, 0.3), 0px 1px 3px 1px rgba(60, 64, 67, 0.15);\n",
              "      fill: #174EA6;\n",
              "    }\n",
              "\n",
              "    .colab-df-buttons div {\n",
              "      margin-bottom: 4px;\n",
              "    }\n",
              "\n",
              "    [theme=dark] .colab-df-convert {\n",
              "      background-color: #3B4455;\n",
              "      fill: #D2E3FC;\n",
              "    }\n",
              "\n",
              "    [theme=dark] .colab-df-convert:hover {\n",
              "      background-color: #434B5C;\n",
              "      box-shadow: 0px 1px 3px 1px rgba(0, 0, 0, 0.15);\n",
              "      filter: drop-shadow(0px 1px 2px rgba(0, 0, 0, 0.3));\n",
              "      fill: #FFFFFF;\n",
              "    }\n",
              "  </style>\n",
              "\n",
              "    <script>\n",
              "      const buttonEl =\n",
              "        document.querySelector('#df-ed1692a3-727e-4705-9763-c044af489c43 button.colab-df-convert');\n",
              "      buttonEl.style.display =\n",
              "        google.colab.kernel.accessAllowed ? 'block' : 'none';\n",
              "\n",
              "      async function convertToInteractive(key) {\n",
              "        const element = document.querySelector('#df-ed1692a3-727e-4705-9763-c044af489c43');\n",
              "        const dataTable =\n",
              "          await google.colab.kernel.invokeFunction('convertToInteractive',\n",
              "                                                    [key], {});\n",
              "        if (!dataTable) return;\n",
              "\n",
              "        const docLinkHtml = 'Like what you see? Visit the ' +\n",
              "          '<a target=\"_blank\" href=https://colab.research.google.com/notebooks/data_table.ipynb>data table notebook</a>'\n",
              "          + ' to learn more about interactive tables.';\n",
              "        element.innerHTML = '';\n",
              "        dataTable['output_type'] = 'display_data';\n",
              "        await google.colab.output.renderOutput(dataTable, element);\n",
              "        const docLink = document.createElement('div');\n",
              "        docLink.innerHTML = docLinkHtml;\n",
              "        element.appendChild(docLink);\n",
              "      }\n",
              "    </script>\n",
              "  </div>\n",
              "\n",
              "\n",
              "<div id=\"df-e4b1f5c4-fb99-47fe-9ab7-76cc6d82d352\">\n",
              "  <button class=\"colab-df-quickchart\" onclick=\"quickchart('df-e4b1f5c4-fb99-47fe-9ab7-76cc6d82d352')\"\n",
              "            title=\"Suggest charts\"\n",
              "            style=\"display:none;\">\n",
              "\n",
              "<svg xmlns=\"http://www.w3.org/2000/svg\" height=\"24px\"viewBox=\"0 0 24 24\"\n",
              "     width=\"24px\">\n",
              "    <g>\n",
              "        <path d=\"M19 3H5c-1.1 0-2 .9-2 2v14c0 1.1.9 2 2 2h14c1.1 0 2-.9 2-2V5c0-1.1-.9-2-2-2zM9 17H7v-7h2v7zm4 0h-2V7h2v10zm4 0h-2v-4h2v4z\"/>\n",
              "    </g>\n",
              "</svg>\n",
              "  </button>\n",
              "\n",
              "<style>\n",
              "  .colab-df-quickchart {\n",
              "      --bg-color: #E8F0FE;\n",
              "      --fill-color: #1967D2;\n",
              "      --hover-bg-color: #E2EBFA;\n",
              "      --hover-fill-color: #174EA6;\n",
              "      --disabled-fill-color: #AAA;\n",
              "      --disabled-bg-color: #DDD;\n",
              "  }\n",
              "\n",
              "  [theme=dark] .colab-df-quickchart {\n",
              "      --bg-color: #3B4455;\n",
              "      --fill-color: #D2E3FC;\n",
              "      --hover-bg-color: #434B5C;\n",
              "      --hover-fill-color: #FFFFFF;\n",
              "      --disabled-bg-color: #3B4455;\n",
              "      --disabled-fill-color: #666;\n",
              "  }\n",
              "\n",
              "  .colab-df-quickchart {\n",
              "    background-color: var(--bg-color);\n",
              "    border: none;\n",
              "    border-radius: 50%;\n",
              "    cursor: pointer;\n",
              "    display: none;\n",
              "    fill: var(--fill-color);\n",
              "    height: 32px;\n",
              "    padding: 0;\n",
              "    width: 32px;\n",
              "  }\n",
              "\n",
              "  .colab-df-quickchart:hover {\n",
              "    background-color: var(--hover-bg-color);\n",
              "    box-shadow: 0 1px 2px rgba(60, 64, 67, 0.3), 0 1px 3px 1px rgba(60, 64, 67, 0.15);\n",
              "    fill: var(--button-hover-fill-color);\n",
              "  }\n",
              "\n",
              "  .colab-df-quickchart-complete:disabled,\n",
              "  .colab-df-quickchart-complete:disabled:hover {\n",
              "    background-color: var(--disabled-bg-color);\n",
              "    fill: var(--disabled-fill-color);\n",
              "    box-shadow: none;\n",
              "  }\n",
              "\n",
              "  .colab-df-spinner {\n",
              "    border: 2px solid var(--fill-color);\n",
              "    border-color: transparent;\n",
              "    border-bottom-color: var(--fill-color);\n",
              "    animation:\n",
              "      spin 1s steps(1) infinite;\n",
              "  }\n",
              "\n",
              "  @keyframes spin {\n",
              "    0% {\n",
              "      border-color: transparent;\n",
              "      border-bottom-color: var(--fill-color);\n",
              "      border-left-color: var(--fill-color);\n",
              "    }\n",
              "    20% {\n",
              "      border-color: transparent;\n",
              "      border-left-color: var(--fill-color);\n",
              "      border-top-color: var(--fill-color);\n",
              "    }\n",
              "    30% {\n",
              "      border-color: transparent;\n",
              "      border-left-color: var(--fill-color);\n",
              "      border-top-color: var(--fill-color);\n",
              "      border-right-color: var(--fill-color);\n",
              "    }\n",
              "    40% {\n",
              "      border-color: transparent;\n",
              "      border-right-color: var(--fill-color);\n",
              "      border-top-color: var(--fill-color);\n",
              "    }\n",
              "    60% {\n",
              "      border-color: transparent;\n",
              "      border-right-color: var(--fill-color);\n",
              "    }\n",
              "    80% {\n",
              "      border-color: transparent;\n",
              "      border-right-color: var(--fill-color);\n",
              "      border-bottom-color: var(--fill-color);\n",
              "    }\n",
              "    90% {\n",
              "      border-color: transparent;\n",
              "      border-bottom-color: var(--fill-color);\n",
              "    }\n",
              "  }\n",
              "</style>\n",
              "\n",
              "  <script>\n",
              "    async function quickchart(key) {\n",
              "      const quickchartButtonEl =\n",
              "        document.querySelector('#' + key + ' button');\n",
              "      quickchartButtonEl.disabled = true;  // To prevent multiple clicks.\n",
              "      quickchartButtonEl.classList.add('colab-df-spinner');\n",
              "      try {\n",
              "        const charts = await google.colab.kernel.invokeFunction(\n",
              "            'suggestCharts', [key], {});\n",
              "      } catch (error) {\n",
              "        console.error('Error during call to suggestCharts:', error);\n",
              "      }\n",
              "      quickchartButtonEl.classList.remove('colab-df-spinner');\n",
              "      quickchartButtonEl.classList.add('colab-df-quickchart-complete');\n",
              "    }\n",
              "    (() => {\n",
              "      let quickchartButtonEl =\n",
              "        document.querySelector('#df-e4b1f5c4-fb99-47fe-9ab7-76cc6d82d352 button');\n",
              "      quickchartButtonEl.style.display =\n",
              "        google.colab.kernel.accessAllowed ? 'block' : 'none';\n",
              "    })();\n",
              "  </script>\n",
              "</div>\n",
              "\n",
              "    </div>\n",
              "  </div>\n"
            ],
            "application/vnd.google.colaboratory.intrinsic+json": {
              "type": "dataframe",
              "summary": "{\n  \"name\": \"data\",\n  \"rows\": 8,\n  \"fields\": [\n    {\n      \"column\": \"Order_ID\",\n      \"properties\": {\n        \"dtype\": \"number\",\n        \"std\": 1.1146096161786659e+18,\n        \"min\": 95910.0,\n        \"max\": 2.719022379232658e+18,\n        \"num_unique_values\": 8,\n        \"samples\": [\n          2.485190571178204e+18,\n          2.5242822544698906e+18,\n          95910.0\n        ],\n        \"semantic_type\": \"\",\n        \"description\": \"\"\n      }\n    },\n    {\n      \"column\": \"Product_ID\",\n      \"properties\": {\n        \"dtype\": \"number\",\n        \"std\": 8.850741751593935e+17,\n        \"min\": 95910.0,\n        \"max\": 2.541962442884252e+18,\n        \"num_unique_values\": 8,\n        \"samples\": [\n          1.815969653934004e+18,\n          1.9566638312330373e+18,\n          95910.0\n        ],\n        \"semantic_type\": \"\",\n        \"description\": \"\"\n      }\n    },\n    {\n      \"column\": \"Quantity_of_SKU\",\n      \"properties\": {\n        \"dtype\": \"number\",\n        \"std\": 33909.002647843074,\n        \"min\": 0.0,\n        \"max\": 95910.0,\n        \"num_unique_values\": 3,\n        \"samples\": [\n          95910.0,\n          1.0,\n          0.0\n        ],\n        \"semantic_type\": \"\",\n        \"description\": \"\"\n      }\n    },\n    {\n      \"column\": \"Category_ID\",\n      \"properties\": {\n        \"dtype\": \"number\",\n        \"std\": 8.115060539765594e+17,\n        \"min\": 90558.0,\n        \"max\": 1.8068292021172308e+18,\n        \"num_unique_values\": 7,\n        \"samples\": [\n          90558.0,\n          1.8059469987220675e+18,\n          1.8068292018907384e+18\n        ],\n        \"semantic_type\": \"\",\n        \"description\": \"\"\n      }\n    },\n    {\n      \"column\": \"Brand_ID\",\n      \"properties\": {\n        \"dtype\": \"number\",\n        \"std\": 5.400092559822718e+17,\n        \"min\": 0.0,\n        \"max\": 1.5506129490794255e+18,\n        \"num_unique_values\": 6,\n        \"samples\": [\n          91125.0,\n          8.891035956219792e+16,\n          1.5506129490794255e+18\n        ],\n        \"semantic_type\": \"\",\n        \"description\": \"\"\n      }\n    },\n    {\n      \"column\": \"Price_USD\",\n      \"properties\": {\n        \"dtype\": \"number\",\n        \"std\": 32476.455559231486,\n        \"min\": 0.99,\n        \"max\": 90558.0,\n        \"num_unique_values\": 8,\n        \"samples\": [\n          362.2130167406524,\n          258.77,\n          90558.0\n        ],\n        \"semantic_type\": \"\",\n        \"description\": \"\"\n      }\n    },\n    {\n      \"column\": \"User_ID\",\n      \"properties\": {\n        \"dtype\": \"number\",\n        \"std\": 6.872985138945885e+17,\n        \"min\": 90558.0,\n        \"max\": 1.5542968554314793e+18,\n        \"num_unique_values\": 8,\n        \"samples\": [\n          1.5126438571043113e+18,\n          1.5159156255285565e+18,\n          90558.0\n        ],\n        \"semantic_type\": \"\",\n        \"description\": \"\"\n      }\n    }\n  ]\n}"
            }
          },
          "metadata": {},
          "execution_count": 98
        }
      ]
    },
    {
      "cell_type": "markdown",
      "source": [
        "We have an invariant feature which is \"Quantity_of_SKU\" and only one true quantitative feature \"Price_USD\""
      ],
      "metadata": {
        "id": "ZKmGYfanWHcA"
      }
    },
    {
      "cell_type": "markdown",
      "source": [
        "# Detailed Analysis of `Price_USD` (Jewelry Price)\n",
        "\n",
        "## 1. Mean\n",
        "- **Value**: 362.21 USD  \n",
        "- **Interpretation**: The average price of jewelry items in the dataset is 362.21 USD. This gives us a general sense of the typical price range for jewelry in the dataset.\n",
        "\n",
        "## 2. Standard Deviation (std)\n",
        "- **Value**: 444.16 USD  \n",
        "- **Interpretation**: The standard deviation is quite large compared to the mean, indicating that there is substantial variation in the prices of jewelry items. This suggests that the dataset includes both low-cost jewelry and high-end, premium-priced items.\n",
        "\n",
        "## 3. Minimum (min)\n",
        "- **Value**: 0.99 USD  \n",
        "- **Interpretation**: The lowest price recorded for a jewelry item is 0.99 USD. This could suggest that there are low-cost or discounted products in the dataset, or it may indicate possible data errors that should be reviewed.\n",
        "\n",
        "## 4. 25th Percentile (25%)\n",
        "- **Value**: 145.62 USD  \n",
        "- **Interpretation**: 25% of the jewelry items in the dataset are priced below 145.62 USD. This suggests that a significant portion of the jewelry products are priced lower than the overall average.\n",
        "\n",
        "## 5. Median (50th Percentile)\n",
        "- **Value**: 258.77 USD  \n",
        "- **Interpretation**: The median price is 258.77 USD, which is lower than the mean. This indicates that the price distribution is skewed to the right, with more lower-priced items than higher-priced ones. The median reflects the price point at which half of the products are priced below and half are priced above.\n",
        "\n",
        "## 6. 75th Percentile (75%)\n",
        "- **Value**: 431.37 USD  \n",
        "- **Interpretation**: 75% of the jewelry items are priced below 431.37 USD, indicating that the top 25% of products are priced above this value. This gives insight into the distribution of higher-priced jewelry in the dataset.\n",
        "\n",
        "## 7. Maximum (max)\n",
        "- **Value**: 34,448.60 USD  \n",
        "- **Interpretation**: The highest price recorded for a jewelry item is 34,448.60 USD, representing luxury or rare high-end pieces. This could be an outlier, and further investigation may be needed to verify if this is a legitimate sale or an error.\n",
        "\n",
        "---\n",
        "\n",
        "## Additional Insights:\n",
        "\n",
        "### Price Distribution\n",
        "- Given the large **standard deviation** and the presence of both low and high prices, the distribution of prices is likely **skewed**. A histogram or box plot would help visualize whether the data is right-skewed, with a larger number of lower-priced items and fewer higher-priced outliers.\n",
        "\n",
        "### Outliers\n",
        "- The **maximum price** of 34,448.60 USD suggests there are some extreme outliers in the dataset. These high-end products could represent luxury items, or they could be erroneous data points. Further analysis is needed to confirm if these values are legitimate.\n",
        "\n",
        "### Price Clusters\n",
        "- Based on the **25th percentile**, **median**, and **75th percentile** values, jewelry prices can be grouped into:\n",
        "  - **Low-priced jewelry**: Priced below 145.62 USD.\n",
        "  - **Mid-range jewelry**: Priced between 145.62 USD and 431.37 USD.\n",
        "  - **High-priced jewelry**: Priced above 431.37 USD, particularly closer to the 34,448.60 USD maximum.\n",
        "\n",
        "### Business Implications\n",
        "- **Price Segmentation**: Segmenting the jewelry into low, mid, and high-priced categories can help apply targeted pricing strategies.\n",
        "- **Dynamic Pricing**: Given the significant price variance, dynamic pricing models can be used to adjust prices based on market demand, competition, and customer preferences.\n",
        "- **Demand Elasticity**: Lower-priced items might exhibit higher demand elasticity (sensitive to price changes), while high-priced items may have less price sensitivity (lower elasticity).\n",
        "\n",
        "---\n",
        "\n",
        "## Recommendations:\n",
        "1. **Investigate Outliers**: Review jewelry items priced above 5,000 USD to determine if they are legitimate high-end products or potential data errors.\n",
        "2. **Segment Pricing Tiers**: Segment jewelry into low, mid, and high-priced categories based on the percentiles (25%, 50%, 75%) to apply different pricing strategies for each category.\n",
        "3. **Explore Correlation with Sales**: Investigate how pricing affects sales volume and profitability, especially for mid-range products, to optimize pricing for maximum revenue.\n",
        "\n"
      ],
      "metadata": {
        "id": "KYfaQgbcW0vj"
      }
    },
    {
      "cell_type": "code",
      "source": [
        "# Checking for duplicates\n",
        "data.duplicated().sum()"
      ],
      "metadata": {
        "colab": {
          "base_uri": "https://localhost:8080/"
        },
        "id": "PgwZPmUZWEFi",
        "outputId": "db520a4f-13d6-4f79-968a-8733535b1296"
      },
      "execution_count": 99,
      "outputs": [
        {
          "output_type": "execute_result",
          "data": {
            "text/plain": [
              "2589"
            ]
          },
          "metadata": {},
          "execution_count": 99
        }
      ]
    },
    {
      "cell_type": "code",
      "source": [
        "# Display all duplicate rows\n",
        "data[data.duplicated(keep=False)]  # keep=False shows all occurrences of duplicates"
      ],
      "metadata": {
        "colab": {
          "base_uri": "https://localhost:8080/",
          "height": 617
        },
        "id": "Rq7wBvChOOJ5",
        "outputId": "fbc19c78-c57e-41e4-968a-91eee5198ff8"
      },
      "execution_count": 100,
      "outputs": [
        {
          "output_type": "execute_result",
          "data": {
            "text/plain": [
              "                Order_datetime             Order_ID           Product_ID  \\\n",
              "15     2018-12-04 12:40:48 UTC  1926923883428970549  1874395183001371437   \n",
              "16     2018-12-04 12:40:48 UTC  1926923883428970549  1874395183001371437   \n",
              "47     2018-12-12 06:27:06 UTC  1932533996177064822  1836524717922582619   \n",
              "48     2018-12-12 06:27:06 UTC  1932533996177064822  1836524717922582619   \n",
              "60     2018-12-12 16:20:31 UTC  1932832674947268611  1837931920638345257   \n",
              "...                        ...                  ...                  ...   \n",
              "81272  2021-10-05 07:50:53 UTC  2677645618163220877  1956663848396128317   \n",
              "81307  2021-10-05 11:25:49 UTC  2677753799765917730  1956663831300145187   \n",
              "81308  2021-10-05 11:25:49 UTC  2677753799765917730  1956663831300145187   \n",
              "81314  2021-10-05 12:21:07 UTC  2677781633259537116  1352907200745439279   \n",
              "81315  2021-10-05 12:21:07 UTC  2677781633259537116  1352907200745439279   \n",
              "\n",
              "       Quantity_of_SKU   Category_ID         Category  Brand_ID  Price_USD  \\\n",
              "15                   1  1.806829e+18     jewelry.ring       1.0     154.88   \n",
              "16                   1  1.806829e+18     jewelry.ring       1.0     154.88   \n",
              "47                   1  1.806829e+18  jewelry.earring       1.0     141.62   \n",
              "48                   1  1.806829e+18  jewelry.earring       1.0     141.62   \n",
              "60                   1  1.806829e+18  jewelry.pendant       1.0     247.85   \n",
              "...                ...           ...              ...       ...        ...   \n",
              "81272                1  1.806829e+18     jewelry.ring       0.0     630.00   \n",
              "81307                1  1.806829e+18     jewelry.ring       0.0     194.73   \n",
              "81308                1  1.806829e+18     jewelry.ring       0.0     194.73   \n",
              "81314                1  1.806829e+18     jewelry.ring       0.0     215.14   \n",
              "81315                1  1.806829e+18     jewelry.ring       0.0     215.14   \n",
              "\n",
              "            User_ID Gender Main_color Main_metal  Main_gem  \n",
              "15     1.515916e+18    NaN      white       gold   diamond  \n",
              "16     1.515916e+18    NaN      white       gold   diamond  \n",
              "47     1.515916e+18    NaN        red       gold  amethyst  \n",
              "48     1.515916e+18    NaN        red       gold  amethyst  \n",
              "60     1.325156e+18    NaN        red       gold    fianit  \n",
              "...             ...    ...        ...        ...       ...  \n",
              "81272  1.515916e+18    NaN        red       gold   diamond  \n",
              "81307  1.515916e+18    NaN        red       gold       NaN  \n",
              "81308  1.515916e+18    NaN        red       gold       NaN  \n",
              "81314  1.515916e+18    NaN      white       gold       NaN  \n",
              "81315  1.515916e+18    NaN      white       gold       NaN  \n",
              "\n",
              "[4887 rows x 13 columns]"
            ],
            "text/html": [
              "\n",
              "  <div id=\"df-f27abc3a-206e-47c7-baf7-9a2610b36f2b\" class=\"colab-df-container\">\n",
              "    <div>\n",
              "<style scoped>\n",
              "    .dataframe tbody tr th:only-of-type {\n",
              "        vertical-align: middle;\n",
              "    }\n",
              "\n",
              "    .dataframe tbody tr th {\n",
              "        vertical-align: top;\n",
              "    }\n",
              "\n",
              "    .dataframe thead th {\n",
              "        text-align: right;\n",
              "    }\n",
              "</style>\n",
              "<table border=\"1\" class=\"dataframe\">\n",
              "  <thead>\n",
              "    <tr style=\"text-align: right;\">\n",
              "      <th></th>\n",
              "      <th>Order_datetime</th>\n",
              "      <th>Order_ID</th>\n",
              "      <th>Product_ID</th>\n",
              "      <th>Quantity_of_SKU</th>\n",
              "      <th>Category_ID</th>\n",
              "      <th>Category</th>\n",
              "      <th>Brand_ID</th>\n",
              "      <th>Price_USD</th>\n",
              "      <th>User_ID</th>\n",
              "      <th>Gender</th>\n",
              "      <th>Main_color</th>\n",
              "      <th>Main_metal</th>\n",
              "      <th>Main_gem</th>\n",
              "    </tr>\n",
              "  </thead>\n",
              "  <tbody>\n",
              "    <tr>\n",
              "      <th>15</th>\n",
              "      <td>2018-12-04 12:40:48 UTC</td>\n",
              "      <td>1926923883428970549</td>\n",
              "      <td>1874395183001371437</td>\n",
              "      <td>1</td>\n",
              "      <td>1.806829e+18</td>\n",
              "      <td>jewelry.ring</td>\n",
              "      <td>1.0</td>\n",
              "      <td>154.88</td>\n",
              "      <td>1.515916e+18</td>\n",
              "      <td>NaN</td>\n",
              "      <td>white</td>\n",
              "      <td>gold</td>\n",
              "      <td>diamond</td>\n",
              "    </tr>\n",
              "    <tr>\n",
              "      <th>16</th>\n",
              "      <td>2018-12-04 12:40:48 UTC</td>\n",
              "      <td>1926923883428970549</td>\n",
              "      <td>1874395183001371437</td>\n",
              "      <td>1</td>\n",
              "      <td>1.806829e+18</td>\n",
              "      <td>jewelry.ring</td>\n",
              "      <td>1.0</td>\n",
              "      <td>154.88</td>\n",
              "      <td>1.515916e+18</td>\n",
              "      <td>NaN</td>\n",
              "      <td>white</td>\n",
              "      <td>gold</td>\n",
              "      <td>diamond</td>\n",
              "    </tr>\n",
              "    <tr>\n",
              "      <th>47</th>\n",
              "      <td>2018-12-12 06:27:06 UTC</td>\n",
              "      <td>1932533996177064822</td>\n",
              "      <td>1836524717922582619</td>\n",
              "      <td>1</td>\n",
              "      <td>1.806829e+18</td>\n",
              "      <td>jewelry.earring</td>\n",
              "      <td>1.0</td>\n",
              "      <td>141.62</td>\n",
              "      <td>1.515916e+18</td>\n",
              "      <td>NaN</td>\n",
              "      <td>red</td>\n",
              "      <td>gold</td>\n",
              "      <td>amethyst</td>\n",
              "    </tr>\n",
              "    <tr>\n",
              "      <th>48</th>\n",
              "      <td>2018-12-12 06:27:06 UTC</td>\n",
              "      <td>1932533996177064822</td>\n",
              "      <td>1836524717922582619</td>\n",
              "      <td>1</td>\n",
              "      <td>1.806829e+18</td>\n",
              "      <td>jewelry.earring</td>\n",
              "      <td>1.0</td>\n",
              "      <td>141.62</td>\n",
              "      <td>1.515916e+18</td>\n",
              "      <td>NaN</td>\n",
              "      <td>red</td>\n",
              "      <td>gold</td>\n",
              "      <td>amethyst</td>\n",
              "    </tr>\n",
              "    <tr>\n",
              "      <th>60</th>\n",
              "      <td>2018-12-12 16:20:31 UTC</td>\n",
              "      <td>1932832674947268611</td>\n",
              "      <td>1837931920638345257</td>\n",
              "      <td>1</td>\n",
              "      <td>1.806829e+18</td>\n",
              "      <td>jewelry.pendant</td>\n",
              "      <td>1.0</td>\n",
              "      <td>247.85</td>\n",
              "      <td>1.325156e+18</td>\n",
              "      <td>NaN</td>\n",
              "      <td>red</td>\n",
              "      <td>gold</td>\n",
              "      <td>fianit</td>\n",
              "    </tr>\n",
              "    <tr>\n",
              "      <th>...</th>\n",
              "      <td>...</td>\n",
              "      <td>...</td>\n",
              "      <td>...</td>\n",
              "      <td>...</td>\n",
              "      <td>...</td>\n",
              "      <td>...</td>\n",
              "      <td>...</td>\n",
              "      <td>...</td>\n",
              "      <td>...</td>\n",
              "      <td>...</td>\n",
              "      <td>...</td>\n",
              "      <td>...</td>\n",
              "      <td>...</td>\n",
              "    </tr>\n",
              "    <tr>\n",
              "      <th>81272</th>\n",
              "      <td>2021-10-05 07:50:53 UTC</td>\n",
              "      <td>2677645618163220877</td>\n",
              "      <td>1956663848396128317</td>\n",
              "      <td>1</td>\n",
              "      <td>1.806829e+18</td>\n",
              "      <td>jewelry.ring</td>\n",
              "      <td>0.0</td>\n",
              "      <td>630.00</td>\n",
              "      <td>1.515916e+18</td>\n",
              "      <td>NaN</td>\n",
              "      <td>red</td>\n",
              "      <td>gold</td>\n",
              "      <td>diamond</td>\n",
              "    </tr>\n",
              "    <tr>\n",
              "      <th>81307</th>\n",
              "      <td>2021-10-05 11:25:49 UTC</td>\n",
              "      <td>2677753799765917730</td>\n",
              "      <td>1956663831300145187</td>\n",
              "      <td>1</td>\n",
              "      <td>1.806829e+18</td>\n",
              "      <td>jewelry.ring</td>\n",
              "      <td>0.0</td>\n",
              "      <td>194.73</td>\n",
              "      <td>1.515916e+18</td>\n",
              "      <td>NaN</td>\n",
              "      <td>red</td>\n",
              "      <td>gold</td>\n",
              "      <td>NaN</td>\n",
              "    </tr>\n",
              "    <tr>\n",
              "      <th>81308</th>\n",
              "      <td>2021-10-05 11:25:49 UTC</td>\n",
              "      <td>2677753799765917730</td>\n",
              "      <td>1956663831300145187</td>\n",
              "      <td>1</td>\n",
              "      <td>1.806829e+18</td>\n",
              "      <td>jewelry.ring</td>\n",
              "      <td>0.0</td>\n",
              "      <td>194.73</td>\n",
              "      <td>1.515916e+18</td>\n",
              "      <td>NaN</td>\n",
              "      <td>red</td>\n",
              "      <td>gold</td>\n",
              "      <td>NaN</td>\n",
              "    </tr>\n",
              "    <tr>\n",
              "      <th>81314</th>\n",
              "      <td>2021-10-05 12:21:07 UTC</td>\n",
              "      <td>2677781633259537116</td>\n",
              "      <td>1352907200745439279</td>\n",
              "      <td>1</td>\n",
              "      <td>1.806829e+18</td>\n",
              "      <td>jewelry.ring</td>\n",
              "      <td>0.0</td>\n",
              "      <td>215.14</td>\n",
              "      <td>1.515916e+18</td>\n",
              "      <td>NaN</td>\n",
              "      <td>white</td>\n",
              "      <td>gold</td>\n",
              "      <td>NaN</td>\n",
              "    </tr>\n",
              "    <tr>\n",
              "      <th>81315</th>\n",
              "      <td>2021-10-05 12:21:07 UTC</td>\n",
              "      <td>2677781633259537116</td>\n",
              "      <td>1352907200745439279</td>\n",
              "      <td>1</td>\n",
              "      <td>1.806829e+18</td>\n",
              "      <td>jewelry.ring</td>\n",
              "      <td>0.0</td>\n",
              "      <td>215.14</td>\n",
              "      <td>1.515916e+18</td>\n",
              "      <td>NaN</td>\n",
              "      <td>white</td>\n",
              "      <td>gold</td>\n",
              "      <td>NaN</td>\n",
              "    </tr>\n",
              "  </tbody>\n",
              "</table>\n",
              "<p>4887 rows × 13 columns</p>\n",
              "</div>\n",
              "    <div class=\"colab-df-buttons\">\n",
              "\n",
              "  <div class=\"colab-df-container\">\n",
              "    <button class=\"colab-df-convert\" onclick=\"convertToInteractive('df-f27abc3a-206e-47c7-baf7-9a2610b36f2b')\"\n",
              "            title=\"Convert this dataframe to an interactive table.\"\n",
              "            style=\"display:none;\">\n",
              "\n",
              "  <svg xmlns=\"http://www.w3.org/2000/svg\" height=\"24px\" viewBox=\"0 -960 960 960\">\n",
              "    <path d=\"M120-120v-720h720v720H120Zm60-500h600v-160H180v160Zm220 220h160v-160H400v160Zm0 220h160v-160H400v160ZM180-400h160v-160H180v160Zm440 0h160v-160H620v160ZM180-180h160v-160H180v160Zm440 0h160v-160H620v160Z\"/>\n",
              "  </svg>\n",
              "    </button>\n",
              "\n",
              "  <style>\n",
              "    .colab-df-container {\n",
              "      display:flex;\n",
              "      gap: 12px;\n",
              "    }\n",
              "\n",
              "    .colab-df-convert {\n",
              "      background-color: #E8F0FE;\n",
              "      border: none;\n",
              "      border-radius: 50%;\n",
              "      cursor: pointer;\n",
              "      display: none;\n",
              "      fill: #1967D2;\n",
              "      height: 32px;\n",
              "      padding: 0 0 0 0;\n",
              "      width: 32px;\n",
              "    }\n",
              "\n",
              "    .colab-df-convert:hover {\n",
              "      background-color: #E2EBFA;\n",
              "      box-shadow: 0px 1px 2px rgba(60, 64, 67, 0.3), 0px 1px 3px 1px rgba(60, 64, 67, 0.15);\n",
              "      fill: #174EA6;\n",
              "    }\n",
              "\n",
              "    .colab-df-buttons div {\n",
              "      margin-bottom: 4px;\n",
              "    }\n",
              "\n",
              "    [theme=dark] .colab-df-convert {\n",
              "      background-color: #3B4455;\n",
              "      fill: #D2E3FC;\n",
              "    }\n",
              "\n",
              "    [theme=dark] .colab-df-convert:hover {\n",
              "      background-color: #434B5C;\n",
              "      box-shadow: 0px 1px 3px 1px rgba(0, 0, 0, 0.15);\n",
              "      filter: drop-shadow(0px 1px 2px rgba(0, 0, 0, 0.3));\n",
              "      fill: #FFFFFF;\n",
              "    }\n",
              "  </style>\n",
              "\n",
              "    <script>\n",
              "      const buttonEl =\n",
              "        document.querySelector('#df-f27abc3a-206e-47c7-baf7-9a2610b36f2b button.colab-df-convert');\n",
              "      buttonEl.style.display =\n",
              "        google.colab.kernel.accessAllowed ? 'block' : 'none';\n",
              "\n",
              "      async function convertToInteractive(key) {\n",
              "        const element = document.querySelector('#df-f27abc3a-206e-47c7-baf7-9a2610b36f2b');\n",
              "        const dataTable =\n",
              "          await google.colab.kernel.invokeFunction('convertToInteractive',\n",
              "                                                    [key], {});\n",
              "        if (!dataTable) return;\n",
              "\n",
              "        const docLinkHtml = 'Like what you see? Visit the ' +\n",
              "          '<a target=\"_blank\" href=https://colab.research.google.com/notebooks/data_table.ipynb>data table notebook</a>'\n",
              "          + ' to learn more about interactive tables.';\n",
              "        element.innerHTML = '';\n",
              "        dataTable['output_type'] = 'display_data';\n",
              "        await google.colab.output.renderOutput(dataTable, element);\n",
              "        const docLink = document.createElement('div');\n",
              "        docLink.innerHTML = docLinkHtml;\n",
              "        element.appendChild(docLink);\n",
              "      }\n",
              "    </script>\n",
              "  </div>\n",
              "\n",
              "\n",
              "<div id=\"df-e8540652-f196-4de2-bbd8-f594aed19b02\">\n",
              "  <button class=\"colab-df-quickchart\" onclick=\"quickchart('df-e8540652-f196-4de2-bbd8-f594aed19b02')\"\n",
              "            title=\"Suggest charts\"\n",
              "            style=\"display:none;\">\n",
              "\n",
              "<svg xmlns=\"http://www.w3.org/2000/svg\" height=\"24px\"viewBox=\"0 0 24 24\"\n",
              "     width=\"24px\">\n",
              "    <g>\n",
              "        <path d=\"M19 3H5c-1.1 0-2 .9-2 2v14c0 1.1.9 2 2 2h14c1.1 0 2-.9 2-2V5c0-1.1-.9-2-2-2zM9 17H7v-7h2v7zm4 0h-2V7h2v10zm4 0h-2v-4h2v4z\"/>\n",
              "    </g>\n",
              "</svg>\n",
              "  </button>\n",
              "\n",
              "<style>\n",
              "  .colab-df-quickchart {\n",
              "      --bg-color: #E8F0FE;\n",
              "      --fill-color: #1967D2;\n",
              "      --hover-bg-color: #E2EBFA;\n",
              "      --hover-fill-color: #174EA6;\n",
              "      --disabled-fill-color: #AAA;\n",
              "      --disabled-bg-color: #DDD;\n",
              "  }\n",
              "\n",
              "  [theme=dark] .colab-df-quickchart {\n",
              "      --bg-color: #3B4455;\n",
              "      --fill-color: #D2E3FC;\n",
              "      --hover-bg-color: #434B5C;\n",
              "      --hover-fill-color: #FFFFFF;\n",
              "      --disabled-bg-color: #3B4455;\n",
              "      --disabled-fill-color: #666;\n",
              "  }\n",
              "\n",
              "  .colab-df-quickchart {\n",
              "    background-color: var(--bg-color);\n",
              "    border: none;\n",
              "    border-radius: 50%;\n",
              "    cursor: pointer;\n",
              "    display: none;\n",
              "    fill: var(--fill-color);\n",
              "    height: 32px;\n",
              "    padding: 0;\n",
              "    width: 32px;\n",
              "  }\n",
              "\n",
              "  .colab-df-quickchart:hover {\n",
              "    background-color: var(--hover-bg-color);\n",
              "    box-shadow: 0 1px 2px rgba(60, 64, 67, 0.3), 0 1px 3px 1px rgba(60, 64, 67, 0.15);\n",
              "    fill: var(--button-hover-fill-color);\n",
              "  }\n",
              "\n",
              "  .colab-df-quickchart-complete:disabled,\n",
              "  .colab-df-quickchart-complete:disabled:hover {\n",
              "    background-color: var(--disabled-bg-color);\n",
              "    fill: var(--disabled-fill-color);\n",
              "    box-shadow: none;\n",
              "  }\n",
              "\n",
              "  .colab-df-spinner {\n",
              "    border: 2px solid var(--fill-color);\n",
              "    border-color: transparent;\n",
              "    border-bottom-color: var(--fill-color);\n",
              "    animation:\n",
              "      spin 1s steps(1) infinite;\n",
              "  }\n",
              "\n",
              "  @keyframes spin {\n",
              "    0% {\n",
              "      border-color: transparent;\n",
              "      border-bottom-color: var(--fill-color);\n",
              "      border-left-color: var(--fill-color);\n",
              "    }\n",
              "    20% {\n",
              "      border-color: transparent;\n",
              "      border-left-color: var(--fill-color);\n",
              "      border-top-color: var(--fill-color);\n",
              "    }\n",
              "    30% {\n",
              "      border-color: transparent;\n",
              "      border-left-color: var(--fill-color);\n",
              "      border-top-color: var(--fill-color);\n",
              "      border-right-color: var(--fill-color);\n",
              "    }\n",
              "    40% {\n",
              "      border-color: transparent;\n",
              "      border-right-color: var(--fill-color);\n",
              "      border-top-color: var(--fill-color);\n",
              "    }\n",
              "    60% {\n",
              "      border-color: transparent;\n",
              "      border-right-color: var(--fill-color);\n",
              "    }\n",
              "    80% {\n",
              "      border-color: transparent;\n",
              "      border-right-color: var(--fill-color);\n",
              "      border-bottom-color: var(--fill-color);\n",
              "    }\n",
              "    90% {\n",
              "      border-color: transparent;\n",
              "      border-bottom-color: var(--fill-color);\n",
              "    }\n",
              "  }\n",
              "</style>\n",
              "\n",
              "  <script>\n",
              "    async function quickchart(key) {\n",
              "      const quickchartButtonEl =\n",
              "        document.querySelector('#' + key + ' button');\n",
              "      quickchartButtonEl.disabled = true;  // To prevent multiple clicks.\n",
              "      quickchartButtonEl.classList.add('colab-df-spinner');\n",
              "      try {\n",
              "        const charts = await google.colab.kernel.invokeFunction(\n",
              "            'suggestCharts', [key], {});\n",
              "      } catch (error) {\n",
              "        console.error('Error during call to suggestCharts:', error);\n",
              "      }\n",
              "      quickchartButtonEl.classList.remove('colab-df-spinner');\n",
              "      quickchartButtonEl.classList.add('colab-df-quickchart-complete');\n",
              "    }\n",
              "    (() => {\n",
              "      let quickchartButtonEl =\n",
              "        document.querySelector('#df-e8540652-f196-4de2-bbd8-f594aed19b02 button');\n",
              "      quickchartButtonEl.style.display =\n",
              "        google.colab.kernel.accessAllowed ? 'block' : 'none';\n",
              "    })();\n",
              "  </script>\n",
              "</div>\n",
              "\n",
              "    </div>\n",
              "  </div>\n"
            ],
            "application/vnd.google.colaboratory.intrinsic+json": {
              "type": "dataframe",
              "repr_error": "0"
            }
          },
          "metadata": {},
          "execution_count": 100
        }
      ]
    },
    {
      "cell_type": "code",
      "source": [
        "data.drop_duplicates(inplace=True)"
      ],
      "metadata": {
        "id": "ZHY61fv3Pbkj"
      },
      "execution_count": 101,
      "outputs": []
    },
    {
      "cell_type": "markdown",
      "source": [
        "# Why Should We Remove Duplicates in Jewelry Price Optimization?\n",
        "\n",
        "In the context of **jewelry price optimization**, having duplicate records can lead to **incorrect pricing insights and misleading analysis**. Here's why removing them is important:\n",
        "\n",
        "## 🔹 1. Prevents Overestimation of Sales Demand  \n",
        "- If duplicates are present, the same **Order_ID** and **Product_ID** are counted multiple times.  \n",
        "- This **inflates demand estimates**, leading to **overstocking** or **wrong pricing strategies**.  \n",
        "- **Example:** If a ring was sold **once** but appears **twice**, our model might think it’s twice as popular.  \n",
        "\n",
        "## 🔹 2. Ensures Accurate Revenue & Profit Calculation  \n",
        "- Duplicates **double-count** revenue, leading to **incorrect pricing decisions**.  \n",
        "- **Example:** If the ring costs **$154.88**, but appears twice, total revenue will show **$309.76** instead of **$154.88**.  \n",
        "\n",
        "## 🔹 3. Prevents Biased Price Elasticity & Demand Analysis  \n",
        "- If duplicates exist, price-demand relationships are skewed.  \n",
        "- This might lead to **incorrect discount strategies** or **suboptimal pricing recommendations**.  \n",
        "- **Example:** If demand for diamond rings appears artificially high due to duplicates, we may **increase prices** when we should not.  \n",
        "\n",
        "## 🔹 4. Avoids Model Overfitting in Predictive Analysis  \n",
        "- If training data contains duplicates, **ML models might overfit**, assuming fake trends.  \n",
        "- Clean data ensures **better price predictions** for future jewelry sales.  \n"
      ],
      "metadata": {
        "id": "vVFwZ9TKPQ3E"
      }
    },
    {
      "cell_type": "markdown",
      "source": [
        "#Data Exploration"
      ],
      "metadata": {
        "id": "7vPjDFB8b75Y"
      }
    },
    {
      "cell_type": "markdown",
      "source": [
        "### Price of Jewelry"
      ],
      "metadata": {
        "id": "dMkKC7-MeHgf"
      }
    },
    {
      "cell_type": "code",
      "source": [
        "#Analyze the distribution of Price of the Jewelry\n",
        "skew_price= data[\"Price_USD\"].skew()\n",
        "print(f\"Skewness of Price: {skew_price}\")\n",
        "\n",
        "kurtosis_price= data[\"Price_USD\"].kurtosis()\n",
        "print(f\"Kurtosis of Price: {kurtosis_price}\")\n",
        "\n",
        "# Create a figure for visualization\n",
        "plt.figure(figsize=(12, 5))\n",
        "\n",
        "# Histogram\n",
        "plt.subplot(1, 2, 1)\n",
        "sns.histplot(data[\"Price_USD\"], bins=30, kde=True, color=\"blue\")\n",
        "plt.axvline(data[\"Price_USD\"].mean(), color='red', linestyle='dashed', linewidth=2, label=\"Mean\")\n",
        "plt.axvline(data[\"Price_USD\"].median(), color='green', linestyle='dashed', linewidth=2, label=\"Median\")\n",
        "plt.title(\"Histogram of Price\")\n",
        "plt.xlabel(\"Price (USD)\")\n",
        "plt.ylabel(\"Frequency\")\n",
        "plt.legend()\n",
        "\n",
        "# Box Plot\n",
        "plt.subplot(1, 2, 2)\n",
        "sns.boxplot(x=data[\"Price_USD\"], color=\"blue\")\n",
        "plt.title(\"Box Plot of Price\")\n",
        "plt.xlabel(\"Price (USD)\")\n",
        "\n",
        "# Show the plots\n",
        "plt.tight_layout()\n",
        "plt.show()"
      ],
      "metadata": {
        "colab": {
          "base_uri": "https://localhost:8080/",
          "height": 542
        },
        "id": "3TYPZ3-ob6-C",
        "outputId": "f2b941b4-6dde-465d-b60b-081877c380ca"
      },
      "execution_count": 102,
      "outputs": [
        {
          "output_type": "stream",
          "name": "stdout",
          "text": [
            "Skewness of Price: 18.919793378274285\n",
            "Kurtosis of Price: 1044.1569649991407\n"
          ]
        },
        {
          "output_type": "display_data",
          "data": {
            "text/plain": [
              "<Figure size 1200x500 with 2 Axes>"
            ],
            "image/png": "[encoded data removed]"
          },
          "metadata": {}
        }
      ]
    },
    {
      "cell_type": "markdown",
      "source": [
        "\n",
        "\n",
        "- **Skewness = 18.92** → The distribution is **highly right-skewed**, meaning most prices are low, but a few extreme high values pull the distribution to the right.  \n",
        "- **Kurtosis = 1044.15** → The distribution has **extremely high kurtosis**, indicating heavy tails and a strong presence of extreme outliers. Most prices are clustered within a narrow range, with rare but extreme price spikes.  \n",
        "\n",
        "### **Implications:**\n",
        "- The presence of extreme **outliers** is significantly affecting the distribution.  "
      ],
      "metadata": {
        "id": "0tEDcdCbdBIF"
      }
    },
    {
      "cell_type": "markdown",
      "source": [
        "### Targeted Audience"
      ],
      "metadata": {
        "id": "go8PdZedeSY5"
      }
    },
    {
      "cell_type": "code",
      "source": [
        "# Get the proportion of each gender category\n",
        "gender_counts = data[\"Gender\"].value_counts(normalize=True)\n",
        "\n",
        "# Plotting the donut chart\n",
        "plt.figure(figsize=(7, 7))\n",
        "wedges, texts, autotexts = plt.pie(gender_counts, labels=gender_counts.index, autopct='%1.1f%%', startangle=90,\n",
        "                                   colors=['#004b87', '#66b3ff'], wedgeprops={'width': 0.4}, pctdistance=0.85, textprops={'color': 'white'})\n",
        "\n",
        "# Add a central circle to make it a donut chart\n",
        "centre_circle = plt.Circle((0,0),0.3,fc='white')\n",
        "plt.gca().add_artist(centre_circle)\n",
        "\n",
        "# Title of the chart\n",
        "plt.title('Gender Proportion')\n",
        "\n",
        "# Add a legend\n",
        "plt.legend(wedges, gender_counts.index, title=\"Gender\", loc=\"best\", fontsize=10)\n",
        "\n",
        "# Show the plot\n",
        "plt.show()\n"
      ],
      "metadata": {
        "colab": {
          "base_uri": "https://localhost:8080/",
          "height": 598
        },
        "id": "ddLmSTfLeV00",
        "outputId": "3aee4840-f420-4a60-9934-c7bb0ead1bcd"
      },
      "execution_count": 103,
      "outputs": [
        {
          "output_type": "display_data",
          "data": {
            "text/plain": [
              "<Figure size 700x700 with 1 Axes>"
            ],
            "image/png": "[encoded data removed]"
          },
          "metadata": {}
        }
      ]
    },
    {
      "cell_type": "markdown",
      "source": [
        "This imbalance might make sense since females generally use jewelries as compared to males"
      ],
      "metadata": {
        "id": "29AKa89NfSef"
      }
    },
    {
      "cell_type": "markdown",
      "source": [
        "#SALES TREND"
      ],
      "metadata": {
        "id": "P4iWKKBEicQ6"
      }
    },
    {
      "cell_type": "code",
      "source": [
        "# Convert Order_datetime to datetime format\n",
        "data[\"Order_datetime\"] = pd.to_datetime(data[\"Order_datetime\"])\n",
        "\n",
        "# Extract Year and Month\n",
        "data[\"Year\"] = data[\"Order_datetime\"].dt.year\n",
        "data[\"Month\"] = data[\"Order_datetime\"].dt.month"
      ],
      "metadata": {
        "id": "eOWPx2V2iA79"
      },
      "execution_count": 104,
      "outputs": []
    },
    {
      "cell_type": "code",
      "source": [
        "# Group data by Year and sum the Quantity_of_SKU\n",
        "sales_trend = data.groupby(\"Year\")[\"Quantity_of_SKU\"].sum()\n",
        "\n",
        "# Create a line chart with markers\n",
        "fig, ax = plt.subplots(figsize=(7, 5))  # Adjusting the figure size\n",
        "sales_trend.plot(kind=\"line\", marker='o', title=\"Total Sales per Year\", ax=ax)\n",
        "\n",
        "# Hide the y-axis and its labels\n",
        "plt.gca().get_yaxis().set_visible(False)\n",
        "\n",
        "# Adjust the x-axis to show only the full years (remove half years)\n",
        "ax.set_xticks([2018, 2019, 2020, 2021])\n",
        "\n",
        "# Add data labels to the markers, with commas for thousands\n",
        "for i, value in enumerate(sales_trend):\n",
        "    ax.text(sales_trend.index[i], value, f\"{int(value):,}\", fontsize=9, ha='center', va='bottom')\n",
        "\n",
        "# Show the plot\n",
        "plt.show()\n"
      ],
      "metadata": {
        "id": "-3LtalA1iA_G",
        "outputId": "7b1e4491-5cde-42af-96f0-11e25f9d21c8",
        "colab": {
          "base_uri": "https://localhost:8080/",
          "height": 487
        }
      },
      "execution_count": 105,
      "outputs": [
        {
          "output_type": "display_data",
          "data": {
            "text/plain": [
              "<Figure size 700x500 with 1 Axes>"
            ],
            "image/png": "[encoded data removed]"
          },
          "metadata": {}
        }
      ]
    },
    {
      "cell_type": "markdown",
      "source": [
        "\n",
        "### Analysis:\n",
        "\n",
        "#### **2018: 117 Units**\n",
        "- Sales in **2018** were extremely low, indicating that the business was either in its early stages or faced limited demand. This could suggest **lack of brand awareness**, **product availability**, or **marketing efforts**.\n",
        "- Since it is the first year, it could also reflect limited **market penetration** or seasonal effects (e.g., if the business was new and launched towards the end of the year).\n",
        "\n",
        "#### **2019: 11,645 Units**\n",
        "- A **massive increase** in sales compared to 2018 shows **strong growth**, possibly due to increased **brand recognition**, better **marketing strategies**, or improvements in **product offerings**.\n",
        "- This could also be the result of a **successful marketing campaign**, such as **holiday promotions**, **seasonal launches**, or **expanded product lines**.\n",
        "- It might indicate that customers were starting to recognize the brand, leading to a boost in **repeat purchases**.\n",
        "\n",
        "#### **2020: 26,304 Units**\n",
        "- The **pandemic year** (COVID-19) led to significant shifts in buying behavior. The increase in sales could be attributed to several factors:\n",
        "  - **Online shopping surge**: With lockdowns and social distancing, **e-commerce** became the dominant mode of shopping.\n",
        "  - **Increased gifting behavior**: Many people bought gifts for loved ones due to social distancing, birthdays, or other occasions.\n",
        "  - **Product category appeal**: Jewelry, being a relatively low-cost luxury item, may have been an attractive gift option in uncertain times.\n",
        "- The pandemic year seems to have had a **positive impact on sales**, as many consumers might have turned to jewelry as a form of **self-expression** or **gift-giving** during difficult times.\n",
        "\n",
        "#### **2021: 55,255 Units**\n",
        "- There was a **significant growth** in 2021, reflecting **recovery** and **resurgence** of consumer confidence as markets opened up and people began spending again.\n",
        "- The sales increase could also reflect **post-pandemic demand**, where customers returned to in-person shopping and resumed higher spending patterns. Jewelry, as a form of **self-reward**, may have been in demand as people regained economic stability.\n",
        "- It also suggests that the brand may have **expanded its market presence**, reached new customer segments, or launched more appealing collections during the year.\n",
        "\n",
        "---\n",
        "\n",
        "### Implications for Price Optimization:\n",
        "\n",
        "#### **2018 (Low Sales):**\n",
        "- In **2018**, the **117 units sold** indicate that the business needs to focus on **market penetration**. **Pricing strategies** should focus on **competitive pricing** to attract initial customers.\n",
        "- **Promotions or discounts** could be introduced to incentivize early adopters and increase volume, possibly through **seasonal offers** or **bundling**.\n",
        "- **Brand positioning** should emphasize **value for money**, with the goal of increasing awareness and loyalty. Since the volume was low, **affordable pricing** might have been key to driving early interest.\n",
        "\n",
        "#### **2019 (Growth Year):**\n",
        "- In **2019**, with **11,645 units sold**, the growth suggests the brand’s product offering and marketing campaigns resonated with consumers. **Price optimization** could focus on slightly **higher pricing** for premium items now that the brand had gained recognition.\n",
        "- During this time, **bundling** and **seasonal discounts** could help boost sales without heavily discounting individual items. **Tiered pricing** could also be introduced to capture both **budget-conscious buyers** and those willing to spend on more premium products.\n",
        "\n",
        "#### **2020 (Pandemic Year):**\n",
        "- The **26,304 units sold** during the pandemic indicate significant demand despite the global uncertainty. This is a great opportunity to capitalize on the **e-commerce boom** and shift to **dynamic pricing models**.\n",
        "- **Promotional pricing** for **gift-oriented products** would be effective in encouraging purchases for special occasions, with a focus on **affordable luxury**.\n",
        "- Since more people were likely shopping for **self-care** or **gifting**, pricing strategies could include offering **personalized products**, **bundle deals**, or **special offers** for gifting to boost sales in a competitive market.\n",
        "- Offering **free shipping** or **discounts on bulk purchases** could further incentivize buyers.\n",
        "\n",
        "#### **2021 (Post-Pandemic Surge):**\n",
        "- The **55,255 units sold** in 2021 indicate that the business had fully **recovered from the pandemic** and was likely experiencing sustained growth. This is an ideal time to **optimize pricing** based on **demand elasticity**.\n",
        "- For **high-demand jewelry items**, **premium pricing** can be applied to capitalize on the market’s return to normalcy.\n",
        "- **Tiered pricing** and **loyalty programs** should be employed to target repeat customers and drive customer retention.\n",
        "- The pricing strategy can be **premium** for new collections while maintaining **competitive prices** for classic designs, ensuring that the brand captures both affluent customers and those looking for more affordable options.\n",
        "\n",
        "---\n",
        "\n",
        "### Price Optimization Strategy Based on Quantity Sold by Year:\n",
        "\n",
        "#### **Early Stage (2018):**\n",
        "- **Affordability** should be the primary pricing strategy to establish the brand. Focus on **competitive prices** to attract initial buyers and create awareness.\n",
        "\n",
        "#### **Growth Stage (2019):**\n",
        "- Introduce **tiered pricing** for different product categories.\n",
        "- Gradually introduce **premium pricing** for high-quality or exclusive products while maintaining affordable options for the general market.\n",
        "\n",
        "#### **Pandemic and E-Commerce Surge (2020):**\n",
        "- **Dynamic pricing** based on the **e-commerce boom** and demand for gifts. Offer bundled deals, personalized pricing, and seasonal promotions.\n",
        "- Focus on **affordable luxury** to attract customers seeking value.\n",
        "\n",
        "#### **Post-Pandemic Surge (2021):**\n",
        "- **Premium pricing** for high-demand products.\n",
        "- Introduce **loyalty programs** and **exclusive discounts** for repeat buyers to capitalize on the large number of returning customers.\n",
        "- Flexible pricing based on demand and market trends, with **seasonal pricing strategies** for peak periods (e.g., holiday season).\n",
        "\n",
        "---\n",
        "\n",
        "### Conclusion:\n",
        "\n",
        "The significant increase in sales from **2018 to 2021** suggests that the brand is growing and recovering from the pandemic, with **e-commerce** and **post-pandemic spending** playing a key role. By tailoring the **pricing strategy** to each phase of growth, from **competitive pricing** for early-stage market penetration to **premium pricing** for high-demand products post-pandemic, the business can **maximize revenue** and **optimize sales** for both low and high-volume customers.\n"
      ],
      "metadata": {
        "id": "sjoCv9Qo8lz_"
      }
    },
    {
      "cell_type": "markdown",
      "source": [
        "### 2. EFFECT OF COVID-19 ON SALES ###"
      ],
      "metadata": {
        "id": "nwFzob3Rir3F"
      }
    },
    {
      "cell_type": "code",
      "source": [
        "# Filter the data into pre-COVID (before 2020) and during COVID (2020-2021)\n",
        "pre_covid = data[data['Year'] < 2020]\n",
        "during_covid = data[data['Year'] >= 2020]\n",
        "\n",
        "# Total sales before and during COVID\n",
        "pre_covid_sales = pre_covid[\"Quantity_of_SKU\"].sum()\n",
        "during_covid_sales = during_covid[\"Quantity_of_SKU\"].sum()\n",
        "\n",
        "# Create the donut chart\n",
        "labels = ['Pre-COVID (2018-2019)', 'During COVID (2020-2021)']\n",
        "sizes = [pre_covid_sales, during_covid_sales]\n",
        "colors = ['#1f77b4', '#004c8c']  # Deep blue for 'During COVID' and lighter blue for 'Pre-COVID'\n",
        "\n",
        "# Plot the donut chart\n",
        "fig, ax = plt.subplots(figsize=(12, 8))\n",
        "ax.pie(sizes, labels=labels, colors=colors, autopct='%1.1f%%', startangle=90,\n",
        "       wedgeprops={'width': 0.4}, pctdistance=0.85)  # Adjusted pctdistance to move percentages away\n",
        "\n",
        "# Add a central circle to make it a donut chart\n",
        "centre_circle = plt.Circle((0,0),0.3,fc='white')\n",
        "fig.gca().add_artist(centre_circle)\n",
        "\n",
        "# Title of the chart\n",
        "plt.title(\"Total Sales Comparison\\nPre-COVID vs. During COVID\")\n",
        "\n",
        "# Show the plot\n",
        "plt.show()\n"
      ],
      "metadata": {
        "id": "rh2tb-YPiBCV",
        "outputId": "24adf150-fbbd-460c-e208-c54e4f344703",
        "colab": {
          "base_uri": "https://localhost:8080/",
          "height": 696
        }
      },
      "execution_count": 106,
      "outputs": [
        {
          "output_type": "display_data",
          "data": {
            "text/plain": [
              "<Figure size 1200x800 with 1 Axes>"
            ],
            "image/png": "[encoded data removed]"
          },
          "metadata": {}
        }
      ]
    },
    {
      "cell_type": "markdown",
      "source": [
        "### 3. PRICE ELASTICITY ANALYSIS ###"
      ],
      "metadata": {
        "id": "D5gPotlti4yU"
      }
    },
    {
      "cell_type": "code",
      "source": [
        "def price_elasticity(data):\n",
        "    df = data.sort_values(\"Price_USD\")\n",
        "    df[\"Price_Change\"] = df[\"Price_USD\"].pct_change()\n",
        "    df[\"Quantity_Change\"] = df[\"Quantity_of_SKU\"].pct_change()\n",
        "    df = df.dropna()\n",
        "    df[\"Elasticity\"] = df[\"Quantity_Change\"] / df[\"Price_Change\"]\n",
        "    return df[[\"Price_USD\", \"Elasticity\"]]\n",
        "\n",
        "elasticity_df = price_elasticity(data)\n",
        "sns.scatterplot(data=elasticity_df, x=\"Price_USD\", y=\"Elasticity\")\n",
        "plt.axhline(y=1, color='r', linestyle='--', label=\"Elastic Demand Threshold\")\n",
        "plt.legend()\n",
        "plt.title(\"Price Elasticity of Demand\")\n",
        "plt.show()"
      ],
      "metadata": {
        "id": "4d0tKphPiBFN",
        "outputId": "e706b57c-0fc9-4732-bd63-a4c9821a72b3",
        "colab": {
          "base_uri": "https://localhost:8080/",
          "height": 472
        }
      },
      "execution_count": 107,
      "outputs": [
        {
          "output_type": "display_data",
          "data": {
            "text/plain": [
              "<Figure size 640x480 with 1 Axes>"
            ],
            "image/png": "[encoded data removed]"
          },
          "metadata": {}
        }
      ]
    },
    {
      "cell_type": "markdown",
      "source": [
        "### 4. SEASONALITY ANALYSIS ###"
      ],
      "metadata": {
        "id": "luK5XNGQjQV9"
      }
    },
    {
      "cell_type": "code",
      "source": [
        "seasonality = data.groupby([\"Year\", \"Month\"])[\"Quantity_of_SKU\"].sum().unstack(0)\n",
        "seasonality.plot(kind=\"line\", figsize=(12, 6), title=\"Monthly Sales Trend\")\n",
        "plt.show()"
      ],
      "metadata": {
        "id": "HrFptnPxiBH7",
        "outputId": "fd68eee0-d2ac-460f-df32-d0d80aa7694a",
        "colab": {
          "base_uri": "https://localhost:8080/",
          "height": 564
        }
      },
      "execution_count": 108,
      "outputs": [
        {
          "output_type": "display_data",
          "data": {
            "text/plain": [
              "<Figure size 1200x600 with 1 Axes>"
            ],
            "image/png": "[encoded data removed]"
          },
          "metadata": {}
        }
      ]
    },
    {
      "cell_type": "markdown",
      "source": [
        "#Data Cleaning"
      ],
      "metadata": {
        "id": "BTSJbajvCO9S"
      }
    },
    {
      "cell_type": "code",
      "source": [
        "#Dealing with corruption\n",
        "\n",
        "# Filter to get the necessary records from the \"Category\" feature\n",
        "data = data[data[\"Category\"].str.contains(\"jewelry\", case=False, na=False)]\n",
        "\n",
        "# Check the result\n",
        "data[\"Category\"].unique()"
      ],
      "metadata": {
        "colab": {
          "base_uri": "https://localhost:8080/"
        },
        "id": "yI3OmyAIyu1v",
        "outputId": "8e248fec-e19b-4f58-99a1-857894f0e0e7"
      },
      "execution_count": 109,
      "outputs": [
        {
          "output_type": "execute_result",
          "data": {
            "text/plain": [
              "array(['jewelry.pendant', 'jewelry.necklace', 'jewelry.earring',\n",
              "       'jewelry.ring', 'jewelry.brooch', 'jewelry.bracelet',\n",
              "       'jewelry.souvenir', 'jewelry.stud'], dtype=object)"
            ]
          },
          "metadata": {},
          "execution_count": 109
        }
      ]
    },
    {
      "cell_type": "code",
      "source": [
        "#missing values\n",
        "data.isnull().mean() * 100"
      ],
      "metadata": {
        "colab": {
          "base_uri": "https://localhost:8080/",
          "height": 554
        },
        "id": "fDhISVkHlKIf",
        "outputId": "8b125edd-bd91-41ac-a909-53ea14a4c43b"
      },
      "execution_count": 110,
      "outputs": [
        {
          "output_type": "execute_result",
          "data": {
            "text/plain": [
              "Order_datetime      0.000000\n",
              "Order_ID            0.000000\n",
              "Product_ID          0.000000\n",
              "Quantity_of_SKU     0.000000\n",
              "Category_ID         0.000000\n",
              "Category            0.000000\n",
              "Brand_ID            4.313138\n",
              "Price_USD           0.000000\n",
              "User_ID             0.000000\n",
              "Gender             44.018851\n",
              "Main_color          2.401168\n",
              "Main_metal          0.110134\n",
              "Main_gem           23.158784\n",
              "Year                0.000000\n",
              "Month               0.000000\n",
              "dtype: float64"
            ],
            "text/html": [
              "<div>\n",
              "<style scoped>\n",
              "    .dataframe tbody tr th:only-of-type {\n",
              "        vertical-align: middle;\n",
              "    }\n",
              "\n",
              "    .dataframe tbody tr th {\n",
              "        vertical-align: top;\n",
              "    }\n",
              "\n",
              "    .dataframe thead th {\n",
              "        text-align: right;\n",
              "    }\n",
              "</style>\n",
              "<table border=\"1\" class=\"dataframe\">\n",
              "  <thead>\n",
              "    <tr style=\"text-align: right;\">\n",
              "      <th></th>\n",
              "      <th>0</th>\n",
              "    </tr>\n",
              "  </thead>\n",
              "  <tbody>\n",
              "    <tr>\n",
              "      <th>Order_datetime</th>\n",
              "      <td>0.000000</td>\n",
              "    </tr>\n",
              "    <tr>\n",
              "      <th>Order_ID</th>\n",
              "      <td>0.000000</td>\n",
              "    </tr>\n",
              "    <tr>\n",
              "      <th>Product_ID</th>\n",
              "      <td>0.000000</td>\n",
              "    </tr>\n",
              "    <tr>\n",
              "      <th>Quantity_of_SKU</th>\n",
              "      <td>0.000000</td>\n",
              "    </tr>\n",
              "    <tr>\n",
              "      <th>Category_ID</th>\n",
              "      <td>0.000000</td>\n",
              "    </tr>\n",
              "    <tr>\n",
              "      <th>Category</th>\n",
              "      <td>0.000000</td>\n",
              "    </tr>\n",
              "    <tr>\n",
              "      <th>Brand_ID</th>\n",
              "      <td>4.313138</td>\n",
              "    </tr>\n",
              "    <tr>\n",
              "      <th>Price_USD</th>\n",
              "      <td>0.000000</td>\n",
              "    </tr>\n",
              "    <tr>\n",
              "      <th>User_ID</th>\n",
              "      <td>0.000000</td>\n",
              "    </tr>\n",
              "    <tr>\n",
              "      <th>Gender</th>\n",
              "      <td>44.018851</td>\n",
              "    </tr>\n",
              "    <tr>\n",
              "      <th>Main_color</th>\n",
              "      <td>2.401168</td>\n",
              "    </tr>\n",
              "    <tr>\n",
              "      <th>Main_metal</th>\n",
              "      <td>0.110134</td>\n",
              "    </tr>\n",
              "    <tr>\n",
              "      <th>Main_gem</th>\n",
              "      <td>23.158784</td>\n",
              "    </tr>\n",
              "    <tr>\n",
              "      <th>Year</th>\n",
              "      <td>0.000000</td>\n",
              "    </tr>\n",
              "    <tr>\n",
              "      <th>Month</th>\n",
              "      <td>0.000000</td>\n",
              "    </tr>\n",
              "  </tbody>\n",
              "</table>\n",
              "</div><br><label><b>dtype:</b> float64</label>"
            ]
          },
          "metadata": {},
          "execution_count": 110
        }
      ]
    },
    {
      "cell_type": "markdown",
      "source": [
        "We can clearly see that as we dealt with the corrupted entries, most of the missing values disappeared. We can concretely conclude that most of the missing values we had in our data was as a result of having on feature corrupted"
      ],
      "metadata": {
        "id": "akE3vnermpr8"
      }
    },
    {
      "cell_type": "markdown",
      "source": [
        "# Data Analysis"
      ],
      "metadata": {
        "id": "hfObb4Z33uI0"
      }
    },
    {
      "cell_type": "markdown",
      "source": [
        "###Top Selling Jewelries type"
      ],
      "metadata": {
        "id": "SZ1lNSzu-aMX"
      }
    },
    {
      "cell_type": "code",
      "source": [
        "# Get category counts\n",
        "category_counts = data[\"Category\"].value_counts()\n",
        "\n",
        "# Sort categories if necessary\n",
        "category_counts = category_counts.sort_values(ascending=False)\n",
        "\n",
        "# Plot the bar chart with custom color\n",
        "plt.figure(figsize=(7, 5))\n",
        "ax = sns.barplot(x=category_counts.index, y=category_counts.values, color='#1f77b4')\n",
        "\n",
        "# Add data labels on top of each bar\n",
        "for p in ax.patches:\n",
        "    height = p.get_height()  # Get the height of the bar\n",
        "    if height > 0:  # Only add labels for bars with height > 0\n",
        "        ax.text(\n",
        "            p.get_x() + p.get_width() / 2.,  # X position of the label\n",
        "            height + 0.02 * max(category_counts),  # Y position of the label (slightly above the bar)\n",
        "            f'{int(height):,}',  # Format numbers with commas\n",
        "            ha='center', va='bottom',  # Center alignment\n",
        "            fontsize=12, color='black',  # Font size and color\n",
        "        )\n",
        "\n",
        "# Set title and labels\n",
        "plt.title('Distribution of Categories', fontsize=16)\n",
        "plt.xlabel('')  # Remove x-axis label\n",
        "plt.ylabel('Count', fontsize=14)\n",
        "\n",
        "# Rotate x-axis labels for better visibility\n",
        "plt.xticks(rotation=45, ha=\"right\")\n",
        "\n",
        "# Remove y-axis label and gridlines\n",
        "ax.yaxis.set_visible(False)\n",
        "plt.grid(False)\n",
        "\n",
        "# Adjust layout\n",
        "plt.tight_layout()\n",
        "plt.show()\n"
      ],
      "metadata": {
        "colab": {
          "base_uri": "https://localhost:8080/",
          "height": 507
        },
        "id": "kBSJ6nO7k1bW",
        "outputId": "6374557f-70a9-478e-b406-020627f48c2b"
      },
      "execution_count": 111,
      "outputs": [
        {
          "output_type": "display_data",
          "data": {
            "text/plain": [
              "<Figure size 700x500 with 1 Axes>"
            ],
            "image/png": "[encoded data removed]"
          },
          "metadata": {}
        }
      ]
    },
    {
      "cell_type": "markdown",
      "source": [
        "# Observations and Potential Outcomes for Optimizing Jewelry Prices\n",
        "\n",
        "1. **Dominant Categories**  \n",
        "   The categories with the highest counts (29,047 and 26,025)[earrings and rings] are likely the most popular or frequently purchased. These categories should be prioritized in terms of inventory and marketing efforts.\n",
        "\n",
        "2. **Mid-Range Categories**  \n",
        "   Categories with moderate counts (13,083 and 6,129)[pendant and bracelets] may represent niche markets or specific customer preferences. These categories could benefit from targeted promotions or bundling strategies to increase their visibility and sales.\n",
        "\n",
        "3. **Low-Count Categories**  \n",
        "   The categories with the lowest counts (2,335, 1,286, 170, and 12)[necklace,brooch,souvenir,stud] might be less popular or specialized. It may be worth analyzing whether these categories are worth maintaining or if they can be phased out to focus on more profitable areas.\n",
        "\n",
        "4. **Price Optimization**  \n",
        "   For the dominant categories, we can consider competitive pricing strategies to maximize revenue without deterring customers. For mid-range and low-count categories, dynamic pricing or discounts could help stimulate demand.\n",
        "\n",
        "5. **Customer Segmentation**  \n",
        "   Analyze customer demographics and purchasing behavior to understand why certain categories are more popular. This can help tailor marketing campaigns and product offerings to specific segments.\n",
        "\n",
        "6. **Inventory Management**  \n",
        "   Ensure that the inventory levels for high-demand categories are sufficient to meet customer needs, while avoiding overstocking less popular items.\n",
        "\n",
        "7. **Product Differentiation**  \n",
        "   For low-count categories, consider enhancing product features or marketing to differentiate them from competitors and attract more customers.\n",
        "\n",
        "8. **Data-Driven Decisions**  \n",
        "   Continuously monitor sales data and customer feedback to adjust strategies and optimize pricing dynamically.\n",
        "\n",
        "---\n",
        "\n",
        "By focusing on these areas, you can better align your pricing strategy with customer demand and market trends, ultimately optimizing your jewelry pricing for increased profitability.\n"
      ],
      "metadata": {
        "id": "BlVWwfY411dh"
      }
    },
    {
      "cell_type": "markdown",
      "source": [
        "### Average Price of each category of jewelries"
      ],
      "metadata": {
        "id": "VcUmDUcN9xoH"
      }
    },
    {
      "cell_type": "code",
      "source": [
        "# Calculate average revenue per category\n",
        "category_revenue = data.groupby(\"Category\")[\"Price_USD\"].mean().sort_values(ascending=False)\n",
        "\n",
        "# Plot the bar chart\n",
        "plt.figure(figsize=(10, 6))\n",
        "ax = sns.barplot(x=category_revenue.values, y=category_revenue.index, palette='viridis')\n",
        "\n",
        "# Add data labels on the bars\n",
        "for p in ax.patches:\n",
        "    ax.annotate(f'{p.get_width():.2f}',\n",
        "                (p.get_width(), p.get_y() + p.get_height() / 2.),\n",
        "                ha='left', va='center',\n",
        "                fontsize=12, color='black',\n",
        "                xytext=(5, 0), textcoords='offset points')\n",
        "\n",
        "# Set title and labels\n",
        "plt.title('Average Price per Category')\n",
        "plt.xlabel('Average Price (USD)')\n",
        "plt.ylabel('Category')\n",
        "\n",
        "# Remove gridlines\n",
        "plt.grid(False)\n",
        "\n",
        "# Adjust layout\n",
        "plt.tight_layout()\n",
        "plt.show()\n"
      ],
      "metadata": {
        "colab": {
          "base_uri": "https://localhost:8080/",
          "height": 607
        },
        "id": "126Mg0Y03wIV",
        "outputId": "3e5e66be-2687-4e71-c92e-c81a4332b137"
      },
      "execution_count": 112,
      "outputs": [
        {
          "output_type": "display_data",
          "data": {
            "text/plain": [
              "<Figure size 1000x600 with 1 Axes>"
            ],
            "image/png": "[encoded data removed]"
          },
          "metadata": {}
        }
      ]
    },
    {
      "cell_type": "markdown",
      "source": [
        "We can see that on average bracelet,earring,necklace and ring are on the higher side as compared to the others with souvenir being the cheapest"
      ],
      "metadata": {
        "id": "YY7MZQEt95jU"
      }
    },
    {
      "cell_type": "code",
      "source": [
        "# Count number of purchases per category\n",
        "category_purchases = data[\"Category\"].value_counts()\n",
        "\n",
        "# Calculate average price per category\n",
        "category_price = data.groupby(\"Category\")[\"Price_USD\"].mean()\n",
        "\n",
        "# Merge into a single DataFrame\n",
        "price_purchases_df = pd.DataFrame({\"Average_Price\": category_price, \"Total_Purchases\": category_purchases})\n",
        "\n",
        "# Compute correlation\n",
        "correlation = price_purchases_df.corr().loc[\"Average_Price\", \"Total_Purchases\"]\n",
        "print(f\"Correlation between price and purchase frequency: {correlation:.2f}\")\n"
      ],
      "metadata": {
        "colab": {
          "base_uri": "https://localhost:8080/"
        },
        "id": "_BtWeL08i6g8",
        "outputId": "70d98116-b49f-435f-ff99-b3c756b75159"
      },
      "execution_count": 113,
      "outputs": [
        {
          "output_type": "stream",
          "name": "stdout",
          "text": [
            "Correlation between price and purchase frequency: 0.36\n"
          ]
        }
      ]
    },
    {
      "cell_type": "markdown",
      "source": [
        "# Key Insights on Jewelry Purchases\n",
        "\n",
        "1 **Higher-priced jewelry is slightly more likely to be purchased**  \n",
        "- Since the correlation is positive, expensive jewelry tends to have more purchases, but the relationship isn’t strong.  \n",
        "- Some high-priced categories may be popular despite their cost.\n",
        "\n",
        "2 **Price is not the only factor driving purchases**  \n",
        "- A correlation of 0.36 is not strong, meaning other factors like brand, design, marketing, or customer demographics may be influencing buying decisions.  \n",
        "- **Example**: A luxury diamond ring may sell well due to branding rather than price alone.\n"
      ],
      "metadata": {
        "id": "B0aTsCevjcpn"
      }
    },
    {
      "cell_type": "markdown",
      "source": [
        "### Time Based Analysis"
      ],
      "metadata": {
        "id": "rUF5BiQLCoyV"
      }
    },
    {
      "cell_type": "code",
      "source": [
        "# Resample by month and calculate total price\n",
        "monthly_price = data.set_index(\"Order_datetime\").resample(\"M\")[\"Price_USD\"].sum()\n",
        "\n",
        "# Increase figure size\n",
        "plt.figure(figsize=(14, 6))\n",
        "\n",
        "# Plot the data\n",
        "ax = monthly_price.plot(title=\"Monthly Revenue Trend\")\n",
        "\n",
        "# Customize labels\n",
        "plt.xlabel(\"Month\")\n",
        "plt.ylabel(\"Total Price\")\n",
        "\n",
        "\n",
        "# Show full price values on y-axis\n",
        "plt.ticklabel_format(style='plain', axis='y')\n",
        "\n",
        "# Show the plot\n",
        "plt.show()\n"
      ],
      "metadata": {
        "colab": {
          "base_uri": "https://localhost:8080/",
          "height": 580
        },
        "id": "lZaHPFHICnfc",
        "outputId": "4ebdb9b9-4fb9-4d28-dd19-9d38b8b20960"
      },
      "execution_count": 114,
      "outputs": [
        {
          "output_type": "display_data",
          "data": {
            "text/plain": [
              "<Figure size 1400x600 with 1 Axes>"
            ],
            "image/png": "[encoded data removed]"
          },
          "metadata": {}
        }
      ]
    },
    {
      "cell_type": "markdown",
      "source": [
        "# Key Observations\n",
        "\n",
        "### Steady Growth in Early Years (2019 - mid-2020):\n",
        "- There is a slow but consistent rise in total prices over this period.\n",
        "- This suggests stable demand or a growing market share during these months.\n",
        "\n",
        "### Significant Dip in mid-2020:\n",
        "- A noticeable drop in total prices occurs mid-2020.\n",
        "- This could be due to seasonal trends, supply chain disruptions, or external factors like the COVID-19 pandemic.\n",
        "\n",
        "### Rapid Increase Post-2020:\n",
        "- Starting in early 2021, there is a sharp rise in total prices, peaking towards the end of the year.\n",
        "- This could indicate increased demand, higher production costs, or strategic price adjustments by the business.\n",
        "\n",
        "### Sharp Drop in Late 2021:\n",
        "- The dramatic decline towards the end of 2021 might reflect seasonality (e.g., post-holiday demand slump), economic factors, or overstocking leading to markdowns.\n",
        "\n",
        "---\n",
        "\n",
        "# Insights for Jewelry Price Optimization\n",
        "\n",
        "### Seasonal Effects:\n",
        "- Peaks and drops may align with specific seasons or holidays (e.g., Valentine's Day, Christmas).\n",
        "- Price adjustments should capitalize on high-demand months by offering premium pricing or promotions to boost sales during low-demand periods.\n",
        "\n",
        "### Demand Elasticity:\n",
        "- The sharp growth post-2020 suggests that customers were willing to pay higher prices during that period. Understanding what drove this demand (e.g., economic recovery, marketing efforts) can inform future pricing strategies.\n",
        "\n",
        "### Supply Chain Resilience:\n",
        "- The mid-2020 dip might be linked to supply chain disruptions or reduced consumer spending. Ensuring stable supply and inventory levels can help maintain price stability during such periods.\n",
        "\n",
        "### Peak Optimization:\n",
        "- The sharp peaks indicate potential overpricing or unmet demand during those periods. Monitoring inventory turnover during peak months can help identify if prices need to be adjusted to balance supply and demand.\n",
        "\n",
        "### Promotions During Downturns:\n",
        "- The end-of-year drop highlights the need for strategic markdowns or bundled deals to clear inventory during low-demand months without sacrificing margins.\n"
      ],
      "metadata": {
        "id": "Dopr-I2nrS_t"
      }
    },
    {
      "cell_type": "code",
      "source": [
        "# Extract the hour from the Order_datetime column\n",
        "data[\"Hour\"] = data[\"Order_datetime\"].dt.hour\n",
        "\n",
        "# Group by hour and sum Order_ID (assuming you want to count the orders per hour)\n",
        "sales_by_hour = data.groupby(\"Hour\")[\"Order_ID\"].count()\n",
        "\n",
        "# Plot the sales by hour\n",
        "plt.figure(figsize=(7, 5))\n",
        "sales_by_hour.plot(kind=\"bar\", color='skyblue')\n",
        "plt.title(\"Sales by Hour of the Day\")\n",
        "plt.xlabel(\"Hour of the Day\")\n",
        "plt.ylabel(\"Number of Orders\")\n",
        "plt.xticks(rotation=0)  # Rotate x-axis labels for readability\n",
        "plt.tight_layout()\n",
        "plt.show()\n"
      ],
      "metadata": {
        "colab": {
          "base_uri": "https://localhost:8080/",
          "height": 507
        },
        "id": "UiO8P6gCCniM",
        "outputId": "6b69debd-9f9d-4354-89ea-afcbbf6ff60f"
      },
      "execution_count": 115,
      "outputs": [
        {
          "output_type": "display_data",
          "data": {
            "text/plain": [
              "<Figure size 700x500 with 1 Axes>"
            ],
            "image/png": "[encoded data removed]"
          },
          "metadata": {}
        }
      ]
    },
    {
      "cell_type": "markdown",
      "source": [
        "# Observations\n",
        "\n",
        "## Peak Hours:\n",
        "Peak sales hours where the number of orders is significantly higher. For example, hours like 10:00, 11:00, or 12:00 indicates the busiest times for sales.\n",
        "\n",
        "## Low Activity Hours:\n",
        "Hours like 0:00 to 6:00 (midnight to early morning) indicates minimal sales activity during these times.\n",
        "\n",
        "## Trends:\n",
        "There might be a gradual increase in sales from early morning (e.g., 6:00) to midday (e.g., 12:00), followed by a gradual decrease in the afternoon and evening.\n",
        "\n",
        "# Insights and Recommendations\n",
        "\n",
        "## Optimize Marketing Campaigns:\n",
        "- Focus marketing efforts during peak hours (e.g., 10:00–14:00) to maximize customer engagement and sales.\n",
        "- Consider running promotions or flash sales during these hours to capitalize on high traffic.\n",
        "\n",
        "## Staffing and Operations:\n",
        "- Ensure adequate staffing during peak hours to handle the increased number of orders efficiently.\n",
        "- During low-activity hours (e.g., 0:00–6:00), reduce staffing or focus on other tasks like inventory management.\n",
        "\n",
        "## Customer Behavior Analysis:\n",
        "- Analyze why certain hours have higher sales. For example, midday peaks might be due to lunch breaks or online shopping trends.\n",
        "- Use this data to tailor product offerings or promotions to match customer preferences during specific hours.\n",
        "\n",
        "## Website Performance:\n",
        "- Ensure your website or platform can handle high traffic during peak hours to avoid crashes or slow performance, which could lead to lost sales.\n",
        "\n",
        "## Delivery and Fulfillment:\n",
        "- If you offer delivery services, align delivery schedules with peak order hours to ensure timely fulfillment.\n"
      ],
      "metadata": {
        "id": "Srj3uGT8vi62"
      }
    },
    {
      "cell_type": "code",
      "source": [],
      "metadata": {
        "id": "6HxjgZ37wkBc"
      },
      "execution_count": 115,
      "outputs": []
    },
    {
      "cell_type": "markdown",
      "source": [
        "# 5. CUSTOMER SEGMENTATION BASED ON PURCHASE BEHAVIOR"
      ],
      "metadata": {
        "id": "X3mjdsw3uG2K"
      }
    },
    {
      "cell_type": "code",
      "source": [
        "from sklearn.preprocessing import StandardScaler\n",
        "from sklearn.cluster import KMeans\n",
        "from sklearn.decomposition import PCA"
      ],
      "metadata": {
        "id": "wG8lolqwwplE"
      },
      "execution_count": 116,
      "outputs": []
    },
    {
      "cell_type": "code",
      "source": [
        "# Aggregate purchase behavior\n",
        "customer_data = data.groupby(\"User_ID\").agg({\n",
        "    \"Price_USD\": \"sum\",  # Total spending\n",
        "    \"Quantity_of_SKU\": \"sum\",  # Total quantity purchased\n",
        "    \"Order_ID\": \"count\"  # Total number of purchases\n",
        "}).rename(columns={\"Order_ID\": \"Purchase_Frequency\"}).reset_index()\n",
        "\n",
        "# Standardize data\n",
        "scaler = StandardScaler()\n",
        "scaled_data = scaler.fit_transform(customer_data[[\"Price_USD\", \"Quantity_of_SKU\", \"Purchase_Frequency\"]])\n",
        "\n",
        "# Apply PCA for better clustering visualization\n",
        "pca = PCA(n_components=2)\n",
        "pca_data = pca.fit_transform(scaled_data)\n",
        "customer_data[\"PCA1\"] = pca_data[:, 0]\n",
        "customer_data[\"PCA2\"] = pca_data[:, 1]\n",
        "\n",
        "# Apply KMeans Clustering\n",
        "kmeans = KMeans(n_clusters=3, random_state=42)\n",
        "customer_data[\"Cluster\"] = kmeans.fit_predict(scaled_data)\n",
        "\n",
        "# Visualize Segments using PCA components\n",
        "sns.scatterplot(data=customer_data, x=\"PCA1\", y=\"PCA2\", hue=\"Cluster\", palette=\"viridis\")\n",
        "plt.title(\"Customer Segmentation Based on Purchase Behavior\")\n",
        "plt.show()\n",
        "\n",
        "# Analyze customer segments\n",
        "segment_summary = customer_data.groupby(\"Cluster\").agg({\n",
        "    \"Price_USD\": \"mean\",\n",
        "    \"Quantity_of_SKU\": \"mean\",\n",
        "    \"Purchase_Frequency\": \"mean\"\n",
        "}).rename(columns={\n",
        "    \"Price_USD\": \"Avg_Spending\",\n",
        "    \"Quantity_of_SKU\": \"Avg_Quantity\",\n",
        "    \"Purchase_Frequency\": \"Avg_Frequency\"\n",
        "})\n",
        "print(segment_summary)"
      ],
      "metadata": {
        "id": "ocKfdghDsNnw",
        "outputId": "4b512880-210d-48b6-dde6-5d3502225974",
        "colab": {
          "base_uri": "https://localhost:8080/",
          "height": 559
        }
      },
      "execution_count": 117,
      "outputs": [
        {
          "output_type": "display_data",
          "data": {
            "text/plain": [
              "<Figure size 640x480 with 1 Axes>"
            ],
            "image/png": "[encoded data removed]"
          },
          "metadata": {}
        },
        {
          "output_type": "stream",
          "name": "stdout",
          "text": [
            "          Avg_Spending  Avg_Quantity  Avg_Frequency\n",
            "Cluster                                            \n",
            "0           679.549701      2.078208       2.078208\n",
            "1        137280.376000    319.640000     319.640000\n",
            "2         37592.748400     83.944000      83.944000\n"
          ]
        }
      ]
    },
    {
      "cell_type": "markdown",
      "source": [
        "# Customer Segmentation Analysis and Jewelry Price Optimization\n",
        "\n",
        "### Cluster Breakdown\n",
        "\n",
        "| Cluster | Avg_Spending (USD) | Avg_Quantity | Avg_Frequency |\n",
        "|---------|--------------------|--------------|---------------|\n",
        "| 0       | 679.55             | 2.08         | 2.08          |\n",
        "| 1       | 137,280.38         | 319.64       | 319.64        |\n",
        "| 2       | 37,592.75          | 83.94        | 83.94         |\n",
        "\n",
        "---\n",
        "\n",
        "### **Cluster 0: Moderate Spending, Low Quantity, and Low Frequency**\n",
        "\n",
        "- **Avg_Spending**: 679.55 USD\n",
        "- **Avg_Quantity**: 2.08 items\n",
        "- **Avg_Frequency**: 2.08 purchases\n",
        "\n",
        "#### **Interpretation**:\n",
        "- Customers in **Cluster 0** are **moderate spenders**, purchasing a small number of items and doing so occasionally.\n",
        "- This cluster might represent **regular but selective buyers**, possibly purchasing **higher-end or exclusive items** less frequently.\n",
        "\n",
        "#### **Jewelry Price Optimization**:\n",
        "- Focus on **premium pricing** for **exclusive or high-quality pieces**.\n",
        "- Encourage higher spending through **personalized offers** or **exclusive collections**.\n",
        "- Introduce **loyalty programs** or **seasonal promotions** to drive repeat purchases.\n",
        "\n",
        "---\n",
        "\n",
        "### **Cluster 1: High Spending, Very High Quantity, and High Frequency**\n",
        "\n",
        "- **Avg_Spending**: 137,280.38 USD\n",
        "- **Avg_Quantity**: 319.64 items\n",
        "- **Avg_Frequency**: 319.64 purchases\n",
        "\n",
        "#### **Interpretation**:\n",
        "- **Cluster 1** represents the **biggest spenders** who purchase **large quantities of jewelry** very frequently.\n",
        "- These customers may be **wholesale buyers**, **frequent shoppers**, or **business clients**.\n",
        "\n",
        "#### **Jewelry Price Optimization**:\n",
        "- Focus on **volume-based pricing** and **bulk discounts** to cater to their high purchasing capacity.\n",
        "- Consider **wholesale pricing** or **exclusive deals** for **frequent bulk buyers**.\n",
        "- Offer **tiered pricing** based on the number of items purchased or **loyalty incentives** to encourage even more frequent purchases.\n",
        "\n",
        "---\n",
        "\n",
        "### **Cluster 2: High Spending, Moderate Quantity, and Moderate Frequency**\n",
        "\n",
        "- **Avg_Spending**: 37,592.75 USD\n",
        "- **Avg_Quantity**: 83.94 items\n",
        "- **Avg_Frequency**: 83.94 purchases\n",
        "\n",
        "#### **Interpretation**:\n",
        "- **Cluster 2** represents customers who have **high spending** but purchase a **moderate quantity of jewelry** on a **regular basis**.\n",
        "- These customers might be **enthusiastic buyers** looking for **premium products** but not in the large quantities seen in Cluster 1.\n",
        "\n",
        "#### **Jewelry Price Optimization**:\n",
        "- Focus on offering **premium pricing** but not to the extent of bulk buyers in Cluster 1.\n",
        "- Consider **bundle pricing** or **volume discounts**, but more in line with **moderate purchases**.\n",
        "- Encourage **regular purchases** by offering **loyalty programs**, **exclusive promotions**, or **early access to new collections**.\n",
        "\n",
        "---\n",
        "\n",
        "### **Price Optimization Strategy by Cluster**\n",
        "\n",
        "- **Cluster 0 (Moderate Spenders)**:\n",
        "  - **Pricing Strategy**: Premium pricing for high-quality, exclusive items.\n",
        "  - **Promotion**: Personalized offers, loyalty programs, seasonal sales.\n",
        "  \n",
        "- **Cluster 1 (High Spenders, High Frequency)**:\n",
        "  - **Pricing Strategy**: Volume-based pricing, wholesale discounts, tiered pricing.\n",
        "  - **Promotion**: Loyalty programs for bulk purchases, VIP offers for repeat high-volume buyers.\n",
        "  \n",
        "- **Cluster 2 (High Spenders, Moderate Frequency)**:\n",
        "  - **Pricing Strategy**: Premium but accessible pricing, bundle offers.\n",
        "  - **Promotion**: Incentives for regular purchases, exclusive deals, early access to new collections.\n",
        "\n"
      ],
      "metadata": {
        "id": "hM4g_4tRuy6K"
      }
    },
    {
      "cell_type": "code",
      "source": [
        "# Identify high-value customers\n",
        "high_value_customers = customer_data[customer_data[\"Cluster\"] == segment_summary[\"Avg_Spending\"].idxmax()]\n",
        "\n",
        "# Retention strategies for frequent but low-spending customers\n",
        "low_spending_frequent = customer_data[(customer_data[\"Cluster\"] == segment_summary[\"Avg_Frequency\"].idxmax()) &\n",
        "                                      (customer_data[\"Quantity_of_SKU\"].mean() < segment_summary[\"Avg_Spending\"].median())]\n",
        "\n",
        "# Adjust pricing strategies based on segment behaviors\n",
        "pricing_strategies = segment_summary.copy()\n",
        "pricing_strategies[\"Recommended_Action\"] = np.where(pricing_strategies[\"Avg_Spending\"] > pricing_strategies[\"Avg_Spending\"].median(),\n",
        "                                                     \"Premium Pricing\",\n",
        "                                                     \"Discounts and Promotions\")\n",
        "print(\"Pricing Strategies:\")\n",
        "print(pricing_strategies)"
      ],
      "metadata": {
        "id": "M4S6rsRpsNrs",
        "outputId": "d9f638bb-cc4e-465b-a36e-782efc464b8f",
        "colab": {
          "base_uri": "https://localhost:8080/"
        }
      },
      "execution_count": 118,
      "outputs": [
        {
          "output_type": "stream",
          "name": "stdout",
          "text": [
            "Pricing Strategies:\n",
            "          Avg_Spending  Avg_Quantity  Avg_Frequency        Recommended_Action\n",
            "Cluster                                                                      \n",
            "0           679.549701      2.078208       2.078208  Discounts and Promotions\n",
            "1        137280.376000    319.640000     319.640000           Premium Pricing\n",
            "2         37592.748400     83.944000      83.944000  Discounts and Promotions\n"
          ]
        }
      ]
    },
    {
      "cell_type": "markdown",
      "source": [
        "##Customer Purchasing Behavior"
      ],
      "metadata": {
        "id": "B6WUWv3rnPoD"
      }
    },
    {
      "cell_type": "code",
      "source": [
        "repeat_customers = data[\"User_ID\"].value_counts()\n",
        "repeat_customers = repeat_customers[repeat_customers > 1]\n",
        "\n",
        "repeat_rate = len(repeat_customers) / data[\"User_ID\"].nunique()\n",
        "print(f\"Repeat Customer Rate: {repeat_rate:.2%}\")"
      ],
      "metadata": {
        "colab": {
          "base_uri": "https://localhost:8080/"
        },
        "id": "EaEAKuTdCnk5",
        "outputId": "a80ed04e-6a83-4e8c-cdee-1eb23416e1d9"
      },
      "execution_count": 119,
      "outputs": [
        {
          "output_type": "stream",
          "name": "stdout",
          "text": [
            "Repeat Customer Rate: 37.03%\n"
          ]
        }
      ]
    },
    {
      "cell_type": "markdown",
      "source": [
        "This means that 37.03% of your customers have made more than one purchase which is okay"
      ],
      "metadata": {
        "id": "qTtaTuBknj-t"
      }
    },
    {
      "cell_type": "code",
      "source": [
        "purchase_dates = data.groupby(\"User_ID\")[\"Order_datetime\"].agg([\"min\", \"max\", \"count\"])\n",
        "purchase_dates[\"purchase_cycle\"] = (purchase_dates[\"max\"] - purchase_dates[\"min\"]) / (purchase_dates[\"count\"] - 1)\n",
        "\n",
        "purchase_dates[\"purchase_cycle\"].dropna().describe()\n"
      ],
      "metadata": {
        "colab": {
          "base_uri": "https://localhost:8080/",
          "height": 335
        },
        "id": "7ZVH8Y0NCnqb",
        "outputId": "ba6606fd-9754-47fb-b3c7-01dfddd1898c"
      },
      "execution_count": 120,
      "outputs": [
        {
          "output_type": "execute_result",
          "data": {
            "text/plain": [
              "count                         10677\n",
              "mean     36 days 11:46:01.631705650\n",
              "std      84 days 20:33:42.993083574\n",
              "min                 0 days 00:00:00\n",
              "25%                 0 days 00:01:26\n",
              "50%                 0 days 20:33:05\n",
              "75%         28 days 20:19:25.500000\n",
              "max               991 days 18:26:07\n",
              "Name: purchase_cycle, dtype: object"
            ],
            "text/html": [
              "<div>\n",
              "<style scoped>\n",
              "    .dataframe tbody tr th:only-of-type {\n",
              "        vertical-align: middle;\n",
              "    }\n",
              "\n",
              "    .dataframe tbody tr th {\n",
              "        vertical-align: top;\n",
              "    }\n",
              "\n",
              "    .dataframe thead th {\n",
              "        text-align: right;\n",
              "    }\n",
              "</style>\n",
              "<table border=\"1\" class=\"dataframe\">\n",
              "  <thead>\n",
              "    <tr style=\"text-align: right;\">\n",
              "      <th></th>\n",
              "      <th>purchase_cycle</th>\n",
              "    </tr>\n",
              "  </thead>\n",
              "  <tbody>\n",
              "    <tr>\n",
              "      <th>count</th>\n",
              "      <td>10677</td>\n",
              "    </tr>\n",
              "    <tr>\n",
              "      <th>mean</th>\n",
              "      <td>36 days 11:46:01.631705650</td>\n",
              "    </tr>\n",
              "    <tr>\n",
              "      <th>std</th>\n",
              "      <td>84 days 20:33:42.993083574</td>\n",
              "    </tr>\n",
              "    <tr>\n",
              "      <th>min</th>\n",
              "      <td>0 days 00:00:00</td>\n",
              "    </tr>\n",
              "    <tr>\n",
              "      <th>25%</th>\n",
              "      <td>0 days 00:01:26</td>\n",
              "    </tr>\n",
              "    <tr>\n",
              "      <th>50%</th>\n",
              "      <td>0 days 20:33:05</td>\n",
              "    </tr>\n",
              "    <tr>\n",
              "      <th>75%</th>\n",
              "      <td>28 days 20:19:25.500000</td>\n",
              "    </tr>\n",
              "    <tr>\n",
              "      <th>max</th>\n",
              "      <td>991 days 18:26:07</td>\n",
              "    </tr>\n",
              "  </tbody>\n",
              "</table>\n",
              "</div><br><label><b>dtype:</b> object</label>"
            ]
          },
          "metadata": {},
          "execution_count": 120
        }
      ]
    },
    {
      "cell_type": "markdown",
      "source": [
        "# Understanding the Purchase Cycle\n",
        "\n",
        "The purchase cycle data shows the time between consecutive purchases by each customer. Here's a breakdown of the key statistics:\n",
        "\n",
        "- **Count**: 10,677 records of purchase cycles.\n",
        "- **Mean**: On average, customers make a purchase every 36 days and 11 hours.\n",
        "- **Standard Deviation**: The large standard deviation (about 85 days) suggests wide variability in purchase frequency, with some customers buying much more frequently than others.\n",
        "- **Min**: The minimum purchase cycle is 0 days, meaning some customers make multiple purchases within the same day.\n",
        "- **25% (Q1)**: 25% of customers make their next purchase within approximately 1 minute to 28 days after the previous one.\n",
        "- **50% (Median)**: The median cycle is 20 hours and 33 minutes, indicating that half of your customers make purchases more frequently than this, while the other half takes longer.\n",
        "- **75% (Q3)**: 75% of customers make their next purchase within 28 days and 20 hours.\n",
        "- **Max**: The longest recorded purchase cycle is 991 days, indicating that some customers wait nearly 3 years before making another purchase.\n",
        "\n",
        "---\n",
        "\n",
        "# What This Means for Jewelry Price Optimization\n",
        "\n",
        "### 1. Targeting Repeat Buyers with Pricing Strategies\n",
        "- **Frequent buyers** (shorter purchase cycle) could be incentivized with discounts or loyalty rewards to encourage faster repeat purchases.\n",
        "- For **infrequent buyers** (longer cycle), you may need to offer special promotions or email reminders to nudge them back to purchasing.\n",
        "\n",
        "### 2. Adjusting Pricing Over Time\n",
        "- The long purchase cycle (e.g., 991 days) suggests that some customers may not be sensitive to short-term pricing fluctuations. Offering them a premium product line or exclusive offers after a certain period could boost purchases.\n",
        "- **Frequent buyers** may respond better to timely discounts or limited-time offers.\n"
      ],
      "metadata": {
        "id": "Sc32_EVdoLFa"
      }
    },
    {
      "cell_type": "code",
      "source": [],
      "metadata": {
        "id": "blry9yKEos8X"
      },
      "execution_count": 120,
      "outputs": []
    },
    {
      "cell_type": "code",
      "source": [
        "data[\"Order Month\"] = data[\"Order_datetime\"].dt.to_period(\"M\")\n",
        "first_purchase = data.groupby(\"User_ID\")[\"Order Month\"].min().reset_index()\n",
        "data = data.merge(first_purchase, on=\"User_ID\", suffixes=(\"\", \"_first\"))\n",
        "\n",
        "data[\"Cohort\"] = (data[\"Order Month\"].astype(str) == data[\"Order Month_first\"].astype(str))\n",
        "cohort_counts = data.groupby([\"Order Month\", \"Cohort\"])[\"User_ID\"].nunique().unstack()\n",
        "cohort_counts.plot(kind=\"bar\", stacked=True, figsize=(12, 5), title=\"New vs. Returning Customers Over Time\")"
      ],
      "metadata": {
        "colab": {
          "base_uri": "https://localhost:8080/",
          "height": 548
        },
        "id": "LnHJWyO-3K-6",
        "outputId": "cad99265-0d4a-4273-c8e1-a44355815281"
      },
      "execution_count": 121,
      "outputs": [
        {
          "output_type": "execute_result",
          "data": {
            "text/plain": [
              "<Axes: title={'center': 'New vs. Returning Customers Over Time'}, xlabel='Order Month'>"
            ]
          },
          "metadata": {},
          "execution_count": 121
        },
        {
          "output_type": "display_data",
          "data": {
            "text/plain": [
              "<Figure size 1200x500 with 1 Axes>"
            ],
            "image/png": "[encoded data removed]"
          },
          "metadata": {}
        }
      ]
    },
    {
      "cell_type": "markdown",
      "source": [
        "# How the price of jewelry varies by different categories (e.g., pendant, necklace, earring), and its association with other attributes like Brand_ID, Gender, Main_color, Main_metal, and Main_gem."
      ],
      "metadata": {
        "id": "rr8t0DyvqErO"
      }
    },
    {
      "cell_type": "code",
      "source": [
        "# Visualizing price distribution by category\n",
        "plt.figure(figsize=(10, 6))\n",
        "sns.boxplot(x='Category', y='Price_USD', data=data)\n",
        "plt.title('Price Distribution by Category')\n",
        "plt.xticks(rotation=45)\n",
        "plt.show()\n",
        "\n",
        "# Visualizing price distribution by brand\n",
        "plt.figure(figsize=(10, 6))\n",
        "sns.boxplot(x='Brand_ID', y='Price_USD', data=data)\n",
        "plt.title('Price Distribution by Brand')\n",
        "plt.show()\n"
      ],
      "metadata": {
        "colab": {
          "base_uri": "https://localhost:8080/",
          "height": 1000
        },
        "id": "unxm19eCqE40",
        "outputId": "3b23f159-5562-4ed2-a001-550fd991f795"
      },
      "execution_count": 122,
      "outputs": [
        {
          "output_type": "display_data",
          "data": {
            "text/plain": [
              "<Figure size 1000x600 with 1 Axes>"
            ],
            "image/png": "[encoded data removed]"
          },
          "metadata": {}
        },
        {
          "output_type": "display_data",
          "data": {
            "text/plain": [
              "<Figure size 1000x600 with 1 Axes>"
            ],
            "image/png": "[encoded data removed]"
          },
          "metadata": {}
        }
      ]
    },
    {
      "cell_type": "markdown",
      "source": [
        "# Insights\n",
        "\n",
        "## Brand Positioning:\n",
        "\n",
        "- **Brand 0.0 and Brand 5.0**: Positioned as luxury brands, offering high-end products with prices reaching up to 25,000 USD.\n",
        "- **Brand 1.0 and Brand 4.0**: Positioned as mid-range brands, catering to price-sensitive customers.\n",
        "- **Brand 2.0 and Brand 3.0**: Positioned as premium brands, offering a mix of mid-range and high-end products.\n",
        "\n",
        "## Customer Segmentation:\n",
        "\n",
        "- **Luxury Brands (0.0 and 5.0)**: Target high-income customers who value exclusivity and craftsmanship.\n",
        "- **Mid-Range Brands (1.0 and 4.0)**: Target middle-income customers who seek quality at affordable prices.\n",
        "- **Premium Brands (2.0 and 3.0)**: Target customers who are willing to pay a premium for unique designs and superior quality.\n",
        "\n",
        "## Pricing Strategies:\n",
        "\n",
        "- **Luxury Brands**: Can maintain high prices due to brand reputation and exclusivity.\n",
        "- **Mid-Range Brands**: Should focus on competitive pricing to attract price-sensitive customers.\n",
        "- **Premium Brands**: Can adopt a value-based pricing strategy, emphasizing the unique features of their products.\n",
        "\n",
        "---\n",
        "\n",
        "# Recommendations\n",
        "\n",
        "## Dynamic Pricing:\n",
        "- Implement dynamic pricing strategies for mid-range brands to remain competitive.\n",
        "- For luxury brands, focus on maintaining exclusivity and brand value.\n",
        "\n",
        "## Product Bundling:\n",
        "- Offer bundled products for mid-range brands to increase average order value.\n",
        "- For premium brands, introduce limited-edition collections to attract high-end customers.\n",
        "\n",
        "## Marketing Campaigns:\n",
        "Tailor marketing campaigns based on brand positioning:\n",
        "- **Luxury Brands**: Highlight exclusivity and craftsmanship.\n",
        "- **Mid-Range Brands**: Emphasize affordability and quality.\n",
        "- **Premium Brands**: Showcase unique designs and superior quality.\n",
        "\n",
        "## Inventory Management:\n",
        "- Ensure adequate stock levels for high-demand products in mid-range brands.\n",
        "- For luxury brands, maintain limited stock to preserve exclusivity.\n"
      ],
      "metadata": {
        "id": "Z7E7QC4fttJ7"
      }
    },
    {
      "cell_type": "code",
      "source": [
        "# Visualizing price distribution by metal and color\n",
        "plt.figure(figsize=(12, 6))\n",
        "sns.boxplot(x='Main_metal', y='Price_USD', hue='Main_color', data=data)\n",
        "plt.title('Price Distribution by Metal and Color')\n",
        "plt.show()\n"
      ],
      "metadata": {
        "colab": {
          "base_uri": "https://localhost:8080/",
          "height": 564
        },
        "id": "HcTIS48hqFCt",
        "outputId": "dc60d8c3-5684-4077-964e-d9ac8a7f87fc"
      },
      "execution_count": 123,
      "outputs": [
        {
          "output_type": "display_data",
          "data": {
            "text/plain": [
              "<Figure size 1200x600 with 1 Axes>"
            ],
            "image/png": "[encoded data removed]"
          },
          "metadata": {}
        }
      ]
    },
    {
      "cell_type": "markdown",
      "source": [
        "# Insights\n",
        "\n",
        "## 1. Main Color Insights\n",
        "\n",
        "- **White**:\n",
        "  - Represents high-end products, likely due to the association with diamonds or platinum.\n",
        "  - Customers are willing to pay a premium for white-colored jewelry.\n",
        "\n",
        "- **Red and Yellow**:\n",
        "  - Represent mid-range and lower-priced products, likely due to the use of colored gemstones or less expensive materials.\n",
        "\n",
        "- **Unknown-Color**:\n",
        "  - The wide price range suggests a mix of products, including both high-end and mid-range items.\n",
        "\n",
        "## 2. Main Metal Insights\n",
        "\n",
        "- **Gold**:\n",
        "  - Mid-range pricing, reflecting its popularity and versatility in jewelry.\n",
        "\n",
        "- **Silver**:\n",
        "  - Lower pricing, making it accessible to price-sensitive customers.\n",
        "\n",
        "- **Platinum**:\n",
        "  - Higher pricing, reflecting its exclusivity and premium status.\n",
        "\n",
        "---\n",
        "\n",
        "# Recommendations\n",
        "\n",
        "## 1. Pricing Strategies\n",
        "\n",
        "- **White-Colored Jewelry**:\n",
        "  - Maintain premium pricing for white-colored jewelry, emphasizing its association with luxury and exclusivity.\n",
        "\n",
        "- **Red and Yellow-Colored Jewelry**:\n",
        "  - Offer competitive pricing and promotions to attract price-sensitive customers.\n",
        "\n",
        "- **Unknown-Color Jewelry**:\n",
        "  - Segment products based on price range and target different customer segments accordingly.\n",
        "\n",
        "## 2. Product Bundling\n",
        "\n",
        "- Bundle gold and silver jewelry with complementary products to increase average order value.\n",
        "- Introduce platinum collections with unique designs to attract high-end customers.\n",
        "\n",
        "## 3. Marketing Campaigns\n",
        "\n",
        "- Highlight the luxury and exclusivity of white-colored and platinum jewelry in marketing campaigns.\n",
        "- Emphasize the affordability and versatility of red, yellow, and silver jewelry.\n",
        "\n",
        "## 4. Inventory Management\n",
        "\n",
        "- Ensure adequate stock levels for high-demand products in the mid-range price segment.\n",
        "- Maintain limited stock for platinum and white-colored jewelry to preserve exclusivity.\n"
      ],
      "metadata": {
        "id": "cDPFC22aulWt"
      }
    },
    {
      "cell_type": "code",
      "source": [
        "data.info()"
      ],
      "metadata": {
        "id": "IoUnBq3_KQ8P",
        "outputId": "c0538adb-8fca-41fd-ec6a-65e0b3160375",
        "colab": {
          "base_uri": "https://localhost:8080/"
        }
      },
      "execution_count": 124,
      "outputs": [
        {
          "output_type": "stream",
          "name": "stdout",
          "text": [
            "<class 'pandas.core.frame.DataFrame'>\n",
            "RangeIndex: 78087 entries, 0 to 78086\n",
            "Data columns (total 19 columns):\n",
            " #   Column             Non-Null Count  Dtype              \n",
            "---  ------             --------------  -----              \n",
            " 0   Order_datetime     78087 non-null  datetime64[ns, UTC]\n",
            " 1   Order_ID           78087 non-null  int64              \n",
            " 2   Product_ID         78087 non-null  int64              \n",
            " 3   Quantity_of_SKU    78087 non-null  int64              \n",
            " 4   Category_ID        78087 non-null  float64            \n",
            " 5   Category           78087 non-null  object             \n",
            " 6   Brand_ID           74719 non-null  float64            \n",
            " 7   Price_USD          78087 non-null  float64            \n",
            " 8   User_ID            78087 non-null  float64            \n",
            " 9   Gender             43714 non-null  object             \n",
            " 10  Main_color         76212 non-null  object             \n",
            " 11  Main_metal         78001 non-null  object             \n",
            " 12  Main_gem           60003 non-null  object             \n",
            " 13  Year               78087 non-null  int32              \n",
            " 14  Month              78087 non-null  int32              \n",
            " 15  Hour               78087 non-null  int32              \n",
            " 16  Order Month        78087 non-null  period[M]          \n",
            " 17  Order Month_first  78087 non-null  period[M]          \n",
            " 18  Cohort             78087 non-null  bool               \n",
            "dtypes: bool(1), datetime64[ns, UTC](1), float64(4), int32(3), int64(3), object(5), period[M](2)\n",
            "memory usage: 9.9+ MB\n"
          ]
        }
      ]
    },
    {
      "cell_type": "markdown",
      "source": [
        "##Data Cleaning"
      ],
      "metadata": {
        "id": "o15zTNFUARMV"
      }
    },
    {
      "cell_type": "code",
      "source": [
        "#Remove unuseful features\n",
        "data = data.drop(columns=[\n",
        "    \"Order_ID\", \"Category_ID\",\"Product_ID\",\n",
        "    \"User_ID\",\"Order_datetime\",\"Order Month\",\"Order Month_first\",\"Cohort\",\"Quantity_of_SKU\",\"Main_gem\"])"
      ],
      "metadata": {
        "id": "fVb5zjr93LFD"
      },
      "execution_count": 125,
      "outputs": []
    },
    {
      "cell_type": "code",
      "source": [
        "data.head()"
      ],
      "metadata": {
        "colab": {
          "base_uri": "https://localhost:8080/",
          "height": 206
        },
        "id": "4RqKsDlGCntx",
        "outputId": "b688ca47-d66a-4bcf-a0bb-14eae8f2c15b"
      },
      "execution_count": 126,
      "outputs": [
        {
          "output_type": "execute_result",
          "data": {
            "text/plain": [
              "           Category  Brand_ID  Price_USD Gender Main_color Main_metal  Year  \\\n",
              "0   jewelry.pendant       1.0      54.66      f      white       gold  2018   \n",
              "1   jewelry.pendant       0.0      88.90      f        red       gold  2018   \n",
              "2  jewelry.necklace       0.0     417.67    NaN        red       gold  2018   \n",
              "3   jewelry.earring       1.0     102.27    NaN        red       gold  2018   \n",
              "4   jewelry.earring       0.0     150.55    NaN        red       gold  2018   \n",
              "\n",
              "   Month  Hour  \n",
              "0     12    13  \n",
              "1     12    17  \n",
              "2     12    21  \n",
              "3     12    22  \n",
              "4     12    22  "
            ],
            "text/html": [
              "\n",
              "  <div id=\"df-400d56e2-6a95-4a6f-9869-c36a772aff00\" class=\"colab-df-container\">\n",
              "    <div>\n",
              "<style scoped>\n",
              "    .dataframe tbody tr th:only-of-type {\n",
              "        vertical-align: middle;\n",
              "    }\n",
              "\n",
              "    .dataframe tbody tr th {\n",
              "        vertical-align: top;\n",
              "    }\n",
              "\n",
              "    .dataframe thead th {\n",
              "        text-align: right;\n",
              "    }\n",
              "</style>\n",
              "<table border=\"1\" class=\"dataframe\">\n",
              "  <thead>\n",
              "    <tr style=\"text-align: right;\">\n",
              "      <th></th>\n",
              "      <th>Category</th>\n",
              "      <th>Brand_ID</th>\n",
              "      <th>Price_USD</th>\n",
              "      <th>Gender</th>\n",
              "      <th>Main_color</th>\n",
              "      <th>Main_metal</th>\n",
              "      <th>Year</th>\n",
              "      <th>Month</th>\n",
              "      <th>Hour</th>\n",
              "    </tr>\n",
              "  </thead>\n",
              "  <tbody>\n",
              "    <tr>\n",
              "      <th>0</th>\n",
              "      <td>jewelry.pendant</td>\n",
              "      <td>1.0</td>\n",
              "      <td>54.66</td>\n",
              "      <td>f</td>\n",
              "      <td>white</td>\n",
              "      <td>gold</td>\n",
              "      <td>2018</td>\n",
              "      <td>12</td>\n",
              "      <td>13</td>\n",
              "    </tr>\n",
              "    <tr>\n",
              "      <th>1</th>\n",
              "      <td>jewelry.pendant</td>\n",
              "      <td>0.0</td>\n",
              "      <td>88.90</td>\n",
              "      <td>f</td>\n",
              "      <td>red</td>\n",
              "      <td>gold</td>\n",
              "      <td>2018</td>\n",
              "      <td>12</td>\n",
              "      <td>17</td>\n",
              "    </tr>\n",
              "    <tr>\n",
              "      <th>2</th>\n",
              "      <td>jewelry.necklace</td>\n",
              "      <td>0.0</td>\n",
              "      <td>417.67</td>\n",
              "      <td>NaN</td>\n",
              "      <td>red</td>\n",
              "      <td>gold</td>\n",
              "      <td>2018</td>\n",
              "      <td>12</td>\n",
              "      <td>21</td>\n",
              "    </tr>\n",
              "    <tr>\n",
              "      <th>3</th>\n",
              "      <td>jewelry.earring</td>\n",
              "      <td>1.0</td>\n",
              "      <td>102.27</td>\n",
              "      <td>NaN</td>\n",
              "      <td>red</td>\n",
              "      <td>gold</td>\n",
              "      <td>2018</td>\n",
              "      <td>12</td>\n",
              "      <td>22</td>\n",
              "    </tr>\n",
              "    <tr>\n",
              "      <th>4</th>\n",
              "      <td>jewelry.earring</td>\n",
              "      <td>0.0</td>\n",
              "      <td>150.55</td>\n",
              "      <td>NaN</td>\n",
              "      <td>red</td>\n",
              "      <td>gold</td>\n",
              "      <td>2018</td>\n",
              "      <td>12</td>\n",
              "      <td>22</td>\n",
              "    </tr>\n",
              "  </tbody>\n",
              "</table>\n",
              "</div>\n",
              "    <div class=\"colab-df-buttons\">\n",
              "\n",
              "  <div class=\"colab-df-container\">\n",
              "    <button class=\"colab-df-convert\" onclick=\"convertToInteractive('df-400d56e2-6a95-4a6f-9869-c36a772aff00')\"\n",
              "            title=\"Convert this dataframe to an interactive table.\"\n",
              "            style=\"display:none;\">\n",
              "\n",
              "  <svg xmlns=\"http://www.w3.org/2000/svg\" height=\"24px\" viewBox=\"0 -960 960 960\">\n",
              "    <path d=\"M120-120v-720h720v720H120Zm60-500h600v-160H180v160Zm220 220h160v-160H400v160Zm0 220h160v-160H400v160ZM180-400h160v-160H180v160Zm440 0h160v-160H620v160ZM180-180h160v-160H180v160Zm440 0h160v-160H620v160Z\"/>\n",
              "  </svg>\n",
              "    </button>\n",
              "\n",
              "  <style>\n",
              "    .colab-df-container {\n",
              "      display:flex;\n",
              "      gap: 12px;\n",
              "    }\n",
              "\n",
              "    .colab-df-convert {\n",
              "      background-color: #E8F0FE;\n",
              "      border: none;\n",
              "      border-radius: 50%;\n",
              "      cursor: pointer;\n",
              "      display: none;\n",
              "      fill: #1967D2;\n",
              "      height: 32px;\n",
              "      padding: 0 0 0 0;\n",
              "      width: 32px;\n",
              "    }\n",
              "\n",
              "    .colab-df-convert:hover {\n",
              "      background-color: #E2EBFA;\n",
              "      box-shadow: 0px 1px 2px rgba(60, 64, 67, 0.3), 0px 1px 3px 1px rgba(60, 64, 67, 0.15);\n",
              "      fill: #174EA6;\n",
              "    }\n",
              "\n",
              "    .colab-df-buttons div {\n",
              "      margin-bottom: 4px;\n",
              "    }\n",
              "\n",
              "    [theme=dark] .colab-df-convert {\n",
              "      background-color: #3B4455;\n",
              "      fill: #D2E3FC;\n",
              "    }\n",
              "\n",
              "    [theme=dark] .colab-df-convert:hover {\n",
              "      background-color: #434B5C;\n",
              "      box-shadow: 0px 1px 3px 1px rgba(0, 0, 0, 0.15);\n",
              "      filter: drop-shadow(0px 1px 2px rgba(0, 0, 0, 0.3));\n",
              "      fill: #FFFFFF;\n",
              "    }\n",
              "  </style>\n",
              "\n",
              "    <script>\n",
              "      const buttonEl =\n",
              "        document.querySelector('#df-400d56e2-6a95-4a6f-9869-c36a772aff00 button.colab-df-convert');\n",
              "      buttonEl.style.display =\n",
              "        google.colab.kernel.accessAllowed ? 'block' : 'none';\n",
              "\n",
              "      async function convertToInteractive(key) {\n",
              "        const element = document.querySelector('#df-400d56e2-6a95-4a6f-9869-c36a772aff00');\n",
              "        const dataTable =\n",
              "          await google.colab.kernel.invokeFunction('convertToInteractive',\n",
              "                                                    [key], {});\n",
              "        if (!dataTable) return;\n",
              "\n",
              "        const docLinkHtml = 'Like what you see? Visit the ' +\n",
              "          '<a target=\"_blank\" href=https://colab.research.google.com/notebooks/data_table.ipynb>data table notebook</a>'\n",
              "          + ' to learn more about interactive tables.';\n",
              "        element.innerHTML = '';\n",
              "        dataTable['output_type'] = 'display_data';\n",
              "        await google.colab.output.renderOutput(dataTable, element);\n",
              "        const docLink = document.createElement('div');\n",
              "        docLink.innerHTML = docLinkHtml;\n",
              "        element.appendChild(docLink);\n",
              "      }\n",
              "    </script>\n",
              "  </div>\n",
              "\n",
              "\n",
              "<div id=\"df-3911ee70-3c7c-40ea-a177-1ae9e6855aeb\">\n",
              "  <button class=\"colab-df-quickchart\" onclick=\"quickchart('df-3911ee70-3c7c-40ea-a177-1ae9e6855aeb')\"\n",
              "            title=\"Suggest charts\"\n",
              "            style=\"display:none;\">\n",
              "\n",
              "<svg xmlns=\"http://www.w3.org/2000/svg\" height=\"24px\"viewBox=\"0 0 24 24\"\n",
              "     width=\"24px\">\n",
              "    <g>\n",
              "        <path d=\"M19 3H5c-1.1 0-2 .9-2 2v14c0 1.1.9 2 2 2h14c1.1 0 2-.9 2-2V5c0-1.1-.9-2-2-2zM9 17H7v-7h2v7zm4 0h-2V7h2v10zm4 0h-2v-4h2v4z\"/>\n",
              "    </g>\n",
              "</svg>\n",
              "  </button>\n",
              "\n",
              "<style>\n",
              "  .colab-df-quickchart {\n",
              "      --bg-color: #E8F0FE;\n",
              "      --fill-color: #1967D2;\n",
              "      --hover-bg-color: #E2EBFA;\n",
              "      --hover-fill-color: #174EA6;\n",
              "      --disabled-fill-color: #AAA;\n",
              "      --disabled-bg-color: #DDD;\n",
              "  }\n",
              "\n",
              "  [theme=dark] .colab-df-quickchart {\n",
              "      --bg-color: #3B4455;\n",
              "      --fill-color: #D2E3FC;\n",
              "      --hover-bg-color: #434B5C;\n",
              "      --hover-fill-color: #FFFFFF;\n",
              "      --disabled-bg-color: #3B4455;\n",
              "      --disabled-fill-color: #666;\n",
              "  }\n",
              "\n",
              "  .colab-df-quickchart {\n",
              "    background-color: var(--bg-color);\n",
              "    border: none;\n",
              "    border-radius: 50%;\n",
              "    cursor: pointer;\n",
              "    display: none;\n",
              "    fill: var(--fill-color);\n",
              "    height: 32px;\n",
              "    padding: 0;\n",
              "    width: 32px;\n",
              "  }\n",
              "\n",
              "  .colab-df-quickchart:hover {\n",
              "    background-color: var(--hover-bg-color);\n",
              "    box-shadow: 0 1px 2px rgba(60, 64, 67, 0.3), 0 1px 3px 1px rgba(60, 64, 67, 0.15);\n",
              "    fill: var(--button-hover-fill-color);\n",
              "  }\n",
              "\n",
              "  .colab-df-quickchart-complete:disabled,\n",
              "  .colab-df-quickchart-complete:disabled:hover {\n",
              "    background-color: var(--disabled-bg-color);\n",
              "    fill: var(--disabled-fill-color);\n",
              "    box-shadow: none;\n",
              "  }\n",
              "\n",
              "  .colab-df-spinner {\n",
              "    border: 2px solid var(--fill-color);\n",
              "    border-color: transparent;\n",
              "    border-bottom-color: var(--fill-color);\n",
              "    animation:\n",
              "      spin 1s steps(1) infinite;\n",
              "  }\n",
              "\n",
              "  @keyframes spin {\n",
              "    0% {\n",
              "      border-color: transparent;\n",
              "      border-bottom-color: var(--fill-color);\n",
              "      border-left-color: var(--fill-color);\n",
              "    }\n",
              "    20% {\n",
              "      border-color: transparent;\n",
              "      border-left-color: var(--fill-color);\n",
              "      border-top-color: var(--fill-color);\n",
              "    }\n",
              "    30% {\n",
              "      border-color: transparent;\n",
              "      border-left-color: var(--fill-color);\n",
              "      border-top-color: var(--fill-color);\n",
              "      border-right-color: var(--fill-color);\n",
              "    }\n",
              "    40% {\n",
              "      border-color: transparent;\n",
              "      border-right-color: var(--fill-color);\n",
              "      border-top-color: var(--fill-color);\n",
              "    }\n",
              "    60% {\n",
              "      border-color: transparent;\n",
              "      border-right-color: var(--fill-color);\n",
              "    }\n",
              "    80% {\n",
              "      border-color: transparent;\n",
              "      border-right-color: var(--fill-color);\n",
              "      border-bottom-color: var(--fill-color);\n",
              "    }\n",
              "    90% {\n",
              "      border-color: transparent;\n",
              "      border-bottom-color: var(--fill-color);\n",
              "    }\n",
              "  }\n",
              "</style>\n",
              "\n",
              "  <script>\n",
              "    async function quickchart(key) {\n",
              "      const quickchartButtonEl =\n",
              "        document.querySelector('#' + key + ' button');\n",
              "      quickchartButtonEl.disabled = true;  // To prevent multiple clicks.\n",
              "      quickchartButtonEl.classList.add('colab-df-spinner');\n",
              "      try {\n",
              "        const charts = await google.colab.kernel.invokeFunction(\n",
              "            'suggestCharts', [key], {});\n",
              "      } catch (error) {\n",
              "        console.error('Error during call to suggestCharts:', error);\n",
              "      }\n",
              "      quickchartButtonEl.classList.remove('colab-df-spinner');\n",
              "      quickchartButtonEl.classList.add('colab-df-quickchart-complete');\n",
              "    }\n",
              "    (() => {\n",
              "      let quickchartButtonEl =\n",
              "        document.querySelector('#df-3911ee70-3c7c-40ea-a177-1ae9e6855aeb button');\n",
              "      quickchartButtonEl.style.display =\n",
              "        google.colab.kernel.accessAllowed ? 'block' : 'none';\n",
              "    })();\n",
              "  </script>\n",
              "</div>\n",
              "\n",
              "    </div>\n",
              "  </div>\n"
            ],
            "application/vnd.google.colaboratory.intrinsic+json": {
              "type": "dataframe",
              "variable_name": "data",
              "summary": "{\n  \"name\": \"data\",\n  \"rows\": 78087,\n  \"fields\": [\n    {\n      \"column\": \"Category\",\n      \"properties\": {\n        \"dtype\": \"category\",\n        \"num_unique_values\": 8,\n        \"samples\": [\n          \"jewelry.necklace\",\n          \"jewelry.bracelet\",\n          \"jewelry.pendant\"\n        ],\n        \"semantic_type\": \"\",\n        \"description\": \"\"\n      }\n    },\n    {\n      \"column\": \"Brand_ID\",\n      \"properties\": {\n        \"dtype\": \"number\",\n        \"std\": 0.690533166368129,\n        \"min\": 0.0,\n        \"max\": 5.0,\n        \"num_unique_values\": 6,\n        \"samples\": [\n          1.0,\n          0.0,\n          3.0\n        ],\n        \"semantic_type\": \"\",\n        \"description\": \"\"\n      }\n    },\n    {\n      \"column\": \"Price_USD\",\n      \"properties\": {\n        \"dtype\": \"number\",\n        \"std\": 444.9298980195161,\n        \"min\": 0.99,\n        \"max\": 34448.6,\n        \"num_unique_values\": 2849,\n        \"samples\": [\n          444.21,\n          176.58,\n          482.03\n        ],\n        \"semantic_type\": \"\",\n        \"description\": \"\"\n      }\n    },\n    {\n      \"column\": \"Gender\",\n      \"properties\": {\n        \"dtype\": \"category\",\n        \"num_unique_values\": 2,\n        \"samples\": [\n          \"m\",\n          \"f\"\n        ],\n        \"semantic_type\": \"\",\n        \"description\": \"\"\n      }\n    },\n    {\n      \"column\": \"Main_color\",\n      \"properties\": {\n        \"dtype\": \"category\",\n        \"num_unique_values\": 4,\n        \"samples\": [\n          \"red\",\n          \"unknown-color\"\n        ],\n        \"semantic_type\": \"\",\n        \"description\": \"\"\n      }\n    },\n    {\n      \"column\": \"Main_metal\",\n      \"properties\": {\n        \"dtype\": \"category\",\n        \"num_unique_values\": 3,\n        \"samples\": [\n          \"gold\",\n          \"silver\"\n        ],\n        \"semantic_type\": \"\",\n        \"description\": \"\"\n      }\n    },\n    {\n      \"column\": \"Year\",\n      \"properties\": {\n        \"dtype\": \"int32\",\n        \"num_unique_values\": 4,\n        \"samples\": [\n          2019,\n          2021\n        ],\n        \"semantic_type\": \"\",\n        \"description\": \"\"\n      }\n    },\n    {\n      \"column\": \"Month\",\n      \"properties\": {\n        \"dtype\": \"int32\",\n        \"num_unique_values\": 12,\n        \"samples\": [\n          10,\n          9\n        ],\n        \"semantic_type\": \"\",\n        \"description\": \"\"\n      }\n    },\n    {\n      \"column\": \"Hour\",\n      \"properties\": {\n        \"dtype\": \"int32\",\n        \"num_unique_values\": 24,\n        \"samples\": [\n          6,\n          14\n        ],\n        \"semantic_type\": \"\",\n        \"description\": \"\"\n      }\n    }\n  ]\n}"
            }
          },
          "metadata": {},
          "execution_count": 126
        }
      ]
    },
    {
      "cell_type": "code",
      "source": [
        "# Convert columns to categorical data type\n",
        "categorical_columns = [\n",
        "    'Main_metal',\n",
        "    'Main_color',\n",
        "    'Gender',\n",
        "    'Brand_ID',\n",
        "    'Category'\n",
        "]\n",
        "\n",
        "# Apply categorical conversion\n",
        "for col in categorical_columns:\n",
        "    data[col] = data[col].astype('category')"
      ],
      "metadata": {
        "id": "w5nFZNc2tNQ_"
      },
      "execution_count": 127,
      "outputs": []
    },
    {
      "cell_type": "code",
      "source": [
        "from sklearn.preprocessing import LabelEncoder\n",
        "\n",
        "# Nominal Columns\n",
        "nominal_columns = ['Main_metal','Main_color', 'Gender', 'Category', 'Brand_ID']\n",
        "\n",
        "\n",
        "# One-Hot Encoding for Nominal Columns\n",
        "data = pd.get_dummies(data, columns=nominal_columns, drop_first=True)  # drop_first=True to avoid multicollinearity\n"
      ],
      "metadata": {
        "id": "RynKW1ShMTbK"
      },
      "execution_count": 128,
      "outputs": []
    },
    {
      "cell_type": "code",
      "source": [
        "data.head()"
      ],
      "metadata": {
        "colab": {
          "base_uri": "https://localhost:8080/",
          "height": 273
        },
        "id": "KfbZ2KikCo6E",
        "outputId": "0649bcf7-f9c3-4d5c-dd99-6be65f596c90"
      },
      "execution_count": 129,
      "outputs": [
        {
          "output_type": "execute_result",
          "data": {
            "text/plain": [
              "   Price_USD  Year  Month  Hour  Main_metal_platinum  Main_metal_silver  \\\n",
              "0      54.66  2018     12    13                False              False   \n",
              "1      88.90  2018     12    17                False              False   \n",
              "2     417.67  2018     12    21                False              False   \n",
              "3     102.27  2018     12    22                False              False   \n",
              "4     150.55  2018     12    22                False              False   \n",
              "\n",
              "   Main_color_unknown-color  Main_color_white  Main_color_yellow  Gender_m  \\\n",
              "0                     False              True              False     False   \n",
              "1                     False             False              False     False   \n",
              "2                     False             False              False     False   \n",
              "3                     False             False              False     False   \n",
              "4                     False             False              False     False   \n",
              "\n",
              "   ...  Category_jewelry.necklace  Category_jewelry.pendant  \\\n",
              "0  ...                      False                      True   \n",
              "1  ...                      False                      True   \n",
              "2  ...                       True                     False   \n",
              "3  ...                      False                     False   \n",
              "4  ...                      False                     False   \n",
              "\n",
              "   Category_jewelry.ring  Category_jewelry.souvenir  Category_jewelry.stud  \\\n",
              "0                  False                      False                  False   \n",
              "1                  False                      False                  False   \n",
              "2                  False                      False                  False   \n",
              "3                  False                      False                  False   \n",
              "4                  False                      False                  False   \n",
              "\n",
              "   Brand_ID_1.0  Brand_ID_2.0  Brand_ID_3.0  Brand_ID_4.0  Brand_ID_5.0  \n",
              "0          True         False         False         False         False  \n",
              "1         False         False         False         False         False  \n",
              "2         False         False         False         False         False  \n",
              "3          True         False         False         False         False  \n",
              "4         False         False         False         False         False  \n",
              "\n",
              "[5 rows x 22 columns]"
            ],
            "text/html": [
              "\n",
              "  <div id=\"df-f5eff8ed-a983-4d85-8083-20907c2a888b\" class=\"colab-df-container\">\n",
              "    <div>\n",
              "<style scoped>\n",
              "    .dataframe tbody tr th:only-of-type {\n",
              "        vertical-align: middle;\n",
              "    }\n",
              "\n",
              "    .dataframe tbody tr th {\n",
              "        vertical-align: top;\n",
              "    }\n",
              "\n",
              "    .dataframe thead th {\n",
              "        text-align: right;\n",
              "    }\n",
              "</style>\n",
              "<table border=\"1\" class=\"dataframe\">\n",
              "  <thead>\n",
              "    <tr style=\"text-align: right;\">\n",
              "      <th></th>\n",
              "      <th>Price_USD</th>\n",
              "      <th>Year</th>\n",
              "      <th>Month</th>\n",
              "      <th>Hour</th>\n",
              "      <th>Main_metal_platinum</th>\n",
              "      <th>Main_metal_silver</th>\n",
              "      <th>Main_color_unknown-color</th>\n",
              "      <th>Main_color_white</th>\n",
              "      <th>Main_color_yellow</th>\n",
              "      <th>Gender_m</th>\n",
              "      <th>...</th>\n",
              "      <th>Category_jewelry.necklace</th>\n",
              "      <th>Category_jewelry.pendant</th>\n",
              "      <th>Category_jewelry.ring</th>\n",
              "      <th>Category_jewelry.souvenir</th>\n",
              "      <th>Category_jewelry.stud</th>\n",
              "      <th>Brand_ID_1.0</th>\n",
              "      <th>Brand_ID_2.0</th>\n",
              "      <th>Brand_ID_3.0</th>\n",
              "      <th>Brand_ID_4.0</th>\n",
              "      <th>Brand_ID_5.0</th>\n",
              "    </tr>\n",
              "  </thead>\n",
              "  <tbody>\n",
              "    <tr>\n",
              "      <th>0</th>\n",
              "      <td>54.66</td>\n",
              "      <td>2018</td>\n",
              "      <td>12</td>\n",
              "      <td>13</td>\n",
              "      <td>False</td>\n",
              "      <td>False</td>\n",
              "      <td>False</td>\n",
              "      <td>True</td>\n",
              "      <td>False</td>\n",
              "      <td>False</td>\n",
              "      <td>...</td>\n",
              "      <td>False</td>\n",
              "      <td>True</td>\n",
              "      <td>False</td>\n",
              "      <td>False</td>\n",
              "      <td>False</td>\n",
              "      <td>True</td>\n",
              "      <td>False</td>\n",
              "      <td>False</td>\n",
              "      <td>False</td>\n",
              "      <td>False</td>\n",
              "    </tr>\n",
              "    <tr>\n",
              "      <th>1</th>\n",
              "      <td>88.90</td>\n",
              "      <td>2018</td>\n",
              "      <td>12</td>\n",
              "      <td>17</td>\n",
              "      <td>False</td>\n",
              "      <td>False</td>\n",
              "      <td>False</td>\n",
              "      <td>False</td>\n",
              "      <td>False</td>\n",
              "      <td>False</td>\n",
              "      <td>...</td>\n",
              "      <td>False</td>\n",
              "      <td>True</td>\n",
              "      <td>False</td>\n",
              "      <td>False</td>\n",
              "      <td>False</td>\n",
              "      <td>False</td>\n",
              "      <td>False</td>\n",
              "      <td>False</td>\n",
              "      <td>False</td>\n",
              "      <td>False</td>\n",
              "    </tr>\n",
              "    <tr>\n",
              "      <th>2</th>\n",
              "      <td>417.67</td>\n",
              "      <td>2018</td>\n",
              "      <td>12</td>\n",
              "      <td>21</td>\n",
              "      <td>False</td>\n",
              "      <td>False</td>\n",
              "      <td>False</td>\n",
              "      <td>False</td>\n",
              "      <td>False</td>\n",
              "      <td>False</td>\n",
              "      <td>...</td>\n",
              "      <td>True</td>\n",
              "      <td>False</td>\n",
              "      <td>False</td>\n",
              "      <td>False</td>\n",
              "      <td>False</td>\n",
              "      <td>False</td>\n",
              "      <td>False</td>\n",
              "      <td>False</td>\n",
              "      <td>False</td>\n",
              "      <td>False</td>\n",
              "    </tr>\n",
              "    <tr>\n",
              "      <th>3</th>\n",
              "      <td>102.27</td>\n",
              "      <td>2018</td>\n",
              "      <td>12</td>\n",
              "      <td>22</td>\n",
              "      <td>False</td>\n",
              "      <td>False</td>\n",
              "      <td>False</td>\n",
              "      <td>False</td>\n",
              "      <td>False</td>\n",
              "      <td>False</td>\n",
              "      <td>...</td>\n",
              "      <td>False</td>\n",
              "      <td>False</td>\n",
              "      <td>False</td>\n",
              "      <td>False</td>\n",
              "      <td>False</td>\n",
              "      <td>True</td>\n",
              "      <td>False</td>\n",
              "      <td>False</td>\n",
              "      <td>False</td>\n",
              "      <td>False</td>\n",
              "    </tr>\n",
              "    <tr>\n",
              "      <th>4</th>\n",
              "      <td>150.55</td>\n",
              "      <td>2018</td>\n",
              "      <td>12</td>\n",
              "      <td>22</td>\n",
              "      <td>False</td>\n",
              "      <td>False</td>\n",
              "      <td>False</td>\n",
              "      <td>False</td>\n",
              "      <td>False</td>\n",
              "      <td>False</td>\n",
              "      <td>...</td>\n",
              "      <td>False</td>\n",
              "      <td>False</td>\n",
              "      <td>False</td>\n",
              "      <td>False</td>\n",
              "      <td>False</td>\n",
              "      <td>False</td>\n",
              "      <td>False</td>\n",
              "      <td>False</td>\n",
              "      <td>False</td>\n",
              "      <td>False</td>\n",
              "    </tr>\n",
              "  </tbody>\n",
              "</table>\n",
              "<p>5 rows × 22 columns</p>\n",
              "</div>\n",
              "    <div class=\"colab-df-buttons\">\n",
              "\n",
              "  <div class=\"colab-df-container\">\n",
              "    <button class=\"colab-df-convert\" onclick=\"convertToInteractive('df-f5eff8ed-a983-4d85-8083-20907c2a888b')\"\n",
              "            title=\"Convert this dataframe to an interactive table.\"\n",
              "            style=\"display:none;\">\n",
              "\n",
              "  <svg xmlns=\"http://www.w3.org/2000/svg\" height=\"24px\" viewBox=\"0 -960 960 960\">\n",
              "    <path d=\"M120-120v-720h720v720H120Zm60-500h600v-160H180v160Zm220 220h160v-160H400v160Zm0 220h160v-160H400v160ZM180-400h160v-160H180v160Zm440 0h160v-160H620v160ZM180-180h160v-160H180v160Zm440 0h160v-160H620v160Z\"/>\n",
              "  </svg>\n",
              "    </button>\n",
              "\n",
              "  <style>\n",
              "    .colab-df-container {\n",
              "      display:flex;\n",
              "      gap: 12px;\n",
              "    }\n",
              "\n",
              "    .colab-df-convert {\n",
              "      background-color: #E8F0FE;\n",
              "      border: none;\n",
              "      border-radius: 50%;\n",
              "      cursor: pointer;\n",
              "      display: none;\n",
              "      fill: #1967D2;\n",
              "      height: 32px;\n",
              "      padding: 0 0 0 0;\n",
              "      width: 32px;\n",
              "    }\n",
              "\n",
              "    .colab-df-convert:hover {\n",
              "      background-color: #E2EBFA;\n",
              "      box-shadow: 0px 1px 2px rgba(60, 64, 67, 0.3), 0px 1px 3px 1px rgba(60, 64, 67, 0.15);\n",
              "      fill: #174EA6;\n",
              "    }\n",
              "\n",
              "    .colab-df-buttons div {\n",
              "      margin-bottom: 4px;\n",
              "    }\n",
              "\n",
              "    [theme=dark] .colab-df-convert {\n",
              "      background-color: #3B4455;\n",
              "      fill: #D2E3FC;\n",
              "    }\n",
              "\n",
              "    [theme=dark] .colab-df-convert:hover {\n",
              "      background-color: #434B5C;\n",
              "      box-shadow: 0px 1px 3px 1px rgba(0, 0, 0, 0.15);\n",
              "      filter: drop-shadow(0px 1px 2px rgba(0, 0, 0, 0.3));\n",
              "      fill: #FFFFFF;\n",
              "    }\n",
              "  </style>\n",
              "\n",
              "    <script>\n",
              "      const buttonEl =\n",
              "        document.querySelector('#df-f5eff8ed-a983-4d85-8083-20907c2a888b button.colab-df-convert');\n",
              "      buttonEl.style.display =\n",
              "        google.colab.kernel.accessAllowed ? 'block' : 'none';\n",
              "\n",
              "      async function convertToInteractive(key) {\n",
              "        const element = document.querySelector('#df-f5eff8ed-a983-4d85-8083-20907c2a888b');\n",
              "        const dataTable =\n",
              "          await google.colab.kernel.invokeFunction('convertToInteractive',\n",
              "                                                    [key], {});\n",
              "        if (!dataTable) return;\n",
              "\n",
              "        const docLinkHtml = 'Like what you see? Visit the ' +\n",
              "          '<a target=\"_blank\" href=https://colab.research.google.com/notebooks/data_table.ipynb>data table notebook</a>'\n",
              "          + ' to learn more about interactive tables.';\n",
              "        element.innerHTML = '';\n",
              "        dataTable['output_type'] = 'display_data';\n",
              "        await google.colab.output.renderOutput(dataTable, element);\n",
              "        const docLink = document.createElement('div');\n",
              "        docLink.innerHTML = docLinkHtml;\n",
              "        element.appendChild(docLink);\n",
              "      }\n",
              "    </script>\n",
              "  </div>\n",
              "\n",
              "\n",
              "<div id=\"df-5273f1d2-4979-4e4a-903a-4f45c77310bc\">\n",
              "  <button class=\"colab-df-quickchart\" onclick=\"quickchart('df-5273f1d2-4979-4e4a-903a-4f45c77310bc')\"\n",
              "            title=\"Suggest charts\"\n",
              "            style=\"display:none;\">\n",
              "\n",
              "<svg xmlns=\"http://www.w3.org/2000/svg\" height=\"24px\"viewBox=\"0 0 24 24\"\n",
              "     width=\"24px\">\n",
              "    <g>\n",
              "        <path d=\"M19 3H5c-1.1 0-2 .9-2 2v14c0 1.1.9 2 2 2h14c1.1 0 2-.9 2-2V5c0-1.1-.9-2-2-2zM9 17H7v-7h2v7zm4 0h-2V7h2v10zm4 0h-2v-4h2v4z\"/>\n",
              "    </g>\n",
              "</svg>\n",
              "  </button>\n",
              "\n",
              "<style>\n",
              "  .colab-df-quickchart {\n",
              "      --bg-color: #E8F0FE;\n",
              "      --fill-color: #1967D2;\n",
              "      --hover-bg-color: #E2EBFA;\n",
              "      --hover-fill-color: #174EA6;\n",
              "      --disabled-fill-color: #AAA;\n",
              "      --disabled-bg-color: #DDD;\n",
              "  }\n",
              "\n",
              "  [theme=dark] .colab-df-quickchart {\n",
              "      --bg-color: #3B4455;\n",
              "      --fill-color: #D2E3FC;\n",
              "      --hover-bg-color: #434B5C;\n",
              "      --hover-fill-color: #FFFFFF;\n",
              "      --disabled-bg-color: #3B4455;\n",
              "      --disabled-fill-color: #666;\n",
              "  }\n",
              "\n",
              "  .colab-df-quickchart {\n",
              "    background-color: var(--bg-color);\n",
              "    border: none;\n",
              "    border-radius: 50%;\n",
              "    cursor: pointer;\n",
              "    display: none;\n",
              "    fill: var(--fill-color);\n",
              "    height: 32px;\n",
              "    padding: 0;\n",
              "    width: 32px;\n",
              "  }\n",
              "\n",
              "  .colab-df-quickchart:hover {\n",
              "    background-color: var(--hover-bg-color);\n",
              "    box-shadow: 0 1px 2px rgba(60, 64, 67, 0.3), 0 1px 3px 1px rgba(60, 64, 67, 0.15);\n",
              "    fill: var(--button-hover-fill-color);\n",
              "  }\n",
              "\n",
              "  .colab-df-quickchart-complete:disabled,\n",
              "  .colab-df-quickchart-complete:disabled:hover {\n",
              "    background-color: var(--disabled-bg-color);\n",
              "    fill: var(--disabled-fill-color);\n",
              "    box-shadow: none;\n",
              "  }\n",
              "\n",
              "  .colab-df-spinner {\n",
              "    border: 2px solid var(--fill-color);\n",
              "    border-color: transparent;\n",
              "    border-bottom-color: var(--fill-color);\n",
              "    animation:\n",
              "      spin 1s steps(1) infinite;\n",
              "  }\n",
              "\n",
              "  @keyframes spin {\n",
              "    0% {\n",
              "      border-color: transparent;\n",
              "      border-bottom-color: var(--fill-color);\n",
              "      border-left-color: var(--fill-color);\n",
              "    }\n",
              "    20% {\n",
              "      border-color: transparent;\n",
              "      border-left-color: var(--fill-color);\n",
              "      border-top-color: var(--fill-color);\n",
              "    }\n",
              "    30% {\n",
              "      border-color: transparent;\n",
              "      border-left-color: var(--fill-color);\n",
              "      border-top-color: var(--fill-color);\n",
              "      border-right-color: var(--fill-color);\n",
              "    }\n",
              "    40% {\n",
              "      border-color: transparent;\n",
              "      border-right-color: var(--fill-color);\n",
              "      border-top-color: var(--fill-color);\n",
              "    }\n",
              "    60% {\n",
              "      border-color: transparent;\n",
              "      border-right-color: var(--fill-color);\n",
              "    }\n",
              "    80% {\n",
              "      border-color: transparent;\n",
              "      border-right-color: var(--fill-color);\n",
              "      border-bottom-color: var(--fill-color);\n",
              "    }\n",
              "    90% {\n",
              "      border-color: transparent;\n",
              "      border-bottom-color: var(--fill-color);\n",
              "    }\n",
              "  }\n",
              "</style>\n",
              "\n",
              "  <script>\n",
              "    async function quickchart(key) {\n",
              "      const quickchartButtonEl =\n",
              "        document.querySelector('#' + key + ' button');\n",
              "      quickchartButtonEl.disabled = true;  // To prevent multiple clicks.\n",
              "      quickchartButtonEl.classList.add('colab-df-spinner');\n",
              "      try {\n",
              "        const charts = await google.colab.kernel.invokeFunction(\n",
              "            'suggestCharts', [key], {});\n",
              "      } catch (error) {\n",
              "        console.error('Error during call to suggestCharts:', error);\n",
              "      }\n",
              "      quickchartButtonEl.classList.remove('colab-df-spinner');\n",
              "      quickchartButtonEl.classList.add('colab-df-quickchart-complete');\n",
              "    }\n",
              "    (() => {\n",
              "      let quickchartButtonEl =\n",
              "        document.querySelector('#df-5273f1d2-4979-4e4a-903a-4f45c77310bc button');\n",
              "      quickchartButtonEl.style.display =\n",
              "        google.colab.kernel.accessAllowed ? 'block' : 'none';\n",
              "    })();\n",
              "  </script>\n",
              "</div>\n",
              "\n",
              "    </div>\n",
              "  </div>\n"
            ],
            "application/vnd.google.colaboratory.intrinsic+json": {
              "type": "dataframe",
              "variable_name": "data"
            }
          },
          "metadata": {},
          "execution_count": 129
        }
      ]
    },
    {
      "cell_type": "code",
      "source": [],
      "metadata": {
        "id": "GxsycMiMCryz"
      },
      "execution_count": null,
      "outputs": []
    },
    {
      "cell_type": "markdown",
      "source": [
        "## Machine Learning"
      ],
      "metadata": {
        "id": "NKlTXZfrDSLB"
      }
    },
    {
      "cell_type": "code",
      "source": [
        "# Specifying our features and target variables\n",
        "x=data.drop([\"Price_USD\"],axis=1)   # Features\n",
        "y=data[\"Price_USD\"]          # Target variable"
      ],
      "metadata": {
        "id": "Nhxb9jcWDLzN"
      },
      "execution_count": 130,
      "outputs": []
    },
    {
      "cell_type": "code",
      "source": [
        "x_train, x_test, y_train, y_test = train_test_split(x, y, test_size=0.2, random_state=42)"
      ],
      "metadata": {
        "id": "MglNMIFSDeCJ"
      },
      "execution_count": 131,
      "outputs": []
    },
    {
      "cell_type": "code",
      "source": [
        "# Correlation heatmap (if numerical features exist)\n",
        "#sns.heatmap(data.corr(), annot=True, cmap='coolwarm')\n",
        "#plt.show()"
      ],
      "metadata": {
        "id": "E0JxPD5PEO2O"
      },
      "execution_count": 132,
      "outputs": []
    },
    {
      "cell_type": "markdown",
      "source": [
        "Linear Regression"
      ],
      "metadata": {
        "id": "sjinks_7FMgF"
      }
    },
    {
      "cell_type": "code",
      "source": [
        "def evaluate_model(model, X_train, y_train, X_test, y_test):\n",
        "    \"\"\"Ensure numeric values are returned.\"\"\"\n",
        "    y_train_pred = model.predict(X_train)\n",
        "    y_test_pred = model.predict(X_test)\n",
        "\n",
        "    train_r2 = float(r2_score(y_train, y_train_pred))\n",
        "    test_r2 = float(r2_score(y_test, y_test_pred))\n",
        "    train_rmse = float(np.sqrt(mean_squared_error(y_train, y_train_pred)))\n",
        "    test_rmse = float(np.sqrt(mean_squared_error(y_test, y_test_pred)))\n",
        "    generalization_error = float(abs(train_rmse - test_rmse))\n",
        "\n",
        "    return train_r2, test_r2, train_rmse, test_rmse, generalization_error\n"
      ],
      "metadata": {
        "id": "hF5LSWDyFSCp"
      },
      "execution_count": 133,
      "outputs": []
    },
    {
      "cell_type": "code",
      "source": [
        "# Train model\n",
        "linear_model = LinearRegression()\n",
        "linear_model.fit(x_train, y_train)\n",
        "\n",
        "# Evaluate model\n",
        "linear_metrics = evaluate_model(linear_model, x_train, y_train, x_test, y_test)\n",
        "print(\"Linear Regression Metrics:\")\n",
        "linear_metrics"
      ],
      "metadata": {
        "colab": {
          "base_uri": "https://localhost:8080/"
        },
        "id": "wFZXVDgXGMaK",
        "outputId": "c1397c15-2120-4e40-dc99-b7ac3117a1f1"
      },
      "execution_count": 134,
      "outputs": [
        {
          "output_type": "stream",
          "name": "stdout",
          "text": [
            "Linear Regression Metrics:\n"
          ]
        },
        {
          "output_type": "execute_result",
          "data": {
            "text/plain": [
              "(0.07371892143889236,\n",
              " 0.10585449625736176,\n",
              " 440.07106205987475,\n",
              " 370.450744588005,\n",
              " 69.62031747186973)"
            ]
          },
          "metadata": {},
          "execution_count": 134
        }
      ]
    },
    {
      "cell_type": "markdown",
      "source": [
        "Random Forest"
      ],
      "metadata": {
        "id": "fO6g-5DUQEJZ"
      }
    },
    {
      "cell_type": "code",
      "source": [
        "# Train model\n",
        "rf_model = RandomForestRegressor(random_state=42)\n",
        "rf_model.fit(x_train, y_train)"
      ],
      "metadata": {
        "colab": {
          "base_uri": "https://localhost:8080/",
          "height": 80
        },
        "id": "ChT5qMEpQCvH",
        "outputId": "ed587bdd-cbc9-4a82-9706-3802cff79ece"
      },
      "execution_count": 135,
      "outputs": [
        {
          "output_type": "execute_result",
          "data": {
            "text/plain": [
              "RandomForestRegressor(random_state=42)"
            ],
            "text/html": [
              "<style>#sk-container-id-1 {\n",
              "  /* Definition of color scheme common for light and dark mode */\n",
              "  --sklearn-color-text: #000;\n",
              "  --sklearn-color-text-muted: #666;\n",
              "  --sklearn-color-line: gray;\n",
              "  /* Definition of color scheme for unfitted estimators */\n",
              "  --sklearn-color-unfitted-level-0: #fff5e6;\n",
              "  --sklearn-color-unfitted-level-1: #f6e4d2;\n",
              "  --sklearn-color-unfitted-level-2: #ffe0b3;\n",
              "  --sklearn-color-unfitted-level-3: chocolate;\n",
              "  /* Definition of color scheme for fitted estimators */\n",
              "  --sklearn-color-fitted-level-0: #f0f8ff;\n",
              "  --sklearn-color-fitted-level-1: #d4ebff;\n",
              "  --sklearn-color-fitted-level-2: #b3dbfd;\n",
              "  --sklearn-color-fitted-level-3: cornflowerblue;\n",
              "\n",
              "  /* Specific color for light theme */\n",
              "  --sklearn-color-text-on-default-background: var(--sg-text-color, var(--theme-code-foreground, var(--jp-content-font-color1, black)));\n",
              "  --sklearn-color-background: var(--sg-background-color, var(--theme-background, var(--jp-layout-color0, white)));\n",
              "  --sklearn-color-border-box: var(--sg-text-color, var(--theme-code-foreground, var(--jp-content-font-color1, black)));\n",
              "  --sklearn-color-icon: #696969;\n",
              "\n",
              "  @media (prefers-color-scheme: dark) {\n",
              "    /* Redefinition of color scheme for dark theme */\n",
              "    --sklearn-color-text-on-default-background: var(--sg-text-color, var(--theme-code-foreground, var(--jp-content-font-color1, white)));\n",
              "    --sklearn-color-background: var(--sg-background-color, var(--theme-background, var(--jp-layout-color0, #111)));\n",
              "    --sklearn-color-border-box: var(--sg-text-color, var(--theme-code-foreground, var(--jp-content-font-color1, white)));\n",
              "    --sklearn-color-icon: #878787;\n",
              "  }\n",
              "}\n",
              "\n",
              "#sk-container-id-1 {\n",
              "  color: var(--sklearn-color-text);\n",
              "}\n",
              "\n",
              "#sk-container-id-1 pre {\n",
              "  padding: 0;\n",
              "}\n",
              "\n",
              "#sk-container-id-1 input.sk-hidden--visually {\n",
              "  border: 0;\n",
              "  clip: rect(1px 1px 1px 1px);\n",
              "  clip: rect(1px, 1px, 1px, 1px);\n",
              "  height: 1px;\n",
              "  margin: -1px;\n",
              "  overflow: hidden;\n",
              "  padding: 0;\n",
              "  position: absolute;\n",
              "  width: 1px;\n",
              "}\n",
              "\n",
              "#sk-container-id-1 div.sk-dashed-wrapped {\n",
              "  border: 1px dashed var(--sklearn-color-line);\n",
              "  margin: 0 0.4em 0.5em 0.4em;\n",
              "  box-sizing: border-box;\n",
              "  padding-bottom: 0.4em;\n",
              "  background-color: var(--sklearn-color-background);\n",
              "}\n",
              "\n",
              "#sk-container-id-1 div.sk-container {\n",
              "  /* jupyter's `normalize.less` sets `[hidden] { display: none; }`\n",
              "     but bootstrap.min.css set `[hidden] { display: none !important; }`\n",
              "     so we also need the `!important` here to be able to override the\n",
              "     default hidden behavior on the sphinx rendered scikit-learn.org.\n",
              "     See: https://github.com/scikit-learn/scikit-learn/issues/21755 */\n",
              "  display: inline-block !important;\n",
              "  position: relative;\n",
              "}\n",
              "\n",
              "#sk-container-id-1 div.sk-text-repr-fallback {\n",
              "  display: none;\n",
              "}\n",
              "\n",
              "div.sk-parallel-item,\n",
              "div.sk-serial,\n",
              "div.sk-item {\n",
              "  /* draw centered vertical line to link estimators */\n",
              "  background-image: linear-gradient(var(--sklearn-color-text-on-default-background), var(--sklearn-color-text-on-default-background));\n",
              "  background-size: 2px 100%;\n",
              "  background-repeat: no-repeat;\n",
              "  background-position: center center;\n",
              "}\n",
              "\n",
              "/* Parallel-specific style estimator block */\n",
              "\n",
              "#sk-container-id-1 div.sk-parallel-item::after {\n",
              "  content: \"\";\n",
              "  width: 100%;\n",
              "  border-bottom: 2px solid var(--sklearn-color-text-on-default-background);\n",
              "  flex-grow: 1;\n",
              "}\n",
              "\n",
              "#sk-container-id-1 div.sk-parallel {\n",
              "  display: flex;\n",
              "  align-items: stretch;\n",
              "  justify-content: center;\n",
              "  background-color: var(--sklearn-color-background);\n",
              "  position: relative;\n",
              "}\n",
              "\n",
              "#sk-container-id-1 div.sk-parallel-item {\n",
              "  display: flex;\n",
              "  flex-direction: column;\n",
              "}\n",
              "\n",
              "#sk-container-id-1 div.sk-parallel-item:first-child::after {\n",
              "  align-self: flex-end;\n",
              "  width: 50%;\n",
              "}\n",
              "\n",
              "#sk-container-id-1 div.sk-parallel-item:last-child::after {\n",
              "  align-self: flex-start;\n",
              "  width: 50%;\n",
              "}\n",
              "\n",
              "#sk-container-id-1 div.sk-parallel-item:only-child::after {\n",
              "  width: 0;\n",
              "}\n",
              "\n",
              "/* Serial-specific style estimator block */\n",
              "\n",
              "#sk-container-id-1 div.sk-serial {\n",
              "  display: flex;\n",
              "  flex-direction: column;\n",
              "  align-items: center;\n",
              "  background-color: var(--sklearn-color-background);\n",
              "  padding-right: 1em;\n",
              "  padding-left: 1em;\n",
              "}\n",
              "\n",
              "\n",
              "/* Toggleable style: style used for estimator/Pipeline/ColumnTransformer box that is\n",
              "clickable and can be expanded/collapsed.\n",
              "- Pipeline and ColumnTransformer use this feature and define the default style\n",
              "- Estimators will overwrite some part of the style using the `sk-estimator` class\n",
              "*/\n",
              "\n",
              "/* Pipeline and ColumnTransformer style (default) */\n",
              "\n",
              "#sk-container-id-1 div.sk-toggleable {\n",
              "  /* Default theme specific background. It is overwritten whether we have a\n",
              "  specific estimator or a Pipeline/ColumnTransformer */\n",
              "  background-color: var(--sklearn-color-background);\n",
              "}\n",
              "\n",
              "/* Toggleable label */\n",
              "#sk-container-id-1 label.sk-toggleable__label {\n",
              "  cursor: pointer;\n",
              "  display: flex;\n",
              "  width: 100%;\n",
              "  margin-bottom: 0;\n",
              "  padding: 0.5em;\n",
              "  box-sizing: border-box;\n",
              "  text-align: center;\n",
              "  align-items: start;\n",
              "  justify-content: space-between;\n",
              "  gap: 0.5em;\n",
              "}\n",
              "\n",
              "#sk-container-id-1 label.sk-toggleable__label .caption {\n",
              "  font-size: 0.6rem;\n",
              "  font-weight: lighter;\n",
              "  color: var(--sklearn-color-text-muted);\n",
              "}\n",
              "\n",
              "#sk-container-id-1 label.sk-toggleable__label-arrow:before {\n",
              "  /* Arrow on the left of the label */\n",
              "  content: \"▸\";\n",
              "  float: left;\n",
              "  margin-right: 0.25em;\n",
              "  color: var(--sklearn-color-icon);\n",
              "}\n",
              "\n",
              "#sk-container-id-1 label.sk-toggleable__label-arrow:hover:before {\n",
              "  color: var(--sklearn-color-text);\n",
              "}\n",
              "\n",
              "/* Toggleable content - dropdown */\n",
              "\n",
              "#sk-container-id-1 div.sk-toggleable__content {\n",
              "  max-height: 0;\n",
              "  max-width: 0;\n",
              "  overflow: hidden;\n",
              "  text-align: left;\n",
              "  /* unfitted */\n",
              "  background-color: var(--sklearn-color-unfitted-level-0);\n",
              "}\n",
              "\n",
              "#sk-container-id-1 div.sk-toggleable__content.fitted {\n",
              "  /* fitted */\n",
              "  background-color: var(--sklearn-color-fitted-level-0);\n",
              "}\n",
              "\n",
              "#sk-container-id-1 div.sk-toggleable__content pre {\n",
              "  margin: 0.2em;\n",
              "  border-radius: 0.25em;\n",
              "  color: var(--sklearn-color-text);\n",
              "  /* unfitted */\n",
              "  background-color: var(--sklearn-color-unfitted-level-0);\n",
              "}\n",
              "\n",
              "#sk-container-id-1 div.sk-toggleable__content.fitted pre {\n",
              "  /* unfitted */\n",
              "  background-color: var(--sklearn-color-fitted-level-0);\n",
              "}\n",
              "\n",
              "#sk-container-id-1 input.sk-toggleable__control:checked~div.sk-toggleable__content {\n",
              "  /* Expand drop-down */\n",
              "  max-height: 200px;\n",
              "  max-width: 100%;\n",
              "  overflow: auto;\n",
              "}\n",
              "\n",
              "#sk-container-id-1 input.sk-toggleable__control:checked~label.sk-toggleable__label-arrow:before {\n",
              "  content: \"▾\";\n",
              "}\n",
              "\n",
              "/* Pipeline/ColumnTransformer-specific style */\n",
              "\n",
              "#sk-container-id-1 div.sk-label input.sk-toggleable__control:checked~label.sk-toggleable__label {\n",
              "  color: var(--sklearn-color-text);\n",
              "  background-color: var(--sklearn-color-unfitted-level-2);\n",
              "}\n",
              "\n",
              "#sk-container-id-1 div.sk-label.fitted input.sk-toggleable__control:checked~label.sk-toggleable__label {\n",
              "  background-color: var(--sklearn-color-fitted-level-2);\n",
              "}\n",
              "\n",
              "/* Estimator-specific style */\n",
              "\n",
              "/* Colorize estimator box */\n",
              "#sk-container-id-1 div.sk-estimator input.sk-toggleable__control:checked~label.sk-toggleable__label {\n",
              "  /* unfitted */\n",
              "  background-color: var(--sklearn-color-unfitted-level-2);\n",
              "}\n",
              "\n",
              "#sk-container-id-1 div.sk-estimator.fitted input.sk-toggleable__control:checked~label.sk-toggleable__label {\n",
              "  /* fitted */\n",
              "  background-color: var(--sklearn-color-fitted-level-2);\n",
              "}\n",
              "\n",
              "#sk-container-id-1 div.sk-label label.sk-toggleable__label,\n",
              "#sk-container-id-1 div.sk-label label {\n",
              "  /* The background is the default theme color */\n",
              "  color: var(--sklearn-color-text-on-default-background);\n",
              "}\n",
              "\n",
              "/* On hover, darken the color of the background */\n",
              "#sk-container-id-1 div.sk-label:hover label.sk-toggleable__label {\n",
              "  color: var(--sklearn-color-text);\n",
              "  background-color: var(--sklearn-color-unfitted-level-2);\n",
              "}\n",
              "\n",
              "/* Label box, darken color on hover, fitted */\n",
              "#sk-container-id-1 div.sk-label.fitted:hover label.sk-toggleable__label.fitted {\n",
              "  color: var(--sklearn-color-text);\n",
              "  background-color: var(--sklearn-color-fitted-level-2);\n",
              "}\n",
              "\n",
              "/* Estimator label */\n",
              "\n",
              "#sk-container-id-1 div.sk-label label {\n",
              "  font-family: monospace;\n",
              "  font-weight: bold;\n",
              "  display: inline-block;\n",
              "  line-height: 1.2em;\n",
              "}\n",
              "\n",
              "#sk-container-id-1 div.sk-label-container {\n",
              "  text-align: center;\n",
              "}\n",
              "\n",
              "/* Estimator-specific */\n",
              "#sk-container-id-1 div.sk-estimator {\n",
              "  font-family: monospace;\n",
              "  border: 1px dotted var(--sklearn-color-border-box);\n",
              "  border-radius: 0.25em;\n",
              "  box-sizing: border-box;\n",
              "  margin-bottom: 0.5em;\n",
              "  /* unfitted */\n",
              "  background-color: var(--sklearn-color-unfitted-level-0);\n",
              "}\n",
              "\n",
              "#sk-container-id-1 div.sk-estimator.fitted {\n",
              "  /* fitted */\n",
              "  background-color: var(--sklearn-color-fitted-level-0);\n",
              "}\n",
              "\n",
              "/* on hover */\n",
              "#sk-container-id-1 div.sk-estimator:hover {\n",
              "  /* unfitted */\n",
              "  background-color: var(--sklearn-color-unfitted-level-2);\n",
              "}\n",
              "\n",
              "#sk-container-id-1 div.sk-estimator.fitted:hover {\n",
              "  /* fitted */\n",
              "  background-color: var(--sklearn-color-fitted-level-2);\n",
              "}\n",
              "\n",
              "/* Specification for estimator info (e.g. \"i\" and \"?\") */\n",
              "\n",
              "/* Common style for \"i\" and \"?\" */\n",
              "\n",
              ".sk-estimator-doc-link,\n",
              "a:link.sk-estimator-doc-link,\n",
              "a:visited.sk-estimator-doc-link {\n",
              "  float: right;\n",
              "  font-size: smaller;\n",
              "  line-height: 1em;\n",
              "  font-family: monospace;\n",
              "  background-color: var(--sklearn-color-background);\n",
              "  border-radius: 1em;\n",
              "  height: 1em;\n",
              "  width: 1em;\n",
              "  text-decoration: none !important;\n",
              "  margin-left: 0.5em;\n",
              "  text-align: center;\n",
              "  /* unfitted */\n",
              "  border: var(--sklearn-color-unfitted-level-1) 1pt solid;\n",
              "  color: var(--sklearn-color-unfitted-level-1);\n",
              "}\n",
              "\n",
              ".sk-estimator-doc-link.fitted,\n",
              "a:link.sk-estimator-doc-link.fitted,\n",
              "a:visited.sk-estimator-doc-link.fitted {\n",
              "  /* fitted */\n",
              "  border: var(--sklearn-color-fitted-level-1) 1pt solid;\n",
              "  color: var(--sklearn-color-fitted-level-1);\n",
              "}\n",
              "\n",
              "/* On hover */\n",
              "div.sk-estimator:hover .sk-estimator-doc-link:hover,\n",
              ".sk-estimator-doc-link:hover,\n",
              "div.sk-label-container:hover .sk-estimator-doc-link:hover,\n",
              ".sk-estimator-doc-link:hover {\n",
              "  /* unfitted */\n",
              "  background-color: var(--sklearn-color-unfitted-level-3);\n",
              "  color: var(--sklearn-color-background);\n",
              "  text-decoration: none;\n",
              "}\n",
              "\n",
              "div.sk-estimator.fitted:hover .sk-estimator-doc-link.fitted:hover,\n",
              ".sk-estimator-doc-link.fitted:hover,\n",
              "div.sk-label-container:hover .sk-estimator-doc-link.fitted:hover,\n",
              ".sk-estimator-doc-link.fitted:hover {\n",
              "  /* fitted */\n",
              "  background-color: var(--sklearn-color-fitted-level-3);\n",
              "  color: var(--sklearn-color-background);\n",
              "  text-decoration: none;\n",
              "}\n",
              "\n",
              "/* Span, style for the box shown on hovering the info icon */\n",
              ".sk-estimator-doc-link span {\n",
              "  display: none;\n",
              "  z-index: 9999;\n",
              "  position: relative;\n",
              "  font-weight: normal;\n",
              "  right: .2ex;\n",
              "  padding: .5ex;\n",
              "  margin: .5ex;\n",
              "  width: min-content;\n",
              "  min-width: 20ex;\n",
              "  max-width: 50ex;\n",
              "  color: var(--sklearn-color-text);\n",
              "  box-shadow: 2pt 2pt 4pt #999;\n",
              "  /* unfitted */\n",
              "  background: var(--sklearn-color-unfitted-level-0);\n",
              "  border: .5pt solid var(--sklearn-color-unfitted-level-3);\n",
              "}\n",
              "\n",
              ".sk-estimator-doc-link.fitted span {\n",
              "  /* fitted */\n",
              "  background: var(--sklearn-color-fitted-level-0);\n",
              "  border: var(--sklearn-color-fitted-level-3);\n",
              "}\n",
              "\n",
              ".sk-estimator-doc-link:hover span {\n",
              "  display: block;\n",
              "}\n",
              "\n",
              "/* \"?\"-specific style due to the `<a>` HTML tag */\n",
              "\n",
              "#sk-container-id-1 a.estimator_doc_link {\n",
              "  float: right;\n",
              "  font-size: 1rem;\n",
              "  line-height: 1em;\n",
              "  font-family: monospace;\n",
              "  background-color: var(--sklearn-color-background);\n",
              "  border-radius: 1rem;\n",
              "  height: 1rem;\n",
              "  width: 1rem;\n",
              "  text-decoration: none;\n",
              "  /* unfitted */\n",
              "  color: var(--sklearn-color-unfitted-level-1);\n",
              "  border: var(--sklearn-color-unfitted-level-1) 1pt solid;\n",
              "}\n",
              "\n",
              "#sk-container-id-1 a.estimator_doc_link.fitted {\n",
              "  /* fitted */\n",
              "  border: var(--sklearn-color-fitted-level-1) 1pt solid;\n",
              "  color: var(--sklearn-color-fitted-level-1);\n",
              "}\n",
              "\n",
              "/* On hover */\n",
              "#sk-container-id-1 a.estimator_doc_link:hover {\n",
              "  /* unfitted */\n",
              "  background-color: var(--sklearn-color-unfitted-level-3);\n",
              "  color: var(--sklearn-color-background);\n",
              "  text-decoration: none;\n",
              "}\n",
              "\n",
              "#sk-container-id-1 a.estimator_doc_link.fitted:hover {\n",
              "  /* fitted */\n",
              "  background-color: var(--sklearn-color-fitted-level-3);\n",
              "}\n",
              "</style><div id=\"sk-container-id-1\" class=\"sk-top-container\"><div class=\"sk-text-repr-fallback\"><pre>RandomForestRegressor(random_state=42)</pre><b>In a Jupyter environment, please rerun this cell to show the HTML representation or trust the notebook. <br />On GitHub, the HTML representation is unable to render, please try loading this page with nbviewer.org.</b></div><div class=\"sk-container\" hidden><div class=\"sk-item\"><div class=\"sk-estimator fitted sk-toggleable\"><input class=\"sk-toggleable__control sk-hidden--visually\" id=\"sk-estimator-id-1\" type=\"checkbox\" checked><label for=\"sk-estimator-id-1\" class=\"sk-toggleable__label fitted sk-toggleable__label-arrow\"><div><div>RandomForestRegressor</div></div><div><a class=\"sk-estimator-doc-link fitted\" rel=\"noreferrer\" target=\"_blank\" href=\"https://scikit-learn.org/1.6/modules/generated/sklearn.ensemble.RandomForestRegressor.html\">?<span>Documentation for RandomForestRegressor</span></a><span class=\"sk-estimator-doc-link fitted\">i<span>Fitted</span></span></div></label><div class=\"sk-toggleable__content fitted\"><pre>RandomForestRegressor(random_state=42)</pre></div> </div></div></div></div>"
            ]
          },
          "metadata": {},
          "execution_count": 135
        }
      ]
    },
    {
      "cell_type": "code",
      "source": [
        "# Evaluate model\n",
        "rf_metrics = evaluate_model(rf_model, x_train, y_train, x_test, y_test)\n",
        "print(\"Random Forest Metrics:\")\n",
        "rf_metrics"
      ],
      "metadata": {
        "colab": {
          "base_uri": "https://localhost:8080/"
        },
        "id": "sZA3L4IObIpW",
        "outputId": "862cbe5d-8e8c-46e3-f313-3d6b59c5db5c"
      },
      "execution_count": 136,
      "outputs": [
        {
          "output_type": "stream",
          "name": "stdout",
          "text": [
            "Random Forest Metrics:\n"
          ]
        },
        {
          "output_type": "execute_result",
          "data": {
            "text/plain": [
              "(0.31586694168797214,\n",
              " -0.008333981219770692,\n",
              " 378.20015580108173,\n",
              " 393.39476393129667,\n",
              " 15.194608130214931)"
            ]
          },
          "metadata": {},
          "execution_count": 136
        }
      ]
    },
    {
      "cell_type": "code",
      "source": [
        "# Get feature importances\n",
        "feature_importances = rf_model.feature_importances_\n",
        "\n",
        "# Create a DataFrame for feature importance values\n",
        "feature_importance_df = pd.DataFrame({\n",
        "    'Feature': x.columns,\n",
        "    'Importance': feature_importances\n",
        "})\n",
        "\n",
        "# Sort features by importance\n",
        "feature_importance_df = feature_importance_df.sort_values(by='Importance', ascending=False)\n",
        "\n",
        "# Display the top 10 features\n",
        "print(feature_importance_df.head(10))\n"
      ],
      "metadata": {
        "id": "GZfPu7ePQiBP",
        "outputId": "0f26d55d-98bd-4b66-977d-2ff185b2dc8a",
        "colab": {
          "base_uri": "https://localhost:8080/"
        }
      },
      "execution_count": 137,
      "outputs": [
        {
          "output_type": "stream",
          "name": "stdout",
          "text": [
            "                     Feature  Importance\n",
            "2                       Hour    0.377964\n",
            "1                      Month    0.259477\n",
            "12  Category_jewelry.pendant    0.080887\n",
            "0                       Year    0.080607\n",
            "10  Category_jewelry.earring    0.039899\n",
            "7          Main_color_yellow    0.035742\n",
            "16              Brand_ID_1.0    0.034073\n",
            "13     Category_jewelry.ring    0.029972\n",
            "4          Main_metal_silver    0.019675\n",
            "17              Brand_ID_2.0    0.013431\n"
          ]
        }
      ]
    },
    {
      "cell_type": "markdown",
      "source": [
        "Neural Network"
      ],
      "metadata": {
        "id": "fq7wjTH-TWC9"
      }
    },
    {
      "cell_type": "code",
      "source": [
        "# Build neural network\n",
        "nn_model = Sequential([\n",
        "    Dense(64, activation='relu', input_shape=(x_train.shape[1],)),\n",
        "    Dense(32, activation='relu'),\n",
        "    Dense(1)  # Output layer for regression\n",
        "])\n",
        "\n",
        "# Compile model\n",
        "nn_model.compile(optimizer='adam', loss='mean_squared_error')\n",
        "\n",
        "# Train model\n",
        "history = nn_model.fit(x_train, y_train, epochs=50, batch_size=32, validation_split=0.2, verbose=1)\n",
        "\n",
        "# Evaluate model\n",
        "nn_metrics = evaluate_model(nn_model, x_train, y_train, x_test, y_test)\n",
        "print(\"Neural Network Metrics:\")\n",
        "print(nn_metrics)"
      ],
      "metadata": {
        "id": "DkXxKaxrGdmg",
        "collapsed": true
      },
      "execution_count": null,
      "outputs": []
    },
    {
      "cell_type": "markdown",
      "source": [
        "#MLFLOW"
      ],
      "metadata": {
        "id": "je1FFwk-QfMi"
      }
    },
    {
      "cell_type": "code",
      "source": [
        "# Define the MLflow tracking URI with SQLite\n",
        "MLFLOW_TRACKING_URI = \"sqlite:///mlflow.db\"\n",
        "\n",
        "# Start the MLflow server using subprocess\n",
        "subprocess.Popen([\"mlflow\", \"ui\", \"--backend-store-uri\", MLFLOW_TRACKING_URI, \"--port\", \"5000\"])"
      ],
      "metadata": {
        "colab": {
          "base_uri": "https://localhost:8080/"
        },
        "id": "3nPOyD73RE8o",
        "outputId": "664fc306-3a36-4bc1-9aa8-16f52291aca0"
      },
      "execution_count": null,
      "outputs": [
        {
          "output_type": "execute_result",
          "data": {
            "text/plain": [
              "<Popen: returncode: None args: ['mlflow', 'ui', '--backend-store-uri', 'sqli...>"
            ]
          },
          "metadata": {},
          "execution_count": 47
        }
      ]
    },
    {
      "cell_type": "code",
      "source": [
        "# Set MLflow tracking URI\n",
        "mlflow.set_tracking_uri(MLFLOW_TRACKING_URI)"
      ],
      "metadata": {
        "id": "6AjjY8bHRFBX"
      },
      "execution_count": null,
      "outputs": []
    },
    {
      "cell_type": "code",
      "source": [],
      "metadata": {
        "id": "QIjrCVPERFE6"
      },
      "execution_count": null,
      "outputs": []
    },
    {
      "cell_type": "markdown",
      "source": [
        "MLflow for LR"
      ],
      "metadata": {
        "id": "aPF06940QiJn"
      }
    },
    {
      "cell_type": "code",
      "source": [
        "#!rm -rf mlruns/"
      ],
      "metadata": {
        "id": "0cygb_pDIBo4"
      },
      "execution_count": null,
      "outputs": []
    },
    {
      "cell_type": "code",
      "source": [
        "# Start MLflow tracking\n",
        "mlflow.set_experiment(\"Linear_Regression_Experiment\")\n",
        "\n",
        "with mlflow.start_run():\n",
        "    # Train model\n",
        "    linear_model = LinearRegression()\n",
        "    linear_model.fit(x_train, y_train)\n",
        "\n",
        "    # Evaluate model\n",
        "    train_r2, test_r2, train_rmse, test_rmse, generalization_error = evaluate_model(linear_model, x_train, y_train, x_test, y_test)\n",
        "\n",
        "    # Log model\n",
        "    mlflow.sklearn.log_model(linear_model, \"LinearRegressionModel\")\n",
        "\n",
        "    # Log parameters\n",
        "    mlflow.log_param(\"Model\", \"LinearRegression\")\n",
        "\n",
        "    # Log metrics (fixing metric names)\n",
        "    mlflow.log_metric(\"Train_R2\", float(train_r2))  # Remove special character\n",
        "    mlflow.log_metric(\"Test_R2\", float(test_r2))\n",
        "    mlflow.log_metric(\"Train_RMSE\", float(train_rmse))\n",
        "    mlflow.log_metric(\"Test_RMSE\", float(test_rmse))\n",
        "    mlflow.log_metric(\"Generalization_Error\", float(generalization_error))\n",
        "\n",
        "    print(\"Metrics logged to MLflow successfully.\")\n"
      ],
      "metadata": {
        "id": "aAYliRaVvHxr",
        "outputId": "c46f83d5-f17d-46cf-f87c-9a4eec6d4cba",
        "colab": {
          "base_uri": "https://localhost:8080/"
        }
      },
      "execution_count": null,
      "outputs": [
        {
          "output_type": "stream",
          "name": "stderr",
          "text": [
            "\u001b[31m2025/01/31 18:41:17 WARNING mlflow.models.model: Model logged without a signature and input example. Please set `input_example` parameter when logging the model to auto infer the model signature.\u001b[0m\n"
          ]
        },
        {
          "output_type": "stream",
          "name": "stdout",
          "text": [
            "Metrics logged to MLflow successfully.\n"
          ]
        }
      ]
    },
    {
      "cell_type": "markdown",
      "source": [
        "MLflow for RF"
      ],
      "metadata": {
        "id": "wwWB8llmHQ9L"
      }
    },
    {
      "cell_type": "code",
      "source": [
        "mlflow.set_experiment(\"Random_Forest_Regression_Experiment\")  # Set an experiment name\n",
        "\n",
        "with mlflow.start_run():\n",
        "    # Train the model\n",
        "    rf_model = RandomForestRegressor(random_state=42)\n",
        "    rf_model.fit(x_train, y_train)\n",
        "\n",
        "    # Log parameters\n",
        "    mlflow.log_param(\"random_state\", 42)\n",
        "\n",
        "    # Evaluate model\n",
        "    rf_metrics = evaluate_model(rf_model, x_train, y_train, x_test, y_test)\n",
        "\n",
        "    # Log metrics\n",
        "    mlflow.log_metric(\"Train_R2\", float(train_r2))  # Remove special character\n",
        "    mlflow.log_metric(\"Test_R2\", float(test_r2))\n",
        "    mlflow.log_metric(\"Train_RMSE\", float(train_rmse))\n",
        "    mlflow.log_metric(\"Test_RMSE\", float(test_rmse))\n",
        "    mlflow.log_metric(\"Generalization_Error\", float(generalization_error))\n",
        "\n",
        "    # Log model\n",
        "    mlflow.sklearn.log_model(rf_model, \"random_forest_model\")\n",
        "\n",
        "    print(\"Model logged in MLflow!\")\n"
      ],
      "metadata": {
        "colab": {
          "base_uri": "https://localhost:8080/"
        },
        "id": "5GeJhf5_HQbR",
        "outputId": "ecf64d1d-d239-48fd-fc38-ec164b139689"
      },
      "execution_count": null,
      "outputs": [
        {
          "output_type": "stream",
          "name": "stderr",
          "text": [
            "\u001b[31m2025/01/31 18:42:00 WARNING mlflow.models.model: Model logged without a signature and input example. Please set `input_example` parameter when logging the model to auto infer the model signature.\u001b[0m\n"
          ]
        },
        {
          "output_type": "stream",
          "name": "stdout",
          "text": [
            "Model logged in MLflow!\n"
          ]
        }
      ]
    },
    {
      "cell_type": "markdown",
      "source": [
        "MLflow for ANN\n"
      ],
      "metadata": {
        "id": "syqFGMpGR3nE"
      }
    },
    {
      "cell_type": "code",
      "source": [
        "mlflow.set_experiment(\"Neural_Network_Regression_Experiment\")  # Set experiment name\n",
        "\n",
        "with mlflow.start_run():\n",
        "\n",
        "    # Log hyperparameters\n",
        "    mlflow.log_param(\"optimizer\", \"adam\")\n",
        "    mlflow.log_param(\"loss\", \"mean_squared_error\")\n",
        "    mlflow.log_param(\"epochs\", 50)\n",
        "    mlflow.log_param(\"batch_size\", 32)\n",
        "\n",
        "    # Log metrics\n",
        "    mlflow.log_metric(\"Train_R2\", float(train_r2))  # Remove special character\n",
        "    mlflow.log_metric(\"Test_R2\", float(test_r2))\n",
        "    mlflow.log_metric(\"Train_RMSE\", float(train_rmse))\n",
        "    mlflow.log_metric(\"Test_RMSE\", float(test_rmse))\n",
        "    mlflow.log_metric(\"Generalization_Error\", float(generalization_error))\n",
        "\n",
        "    # Log training loss over epochs\n",
        "    for epoch, loss in enumerate(history.history[\"loss\"]):\n",
        "        mlflow.log_metric(\"training_loss\", loss, step=epoch)\n",
        "\n",
        "    # Log validation loss over epochs\n",
        "    for epoch, val_loss in enumerate(history.history[\"val_loss\"]):\n",
        "        mlflow.log_metric(\"validation_loss\", val_loss, step=epoch)\n",
        "\n",
        "    # Log the model\n",
        "    mlflow.tensorflow.log_model(nn_model, \"neural_network_model\")\n",
        "\n",
        "    print(\"Neural Network model logged in MLflow!\")"
      ],
      "metadata": {
        "colab": {
          "base_uri": "https://localhost:8080/"
        },
        "id": "NGGJ3J2JRS9E",
        "outputId": "5439338f-921e-4a44-ba16-019c75d1acf4"
      },
      "execution_count": null,
      "outputs": [
        {
          "output_type": "stream",
          "name": "stderr",
          "text": [
            "2025/01/31 13:03:39 WARNING mlflow.tensorflow: You are saving a TensorFlow Core model or Keras model without a signature. Inference with mlflow.pyfunc.spark_udf() will not work unless the model's pyfunc representation accepts pandas DataFrames as inference inputs.\n",
            "\u001b[31m2025/01/31 13:03:53 WARNING mlflow.models.model: Model logged without a signature and input example. Please set `input_example` parameter when logging the model to auto infer the model signature.\u001b[0m\n"
          ]
        },
        {
          "output_type": "stream",
          "name": "stdout",
          "text": [
            "Neural Network model logged in MLflow!\n"
          ]
        }
      ]
    },
    {
      "cell_type": "code",
      "source": [
        "#2sOTml5r8sNURqw92vOEM4CrdIb_6ByDD1BVQN9wgTgrAXjRL"
      ],
      "metadata": {
        "id": "6sliq24RRTAC"
      },
      "execution_count": null,
      "outputs": []
    },
    {
      "cell_type": "markdown",
      "source": [
        "#ML TRACKING"
      ],
      "metadata": {
        "id": "pfKYs1R8RWco"
      }
    },
    {
      "cell_type": "code",
      "source": [
        "# Set up ngrok for exposing the MLflow UI\n",
        "print(\"Enter your authtoken, which can be copied from https://dashboard.ngrok.com/auth\")\n",
        "conf.get_default().auth_token = getpass.getpass()"
      ],
      "metadata": {
        "colab": {
          "base_uri": "https://localhost:8080/"
        },
        "id": "T_U4y9BeRTC0",
        "outputId": "2cc63c7a-5f34-4f28-9b58-9dcfb3e52221"
      },
      "execution_count": null,
      "outputs": [
        {
          "name": "stdout",
          "output_type": "stream",
          "text": [
            "Enter your authtoken, which can be copied from https://dashboard.ngrok.com/auth\n",
            "··········\n"
          ]
        }
      ]
    },
    {
      "cell_type": "code",
      "source": [
        "# Expose the MLflow UI on port 5000\n",
        "port = 5000\n",
        "public_url = ngrok.connect(port).public_url\n",
        "print(f' * ngrok tunnel \"{public_url}\" -> \"http://127.0.0.1:{port}\"')"
      ],
      "metadata": {
        "colab": {
          "base_uri": "https://localhost:8080/"
        },
        "id": "7Hbo4evcRTFN",
        "outputId": "5e4fca12-007f-4d27-c4b4-457342d8e428"
      },
      "execution_count": null,
      "outputs": [
        {
          "output_type": "stream",
          "name": "stdout",
          "text": [
            " * ngrok tunnel \"https://4d9a-34-82-113-27.ngrok-free.app\" -> \"http://127.0.0.1:5000\"\n"
          ]
        }
      ]
    },
    {
      "cell_type": "code",
      "source": [],
      "metadata": {
        "id": "a3PvllOioPP_"
      },
      "execution_count": null,
      "outputs": []
    },
    {
      "cell_type": "markdown",
      "source": [
        "#MLFLOW IMPLEMENTATION"
      ],
      "metadata": {
        "id": "NqBCyuB5DKh4"
      }
    },
    {
      "cell_type": "code",
      "source": [
        "\n",
        "# Save the trained model\n",
        "joblib.dump(linear_model, 'jewelry_price_optimizer_linear.pkl')\n"
      ],
      "metadata": {
        "colab": {
          "base_uri": "https://localhost:8080/"
        },
        "id": "AKjIf2cx-I_W",
        "outputId": "cc19c5b1-e049-488c-9bfd-4ac3a1238bb5"
      },
      "execution_count": 139,
      "outputs": [
        {
          "output_type": "execute_result",
          "data": {
            "text/plain": [
              "['jewelry_price_optimizer_linear.pkl']"
            ]
          },
          "metadata": {},
          "execution_count": 139
        }
      ]
    },
    {
      "cell_type": "code",
      "source": [],
      "metadata": {
        "id": "GXE75z37wdHt"
      },
      "execution_count": null,
      "outputs": []
    }
  ]
}